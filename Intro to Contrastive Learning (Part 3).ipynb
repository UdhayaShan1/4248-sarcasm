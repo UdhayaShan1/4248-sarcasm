{
  "nbformat": 4,
  "nbformat_minor": 0,
  "metadata": {
    "colab": {
      "provenance": [],
      "gpuType": "T4"
    },
    "kernelspec": {
      "name": "python3",
      "display_name": "Python 3"
    },
    "language_info": {
      "name": "python"
    },
    "accelerator": "GPU"
  },
  "cells": [
    {
      "cell_type": "markdown",
      "source": [
        "# **Sarcasm Classification: Intro to Contrastive Learning (Part 3)**\n",
        "\n",
        "**Author: Shanmugam Udhaya**\n",
        "\n",
        "*Contact:* [@frostbitepillars](https://t.me/frostbitepillars) for any clarifications  \n",
        "\n",
        "---\n",
        "\n",
        "In **Part 2**, we settled on our feature vector of tf-idf + GloVe + 17 Linguistic Features. We also concluded that linear classifiers can get pretty good results shifting our focus on enhancing our feature vectors.\n",
        "\n",
        "\n",
        "## **New Focus**\n",
        "\n",
        "For deeper, more insightful exploration, we now shift our attention to the **embedding component** of our feature vector.\n",
        "\n",
        "Specifically, we will:\n",
        "- Replace **GloVe** (which uses static embeddings) with **contextual BERT embeddings**\n",
        "- Use the **[CLS] token** from BERT as a sentence representation\n",
        "- Apply **contrastive learning** to fine-tune BERT and learn task-specific embeddings\n",
        "\n",
        "---\n",
        "\n",
        "While achieving higher scores is not the main objective here, we’re also excited to see whether **fine-tuning BERT embeddings via contrastive loss** can lead to measurable performance gains — possibly closing in on or surpassing state-of-the-art models/frameworks.\n",
        "\n",
        "\n",
        "---\n",
        "\n",
        "Skip to BERT CLS w/ Contrastive Learning (Triplet Loss), if you wish to see the code and results for contrastive learning right away.\n",
        "\n",
        "\n",
        "## **What is Contrastive Learning**\n",
        "\n",
        "TLDR, contrastive learning is a technique where a model learns to bring similar items closer and push dissimilar items apart in the embedding space. For our task, we will start by defining similar as having the same labels for now. This will open up room for exploration later on.\n",
        "\n",
        "## **Our Loss Function**\n",
        "\n",
        "We will start with using `TripletMarginLoss` from PyTorch to fine tune our BERT model.\n",
        "\n",
        "Triplet Loss trains a model by comparing three examples: an anchor, a positive (same class), and a negative (different class).\n",
        "It learns to make the anchor closer to the positive and farther from the negative in the embedding space — by at least a margin.\n",
        "\n",
        "## **Summary of Findings**\n",
        "\n",
        "- It improves our results greatly from 0.890 (non fine-tuned BERT CLS) to 0.927.\n",
        "- We will focus on exploring this, specifically\n",
        "  - Trying different loss functions\n",
        "  - Instead of picking random same/opposite label for our anchor-positive-negative triplet, use some similarity metrics instead.\n",
        "  - Visualizing our embedding space to see effects of fine tuning\n",
        "  - ... more as we go on\n",
        "\n"
      ],
      "metadata": {
        "id": "ORE77N5iaNwA"
      }
    },
    {
      "cell_type": "markdown",
      "source": [
        "## Load Data"
      ],
      "metadata": {
        "id": "1nklsLHENr5V"
      }
    },
    {
      "cell_type": "code",
      "execution_count": null,
      "metadata": {
        "colab": {
          "base_uri": "https://localhost:8080/"
        },
        "id": "FPQ52drUTFHv",
        "outputId": "58f46906-daef-49fc-dd33-aa2c8f5bddd9"
      },
      "outputs": [
        {
          "output_type": "stream",
          "name": "stderr",
          "text": [
            "[nltk_data] Downloading package stopwords to /root/nltk_data...\n",
            "[nltk_data]   Unzipping corpora/stopwords.zip.\n",
            "[nltk_data] Downloading package wordnet to /root/nltk_data...\n",
            "[nltk_data] Downloading package punkt to /root/nltk_data...\n",
            "[nltk_data]   Unzipping tokenizers/punkt.zip.\n",
            "[nltk_data] Downloading package averaged_perceptron_tagger to\n",
            "[nltk_data]     /root/nltk_data...\n",
            "[nltk_data]   Unzipping taggers/averaged_perceptron_tagger.zip.\n",
            "[nltk_data] Downloading package averaged_perceptron_tagger_eng to\n",
            "[nltk_data]     /root/nltk_data...\n",
            "[nltk_data]   Unzipping taggers/averaged_perceptron_tagger_eng.zip.\n",
            "[nltk_data] Downloading package punkt_tab to /root/nltk_data...\n",
            "[nltk_data]   Unzipping tokenizers/punkt_tab.zip.\n"
          ]
        }
      ],
      "source": [
        "import pandas as pd\n",
        "import numpy as np\n",
        "import re\n",
        "import string\n",
        "\n",
        "from nltk.corpus import stopwords\n",
        "from nltk.stem import PorterStemmer\n",
        "from nltk.stem import WordNetLemmatizer\n",
        "from nltk import word_tokenize, pos_tag\n",
        "import nltk\n",
        "nltk.download('stopwords')\n",
        "nltk.download('wordnet')\n",
        "nltk.download('punkt')\n",
        "nltk.download('averaged_perceptron_tagger')\n",
        "nltk.download('averaged_perceptron_tagger_eng')\n",
        "nltk.download('punkt_tab')\n",
        "\n",
        "from sklearn.feature_extraction.text import TfidfVectorizer\n",
        "from sklearn.model_selection import train_test_split, GridSearchCV\n",
        "from sklearn.linear_model import LogisticRegression\n",
        "from sklearn.metrics import classification_report, confusion_matrix, f1_score, accuracy_score\n",
        "from sklearn.preprocessing import StandardScaler\n",
        "from collections import Counter"
      ]
    },
    {
      "cell_type": "code",
      "source": [
        "import pandas as pd\n",
        "import numpy as np\n",
        "import torch\n",
        "from transformers import AutoTokenizer, AutoModel # Use AutoModel for hidden states\n",
        "from sklearn.model_selection import train_test_split\n",
        "from sklearn.linear_model import LogisticRegression\n",
        "from sklearn.metrics import f1_score, classification_report, confusion_matrix\n",
        "from sklearn.preprocessing import StandardScaler\n",
        "from sklearn.feature_extraction.text import TfidfVectorizer\n",
        "from scipy.sparse import hstack, csr_matrix"
      ],
      "metadata": {
        "id": "9IJNiQ3RvGgO"
      },
      "execution_count": null,
      "outputs": []
    },
    {
      "cell_type": "code",
      "source": [
        "from tqdm import tqdm"
      ],
      "metadata": {
        "id": "RaiLPeSH0BrU"
      },
      "execution_count": null,
      "outputs": []
    },
    {
      "cell_type": "code",
      "execution_count": null,
      "metadata": {
        "colab": {
          "base_uri": "https://localhost:8080/"
        },
        "id": "WsYRbMbCl3bA",
        "outputId": "843a7389-196f-4b26-85e6-7f2c58924477"
      },
      "outputs": [
        {
          "output_type": "stream",
          "name": "stdout",
          "text": [
            "Downloading...\n",
            "From: https://drive.google.com/uc?id=1eVjlFhPvpgXmj-wH52qAzdIUyHrfs92G\n",
            "To: /content/archive (7).zip\n",
            "100% 3.46M/3.46M [00:00<00:00, 25.1MB/s]\n"
          ]
        }
      ],
      "source": [
        "!gdown 1eVjlFhPvpgXmj-wH52qAzdIUyHrfs92G"
      ]
    },
    {
      "cell_type": "code",
      "source": [
        "!unzip \"archive (7).zip\""
      ],
      "metadata": {
        "colab": {
          "base_uri": "https://localhost:8080/"
        },
        "id": "dTPnvgBZl8OE",
        "outputId": "28ee00d0-89f5-4928-9da4-290be174f786"
      },
      "execution_count": null,
      "outputs": [
        {
          "output_type": "stream",
          "name": "stdout",
          "text": [
            "Archive:  archive (7).zip\n",
            "  inflating: Sarcasm_Headlines_Dataset.json  \n",
            "  inflating: Sarcasm_Headlines_Dataset_v2.json  \n"
          ]
        }
      ]
    },
    {
      "cell_type": "code",
      "source": [
        "import pandas as pd\n",
        "\n",
        "df = pd.read_json(\"Sarcasm_Headlines_Dataset_v2.json\", lines=True)"
      ],
      "metadata": {
        "id": "xw8ttrdEmn92"
      },
      "execution_count": null,
      "outputs": []
    },
    {
      "cell_type": "code",
      "source": [
        "print(df.columns)\n",
        "print(df.isnull().sum())\n",
        "print(Counter(df['is_sarcastic']))\n",
        "print(df.head(10))"
      ],
      "metadata": {
        "colab": {
          "base_uri": "https://localhost:8080/"
        },
        "id": "bKotEXcY-Ape",
        "outputId": "cf366bad-b4f2-43a5-ba98-b952b52c3209"
      },
      "execution_count": null,
      "outputs": [
        {
          "output_type": "stream",
          "name": "stdout",
          "text": [
            "Index(['is_sarcastic', 'headline', 'article_link'], dtype='object')\n",
            "is_sarcastic    0\n",
            "headline        0\n",
            "article_link    0\n",
            "dtype: int64\n",
            "Counter({0: 14985, 1: 13634})\n",
            "   is_sarcastic                                           headline  \\\n",
            "0             1  thirtysomething scientists unveil doomsday clo...   \n",
            "1             0  dem rep. totally nails why congress is falling...   \n",
            "2             0  eat your veggies: 9 deliciously different recipes   \n",
            "3             1  inclement weather prevents liar from getting t...   \n",
            "4             1  mother comes pretty close to using word 'strea...   \n",
            "5             0                               my white inheritance   \n",
            "6             0         5 ways to file your taxes with less stress   \n",
            "7             1  richard branson's global-warming donation near...   \n",
            "8             1  shadow government getting too large to meet in...   \n",
            "9             0                 lots of parents know this scenario   \n",
            "\n",
            "                                        article_link  \n",
            "0  https://www.theonion.com/thirtysomething-scien...  \n",
            "1  https://www.huffingtonpost.com/entry/donna-edw...  \n",
            "2  https://www.huffingtonpost.com/entry/eat-your-...  \n",
            "3  https://local.theonion.com/inclement-weather-p...  \n",
            "4  https://www.theonion.com/mother-comes-pretty-c...  \n",
            "5  https://www.huffingtonpost.com/entry/my-white-...  \n",
            "6  https://www.huffingtonpost.com/entry/5-ways-to...  \n",
            "7  https://www.theonion.com/richard-bransons-glob...  \n",
            "8  https://politics.theonion.com/shadow-governmen...  \n",
            "9  https://www.huffingtonpost.comhttp://pubx.co/6...  \n"
          ]
        }
      ]
    },
    {
      "cell_type": "markdown",
      "source": [
        "## Pre-Processing"
      ],
      "metadata": {
        "id": "pLAfJQ3W-b4E"
      }
    },
    {
      "cell_type": "markdown",
      "source": [
        "### No Pre-Processing at all"
      ],
      "metadata": {
        "id": "DGttj2KWdMsb"
      }
    },
    {
      "cell_type": "code",
      "source": [
        "df['clean_headline'] = df['headline']"
      ],
      "metadata": {
        "id": "tfKLOEeKdJeg"
      },
      "execution_count": null,
      "outputs": []
    },
    {
      "cell_type": "markdown",
      "source": [
        "### With Pre-Processing"
      ],
      "metadata": {
        "id": "XDhJf42edPtb"
      }
    },
    {
      "cell_type": "code",
      "source": [
        "def preprocess_text(text, action, stopword):\n",
        "  #Lower Caps\n",
        "  #text = text.lower()\n",
        "  #Remove Punctuations\n",
        "  #text = text.translate(str.maketrans('', '', string.punctuation))\n",
        "\n",
        "  #https://www.geeksforgeeks.org/text-preprocessing-for-nlp-tasks/\n",
        "    # text = text.lower()  # Lowercase\n",
        "  #text = re.sub(r'\\d+', '', text)  # Remove numbers\n",
        "    #text = text.translate(str.maketrans('', '', string.punctuation))  # Remove punctuation\n",
        "  #text = re.sub(r'\\W', ' ', text)  # Remove special characters\n",
        "    # text = BeautifulSoup(text, \"html.parser\").get_text()  # Remove HTML tags\n",
        "  # Tokenize and remove stopwords\n",
        "  words = word_tokenize(text)\n",
        "  if stopword:\n",
        "    stop_words = set(stopwords.words('english'))\n",
        "    words = [word for word in words if word.lower() not in stop_words]\n",
        "\n",
        "  #If stemming\n",
        "  if action == \"S\":\n",
        "    stemmer = PorterStemmer()\n",
        "    words = [stemmer.stem(word) for word in words]\n",
        "  elif action == \"L\":\n",
        "    lemmatizer = WordNetLemmatizer()\n",
        "    words = [lemmatizer.lemmatize(word) for word in words]\n",
        "  return \" \".join(words)\n",
        "\n",
        "# Apply preprocessing to the text column\n",
        "df['clean_headline'] = df['headline'].apply(lambda text: preprocess_text(text, \"\", False))"
      ],
      "metadata": {
        "id": "wsaM8QL_-B56"
      },
      "execution_count": null,
      "outputs": []
    },
    {
      "cell_type": "code",
      "source": [],
      "metadata": {
        "id": "L2NaEqzF4pjJ"
      },
      "execution_count": null,
      "outputs": []
    },
    {
      "cell_type": "markdown",
      "source": [
        "## Linguistic Features from (feature eng1)"
      ],
      "metadata": {
        "id": "TggX4ptM4tpF"
      }
    },
    {
      "cell_type": "code",
      "source": [
        "def get_pos_counts(text):\n",
        "    \"\"\"\n",
        "    Returns a dictionary with counts of certain POS tags (NOUN, VERB, ADJ, ADV)\n",
        "    \"\"\"\n",
        "    pos_tags = pos_tag(word_tokenize(text))\n",
        "    counts = {\n",
        "        'noun_count': 0,\n",
        "        'verb_count': 0,\n",
        "        'adj_count': 0,\n",
        "        'adv_count': 0\n",
        "    }\n",
        "    for word, tag in pos_tags:\n",
        "        if tag.startswith('NN'):\n",
        "            counts['noun_count'] += 1\n",
        "        elif tag.startswith('VB'):\n",
        "            counts['verb_count'] += 1\n",
        "        elif tag.startswith('JJ'):\n",
        "            counts['adj_count'] += 1\n",
        "        elif tag.startswith('RB'):\n",
        "            counts['adv_count'] += 1\n",
        "    return counts\n",
        "\n",
        "def get_text_length(text):\n",
        "    return len(word_tokenize(text))\n",
        "\n",
        "import spacy\n",
        "nlp = spacy.load(\"en_core_web_sm\")\n",
        "\n",
        "def get_ner_count(text):\n",
        "    doc = nlp(text)\n",
        "    return len(doc.ents)"
      ],
      "metadata": {
        "id": "N845Yq8QriMl"
      },
      "execution_count": null,
      "outputs": []
    },
    {
      "cell_type": "code",
      "source": [
        "df['pos_counts'] = df['clean_headline'].apply(get_pos_counts)\n",
        "df['text_length'] = df['clean_headline'].apply(get_text_length)\n",
        "\n",
        "df['noun_count'] = df['pos_counts'].apply(lambda x: x['noun_count'])\n",
        "df['verb_count'] = df['pos_counts'].apply(lambda x: x['verb_count'])\n",
        "df['adj_count'] = df['pos_counts'].apply(lambda x: x['adj_count'])\n",
        "df['adv_count'] = df['pos_counts'].apply(lambda x: x['adv_count'])"
      ],
      "metadata": {
        "id": "txzV71JJs6L3"
      },
      "execution_count": null,
      "outputs": []
    },
    {
      "cell_type": "code",
      "source": [
        "!pip install textstat"
      ],
      "metadata": {
        "id": "uxv6H1LuxZAH",
        "colab": {
          "base_uri": "https://localhost:8080/"
        },
        "outputId": "8b0ddb83-2bf0-42ee-ba65-5a32bc911b59"
      },
      "execution_count": null,
      "outputs": [
        {
          "output_type": "stream",
          "name": "stdout",
          "text": [
            "Collecting textstat\n",
            "  Downloading textstat-0.7.5-py3-none-any.whl.metadata (15 kB)\n",
            "Collecting pyphen (from textstat)\n",
            "  Downloading pyphen-0.17.2-py3-none-any.whl.metadata (3.2 kB)\n",
            "Collecting cmudict (from textstat)\n",
            "  Downloading cmudict-1.0.32-py3-none-any.whl.metadata (3.6 kB)\n",
            "Requirement already satisfied: setuptools in /usr/local/lib/python3.11/dist-packages (from textstat) (75.2.0)\n",
            "Requirement already satisfied: importlib-metadata>=5 in /usr/local/lib/python3.11/dist-packages (from cmudict->textstat) (8.6.1)\n",
            "Requirement already satisfied: importlib-resources>=5 in /usr/local/lib/python3.11/dist-packages (from cmudict->textstat) (6.5.2)\n",
            "Requirement already satisfied: zipp>=3.20 in /usr/local/lib/python3.11/dist-packages (from importlib-metadata>=5->cmudict->textstat) (3.21.0)\n",
            "Downloading textstat-0.7.5-py3-none-any.whl (105 kB)\n",
            "\u001b[2K   \u001b[90m━━━━━━━━━━━━━━━━━━━━━━━━━━━━━━━━━━━━━━━━\u001b[0m \u001b[32m105.3/105.3 kB\u001b[0m \u001b[31m5.1 MB/s\u001b[0m eta \u001b[36m0:00:00\u001b[0m\n",
            "\u001b[?25hDownloading cmudict-1.0.32-py3-none-any.whl (939 kB)\n",
            "\u001b[2K   \u001b[90m━━━━━━━━━━━━━━━━━━━━━━━━━━━━━━━━━━━━━━━━\u001b[0m \u001b[32m939.4/939.4 kB\u001b[0m \u001b[31m31.1 MB/s\u001b[0m eta \u001b[36m0:00:00\u001b[0m\n",
            "\u001b[?25hDownloading pyphen-0.17.2-py3-none-any.whl (2.1 MB)\n",
            "\u001b[2K   \u001b[90m━━━━━━━━━━━━━━━━━━━━━━━━━━━━━━━━━━━━━━━━\u001b[0m \u001b[32m2.1/2.1 MB\u001b[0m \u001b[31m82.8 MB/s\u001b[0m eta \u001b[36m0:00:00\u001b[0m\n",
            "\u001b[?25hInstalling collected packages: pyphen, cmudict, textstat\n",
            "Successfully installed cmudict-1.0.32 pyphen-0.17.2 textstat-0.7.5\n"
          ]
        }
      ]
    },
    {
      "cell_type": "code",
      "source": [
        "import textstat\n",
        "df['flesch_reading_ease'] = df['clean_headline'].apply(lambda text: textstat.flesch_reading_ease(text))\n",
        "df['dale_chall_score'] = df['clean_headline'].apply(lambda text: textstat.dale_chall_readability_score(text))"
      ],
      "metadata": {
        "id": "yxHndzybxYAc"
      },
      "execution_count": null,
      "outputs": []
    },
    {
      "cell_type": "code",
      "source": [
        "!pip install vaderSentiment"
      ],
      "metadata": {
        "id": "ZecEggrb3G97",
        "colab": {
          "base_uri": "https://localhost:8080/"
        },
        "outputId": "0b080833-d1e4-4a04-af0d-c88cd6f61ab3"
      },
      "execution_count": null,
      "outputs": [
        {
          "output_type": "stream",
          "name": "stdout",
          "text": [
            "Collecting vaderSentiment\n",
            "  Downloading vaderSentiment-3.3.2-py2.py3-none-any.whl.metadata (572 bytes)\n",
            "Requirement already satisfied: requests in /usr/local/lib/python3.11/dist-packages (from vaderSentiment) (2.32.3)\n",
            "Requirement already satisfied: charset-normalizer<4,>=2 in /usr/local/lib/python3.11/dist-packages (from requests->vaderSentiment) (3.4.1)\n",
            "Requirement already satisfied: idna<4,>=2.5 in /usr/local/lib/python3.11/dist-packages (from requests->vaderSentiment) (3.10)\n",
            "Requirement already satisfied: urllib3<3,>=1.21.1 in /usr/local/lib/python3.11/dist-packages (from requests->vaderSentiment) (2.3.0)\n",
            "Requirement already satisfied: certifi>=2017.4.17 in /usr/local/lib/python3.11/dist-packages (from requests->vaderSentiment) (2025.1.31)\n",
            "Downloading vaderSentiment-3.3.2-py2.py3-none-any.whl (125 kB)\n",
            "\u001b[?25l   \u001b[90m━━━━━━━━━━━━━━━━━━━━━━━━━━━━━━━━━━━━━━━━\u001b[0m \u001b[32m0.0/126.0 kB\u001b[0m \u001b[31m?\u001b[0m eta \u001b[36m-:--:--\u001b[0m\r\u001b[2K   \u001b[90m━━━━━━━━━━━━━━━━━━━━━━━━━━━━━━━━━━━━━━━━\u001b[0m \u001b[32m126.0/126.0 kB\u001b[0m \u001b[31m4.1 MB/s\u001b[0m eta \u001b[36m0:00:00\u001b[0m\n",
            "\u001b[?25hInstalling collected packages: vaderSentiment\n",
            "Successfully installed vaderSentiment-3.3.2\n"
          ]
        }
      ]
    },
    {
      "cell_type": "code",
      "source": [
        "from vaderSentiment.vaderSentiment import SentimentIntensityAnalyzer\n",
        "analyzer = SentimentIntensityAnalyzer()\n",
        "df['sentiment_score'] = df['clean_headline'].apply(lambda text: analyzer.polarity_scores(text)['compound'])"
      ],
      "metadata": {
        "id": "ULHVACtS3FgK"
      },
      "execution_count": null,
      "outputs": []
    },
    {
      "cell_type": "code",
      "source": [
        "def count_chars(text):\n",
        "    return len(text)\n",
        "\n",
        "def count_words(text):\n",
        "    return len(text.split())\n",
        "\n",
        "def count_capital_chars(text):\n",
        "  count=0\n",
        "  for i in text:\n",
        "    if i.isupper():\n",
        "      count+=1\n",
        "  return count\n",
        "\n",
        "def count_capital_words(text):\n",
        "    return sum(map(str.isupper,text.split()))\n",
        "\n",
        "def count_unique_words(text):\n",
        "    return len(set(text.split()))\n",
        "\n",
        "def count_exclamation(text):\n",
        "    return text.count(\"!\")\n",
        "\n",
        "df['char_count'] = df['clean_headline'].apply(count_chars)\n",
        "df['capital_char_count'] = df[\"clean_headline\"].apply(lambda x:count_capital_chars(x))\n",
        "df['capital_word_count'] = df[\"clean_headline\"].apply(lambda x:count_capital_words(x))"
      ],
      "metadata": {
        "id": "XZe3PrZS47co"
      },
      "execution_count": null,
      "outputs": []
    },
    {
      "cell_type": "code",
      "source": [
        "df['stopword_count'] = df['clean_headline'].apply(lambda x: len([word for word in x.split() if word in stopwords.words('english')]))\n",
        "df['word_count'] = df['clean_headline'].apply(count_words)\n",
        "df['stopwords_vs_words'] = df['stopword_count']/df['word_count']"
      ],
      "metadata": {
        "id": "qGPaSCRk5TQ4"
      },
      "execution_count": null,
      "outputs": []
    },
    {
      "cell_type": "code",
      "source": [
        "def has_contrastive_conjunction(text):\n",
        "    contrastive_words = {\"but\", \"although\", \"yet\", \"however\", \"though\"}\n",
        "    return int(any(word in text.split() for word in contrastive_words))\n",
        "\n",
        "df['contrastive_marker'] = df['clean_headline'].apply(has_contrastive_conjunction)"
      ],
      "metadata": {
        "id": "C2rKRYaJ5j7w"
      },
      "execution_count": null,
      "outputs": []
    },
    {
      "cell_type": "code",
      "source": [
        "import numpy as np\n",
        "import pandas as pd\n",
        "import textstat\n",
        "import string\n",
        "import nltk\n",
        "from collections import Counter\n",
        "from nltk.tokenize import word_tokenize\n",
        "from nltk.corpus import stopwords, wordnet\n",
        "from textblob import TextBlob\n",
        "from scipy.stats import entropy\n",
        "\n",
        "nltk.download(\"averaged_perceptron_tagger\")\n",
        "nltk.download(\"stopwords\")\n",
        "nltk.download(\"wordnet\")\n",
        "nltk.download(\"punkt\")"
      ],
      "metadata": {
        "id": "qYbw39fZSasQ",
        "colab": {
          "base_uri": "https://localhost:8080/"
        },
        "outputId": "b8440e2e-11c8-43f9-d58f-55e46fb653a4"
      },
      "execution_count": null,
      "outputs": [
        {
          "output_type": "stream",
          "name": "stderr",
          "text": [
            "[nltk_data] Downloading package averaged_perceptron_tagger to\n",
            "[nltk_data]     /root/nltk_data...\n",
            "[nltk_data]   Package averaged_perceptron_tagger is already up-to-\n",
            "[nltk_data]       date!\n",
            "[nltk_data] Downloading package stopwords to /root/nltk_data...\n",
            "[nltk_data]   Package stopwords is already up-to-date!\n",
            "[nltk_data] Downloading package wordnet to /root/nltk_data...\n",
            "[nltk_data]   Package wordnet is already up-to-date!\n",
            "[nltk_data] Downloading package punkt to /root/nltk_data...\n",
            "[nltk_data]   Package punkt is already up-to-date!\n"
          ]
        },
        {
          "output_type": "execute_result",
          "data": {
            "text/plain": [
              "True"
            ]
          },
          "metadata": {},
          "execution_count": 19
        }
      ]
    },
    {
      "cell_type": "code",
      "source": [
        "from scipy.stats import entropy\n",
        "def calculate_entropy(text):\n",
        "    words = word_tokenize(text.lower())\n",
        "    freq_dist = Counter(words)\n",
        "    probs = np.array(list(freq_dist.values())) / sum(freq_dist.values())\n",
        "    return entropy(probs, base=2)  # Shannon Entropy\n",
        "\n",
        "df[\"entropy\"] = df[\"clean_headline\"].apply(calculate_entropy)\n",
        "\n",
        "### 2. **Lexical Diversity (Unique Words / Total Words)**\n",
        "def lexical_diversity(text):\n",
        "    words = word_tokenize(text.lower())\n",
        "    return len(set(words)) / len(words) if len(words) > 0 else 0\n",
        "\n",
        "df[\"lexical_diversity\"] = df[\"clean_headline\"].apply(lexical_diversity)\n",
        "\n",
        "### 6. **Wrong Words (Words Not in WordNet)**\n",
        "def count_wrong_words(text):\n",
        "    words = word_tokenize(text.lower())\n",
        "    return sum(1 for word in words if not wordnet.synsets(word))\n",
        "\n",
        "df[\"wrong_word_count\"] = df[\"clean_headline\"].apply(count_wrong_words)\n",
        "\n",
        "### 7. **Difficult Words (Hard-to-Read Words)**\n",
        "df[\"difficult_word_count\"] = df[\"clean_headline\"].apply(textstat.difficult_words)\n",
        "\n",
        "### 8. **Lengthy Words (Words > 2 Characters)**\n",
        "df[\"lengthy_word_count\"] = df[\"clean_headline\"].apply(lambda words: sum(1 for word in words if len(word) > 2))\n",
        "\n",
        "### 9. **Two-Letter Words**\n",
        "df[\"two_letter_words\"] = df[\"clean_headline\"].apply(lambda words: sum(1 for word in words if len(word) == 2))\n",
        "\n",
        "### 10. **Single-Letter Words**\n",
        "df[\"single_letter_words\"] = df[\"clean_headline\"].apply(lambda words: sum(1 for word in words if len(word) == 1))\n"
      ],
      "metadata": {
        "id": "XYPJRGzAR0yb"
      },
      "execution_count": null,
      "outputs": []
    },
    {
      "cell_type": "code",
      "source": [
        "def detect_incongruity(text):\n",
        "    tokens = word_tokenize(text)\n",
        "    pos_words = 0\n",
        "    neg_words = 0\n",
        "\n",
        "    for word in tokens:\n",
        "        score = analyzer.polarity_scores(word)['compound']\n",
        "        if score >= 0.5:\n",
        "            pos_words += 1\n",
        "        elif score <= -0.5:\n",
        "            neg_words += 1\n",
        "\n",
        "    # Return 1 if both positive and negative words exist → sentiment conflict\n",
        "    return int(pos_words > 0 and neg_words > 0)\n",
        "\n",
        "# Apply to the DataFrame\n",
        "df['sentiment_incongruity'] = df['clean_headline'].apply(detect_incongruity)"
      ],
      "metadata": {
        "id": "zh6xciqX5t3O"
      },
      "execution_count": null,
      "outputs": []
    },
    {
      "cell_type": "code",
      "source": [
        "None+1"
      ],
      "metadata": {
        "colab": {
          "base_uri": "https://localhost:8080/",
          "height": 141
        },
        "id": "wIhFRiAOAM6G",
        "outputId": "c3c0f4d7-b483-495c-e5b7-6be965febf74"
      },
      "execution_count": null,
      "outputs": [
        {
          "output_type": "error",
          "ename": "TypeError",
          "evalue": "unsupported operand type(s) for +: 'NoneType' and 'int'",
          "traceback": [
            "\u001b[0;31m---------------------------------------------------------------------------\u001b[0m",
            "\u001b[0;31mTypeError\u001b[0m                                 Traceback (most recent call last)",
            "\u001b[0;32m<ipython-input-22-dfd85c18edce>\u001b[0m in \u001b[0;36m<cell line: 0>\u001b[0;34m()\u001b[0m\n\u001b[0;32m----> 1\u001b[0;31m \u001b[0;32mNone\u001b[0m\u001b[0;34m+\u001b[0m\u001b[0;36m1\u001b[0m\u001b[0;34m\u001b[0m\u001b[0;34m\u001b[0m\u001b[0m\n\u001b[0m",
            "\u001b[0;31mTypeError\u001b[0m: unsupported operand type(s) for +: 'NoneType' and 'int'"
          ]
        }
      ]
    },
    {
      "cell_type": "markdown",
      "source": [
        "## Learn BERT"
      ],
      "metadata": {
        "id": "COJ2V3AOrLen"
      }
    },
    {
      "cell_type": "markdown",
      "source": [
        "### BERT CLS, no fine tune"
      ],
      "metadata": {
        "id": "vbEXZRrVu8EP"
      }
    },
    {
      "cell_type": "code",
      "source": [
        "from transformers import AutoTokenizer, AutoModel\n",
        "import torch\n",
        "device = torch.device(\"cuda\" if torch.cuda.is_available() else \"cpu\")\n",
        "tokenizer = AutoTokenizer.from_pretrained('bert-base-uncased')\n",
        "model = AutoModel.from_pretrained('bert-base-uncased')\n",
        "model.eval()\n",
        "model.to(device)\n",
        "\n"
      ],
      "metadata": {
        "colab": {
          "base_uri": "https://localhost:8080/"
        },
        "collapsed": true,
        "id": "CzONjAusrk2Y",
        "outputId": "e7bb2aa5-8733-4ce3-b957-5ba206ae491a"
      },
      "execution_count": null,
      "outputs": [
        {
          "output_type": "execute_result",
          "data": {
            "text/plain": [
              "BertModel(\n",
              "  (embeddings): BertEmbeddings(\n",
              "    (word_embeddings): Embedding(30522, 768, padding_idx=0)\n",
              "    (position_embeddings): Embedding(512, 768)\n",
              "    (token_type_embeddings): Embedding(2, 768)\n",
              "    (LayerNorm): LayerNorm((768,), eps=1e-12, elementwise_affine=True)\n",
              "    (dropout): Dropout(p=0.1, inplace=False)\n",
              "  )\n",
              "  (encoder): BertEncoder(\n",
              "    (layer): ModuleList(\n",
              "      (0-11): 12 x BertLayer(\n",
              "        (attention): BertAttention(\n",
              "          (self): BertSdpaSelfAttention(\n",
              "            (query): Linear(in_features=768, out_features=768, bias=True)\n",
              "            (key): Linear(in_features=768, out_features=768, bias=True)\n",
              "            (value): Linear(in_features=768, out_features=768, bias=True)\n",
              "            (dropout): Dropout(p=0.1, inplace=False)\n",
              "          )\n",
              "          (output): BertSelfOutput(\n",
              "            (dense): Linear(in_features=768, out_features=768, bias=True)\n",
              "            (LayerNorm): LayerNorm((768,), eps=1e-12, elementwise_affine=True)\n",
              "            (dropout): Dropout(p=0.1, inplace=False)\n",
              "          )\n",
              "        )\n",
              "        (intermediate): BertIntermediate(\n",
              "          (dense): Linear(in_features=768, out_features=3072, bias=True)\n",
              "          (intermediate_act_fn): GELUActivation()\n",
              "        )\n",
              "        (output): BertOutput(\n",
              "          (dense): Linear(in_features=3072, out_features=768, bias=True)\n",
              "          (LayerNorm): LayerNorm((768,), eps=1e-12, elementwise_affine=True)\n",
              "          (dropout): Dropout(p=0.1, inplace=False)\n",
              "        )\n",
              "      )\n",
              "    )\n",
              "  )\n",
              "  (pooler): BertPooler(\n",
              "    (dense): Linear(in_features=768, out_features=768, bias=True)\n",
              "    (activation): Tanh()\n",
              "  )\n",
              ")"
            ]
          },
          "metadata": {},
          "execution_count": 30
        }
      ]
    },
    {
      "cell_type": "code",
      "source": [
        "# encoded = tokenizer(\"What a great day\", return_tensors='pt', truncation=True, padding=True, max_length=64)\n",
        "# print(encoded)\n",
        "# output = model(**encoded)\n",
        "# print(output.last_hidden_state[:, 0, :].shape)"
      ],
      "metadata": {
        "id": "pYmSLxUfr6xY"
      },
      "execution_count": null,
      "outputs": []
    },
    {
      "cell_type": "code",
      "source": [
        "df['is_sarcastic'] = df['is_sarcastic'].astype(int)\n",
        "df['clean_headline'] = df['clean_headline'].astype(str)"
      ],
      "metadata": {
        "id": "f_60Z1pQsljL"
      },
      "execution_count": null,
      "outputs": []
    },
    {
      "cell_type": "code",
      "source": [
        "def get_cls(texts, batch=32):\n",
        "    model.eval()\n",
        "    cls = []\n",
        "\n",
        "    for i in range(0, len(texts), batch):\n",
        "      batch_texts = texts[i : i+batch]\n",
        "      encoded = tokenizer(batch_texts, return_tensors='pt', truncation=True, padding=True, max_length=64)\n",
        "      with torch.no_grad():\n",
        "        output = model(**encoded.to(device))\n",
        "      cls.append(output.last_hidden_state[:, 0, :].cpu().detach().numpy())\n",
        "\n",
        "      if (i // batch + 1) % 50 == 0: # Print progress every 50 batches\n",
        "        print(f\"  Processed batch {i // batch + 1}/{len(texts) // batch + 1}\")\n",
        "    return np.vstack(cls)\n",
        "X_bert = get_cls(df['clean_headline'].tolist())"
      ],
      "metadata": {
        "id": "8rw1CodXtokV"
      },
      "execution_count": null,
      "outputs": []
    },
    {
      "cell_type": "code",
      "source": [
        "print(X_bert.shape)"
      ],
      "metadata": {
        "colab": {
          "base_uri": "https://localhost:8080/"
        },
        "id": "_PjGP_Tcu5K3",
        "outputId": "3f74fe2f-fa4b-4c91-e20f-1d41f2b3fe4c"
      },
      "execution_count": null,
      "outputs": [
        {
          "output_type": "stream",
          "name": "stdout",
          "text": [
            "(28619, 768)\n"
          ]
        }
      ]
    },
    {
      "cell_type": "code",
      "source": [
        "# 2. Linguistic Features\n",
        "print(\"Extracting linguistic features...\")\n",
        "ling_feature_names = ['text_length', 'noun_count', 'verb_count', 'adj_count', 'adv_count', 'dale_chall_score',\n",
        "                      'sentiment_score', 'char_count', 'capital_char_count', 'capital_word_count',\n",
        "                      'stopword_count', 'stopwords_vs_words', 'contrastive_marker', 'entropy',\n",
        "                      'lexical_diversity', 'sentiment_incongruity', 'difficult_word_count']\n",
        "X_ling = df[ling_feature_names].values\n",
        "print(\"Linguistic features shape:\", X_ling.shape)\n",
        "\n",
        "# 3. Combine BERT [CLS] + Linguistic Features (Dense)\n",
        "print(\"Combining BERT [CLS] and linguistic features...\")\n",
        "X_gling = np.hstack([X_bert, X_ling])\n",
        "print(\"Combined BERT+Ling shape:\", X_gling.shape)\n",
        "y = df['is_sarcastic'].values\n",
        "\n",
        "# --- Train/Test Split ---\n",
        "print(\"Splitting data into train/test sets...\")\n",
        "# Split the combined dense features and labels, keep track of original indices\n",
        "X_train_gling, X_test_gling, Y_train, Y_test, idx_train, idx_test = train_test_split(\n",
        "    X_gling, y, df.index, stratify=y, random_state=42 # Explicit test_size\n",
        ")\n",
        "print(f\"Train features shape: {X_train_gling.shape}, Test features shape: {X_test_gling.shape}\")\n",
        "\n",
        "# --- Feature Scaling ---\n",
        "print(\"Scaling combined BERT+Ling features...\")\n",
        "# Scale the combined BERT+Ling features (fit on train, transform both)\n",
        "scaler = StandardScaler()\n",
        "X_train_scaled = scaler.fit_transform(X_train_gling)\n",
        "X_test_scaled = scaler.transform(X_test_gling)\n",
        "\n",
        "# Convert scaled features to sparse format (optional, but hstack prefers it)\n",
        "X_train_sparse_scaled = csr_matrix(X_train_scaled)\n",
        "X_test_sparse_scaled = csr_matrix(X_test_scaled)\n",
        "print(\"Scaled features shape (sparse):\", X_train_sparse_scaled.shape)\n",
        "\n",
        "# --- TF-IDF Features ---\n",
        "print(\"Generating TF-IDF features...\")\n",
        "tfidf = TfidfVectorizer() # Optional: limit TF-IDF features\n",
        "\n",
        "# Fit TF-IDF on the training text data using the train indices\n",
        "X_train_tfidf = tfidf.fit_transform(df.loc[idx_train, 'clean_headline'])\n",
        "# Transform the test text data using the fitted TF-IDF vectorizer and test indices\n",
        "X_test_tfidf = tfidf.transform(df.loc[idx_test, 'clean_headline'])\n",
        "print(\"TF-IDF Train shape:\", X_train_tfidf.shape)\n",
        "print(\"TF-IDF Test shape:\", X_test_tfidf.shape)\n",
        "\n",
        "# --- Final Feature Combination ---\n",
        "print(\"Combining TF-IDF and Scaled (BERT+Ling) features...\")\n",
        "# Combine TF-IDF + Scaled(BERT+Ling) features using hstack\n",
        "X_train_combined = hstack([X_train_tfidf, X_train_sparse_scaled])\n",
        "X_test_combined = hstack([X_test_tfidf, X_test_sparse_scaled])\n",
        "print(\"Final Combined Train shape:\", X_train_combined.shape)\n",
        "print(\"Final Combined Test shape:\", X_test_combined.shape)\n",
        "\n",
        "# --- Logistic Regression Model ---\n",
        "print(\"\\nTraining Logistic Regression model...\")\n",
        "# Use a solver suitable for potentially large sparse data like liblinear or saga\n",
        "lr = LogisticRegression(class_weight='balanced',max_iter=10000, random_state=42)\n",
        "lr.fit(X_train_combined, Y_train)\n",
        "\n",
        "print(\"\\nEvaluating Logistic Regression model...\")\n",
        "y_pred = lr.predict(X_test_combined)\n",
        "\n",
        "print(\"\\nClassification Report:\")\n",
        "# Use zero_division=0 to handle cases where a class might have no predictions in a batch/split\n",
        "print(classification_report(Y_test, y_pred, zero_division=0))\n",
        "\n",
        "print(\"\\nConfusion Matrix:\")\n",
        "cm = confusion_matrix(Y_test, y_pred, labels=lr.classes_)\n",
        "print(cm)\n",
        "\n",
        "print(f\"\\nMacro F1 Score: {f1_score(Y_test, y_pred, average='macro', zero_division=0):.4f}\")\n",
        "\n",
        "print(\"\\n--- Script Finished ---\")"
      ],
      "metadata": {
        "colab": {
          "base_uri": "https://localhost:8080/"
        },
        "id": "ZzQYEuDYvArP",
        "outputId": "5e5b5421-a5d2-410e-e91d-2043ed9038af"
      },
      "execution_count": null,
      "outputs": [
        {
          "output_type": "stream",
          "name": "stdout",
          "text": [
            "Extracting linguistic features...\n",
            "Linguistic features shape: (28619, 17)\n",
            "Combining BERT [CLS] and linguistic features...\n",
            "Combined BERT+Ling shape: (28619, 785)\n",
            "Splitting data into train/test sets...\n",
            "Train features shape: (21464, 785), Test features shape: (7155, 785)\n",
            "Scaling combined BERT+Ling features...\n",
            "Scaled features shape (sparse): (21464, 785)\n",
            "Generating TF-IDF features...\n",
            "TF-IDF Train shape: (21464, 23183)\n",
            "TF-IDF Test shape: (7155, 23183)\n",
            "Combining TF-IDF and Scaled (BERT+Ling) features...\n",
            "Final Combined Train shape: (21464, 23968)\n",
            "Final Combined Test shape: (7155, 23968)\n",
            "\n",
            "Training Logistic Regression model...\n",
            "\n",
            "Evaluating Logistic Regression model...\n",
            "\n",
            "Classification Report:\n",
            "              precision    recall  f1-score   support\n",
            "\n",
            "           0       0.89      0.89      0.89      3746\n",
            "           1       0.88      0.88      0.88      3409\n",
            "\n",
            "    accuracy                           0.89      7155\n",
            "   macro avg       0.89      0.89      0.89      7155\n",
            "weighted avg       0.89      0.89      0.89      7155\n",
            "\n",
            "\n",
            "Confusion Matrix:\n",
            "[[3351  395]\n",
            " [ 398 3011]]\n",
            "\n",
            "Macro F1 Score: 0.8889\n",
            "\n",
            "--- Script Finished ---\n"
          ]
        }
      ]
    },
    {
      "cell_type": "markdown",
      "source": [
        "### Try fine tuning"
      ],
      "metadata": {
        "id": "G89zWDSJwnZw"
      }
    },
    {
      "cell_type": "code",
      "source": [
        "from transformers import AutoTokenizer, AutoModel, BertForSequenceClassification\n",
        "import torch\n",
        "device = torch.device(\"cuda\" if torch.cuda.is_available() else \"cpu\")\n",
        "tokenizer = AutoTokenizer.from_pretrained('bert-base-uncased')"
      ],
      "metadata": {
        "collapsed": true,
        "id": "cu4kp__UwwYA"
      },
      "execution_count": null,
      "outputs": []
    },
    {
      "cell_type": "code",
      "source": [
        "df['is_sarcastic'] = df['is_sarcastic'].astype(int)\n",
        "df['clean_headline'] = df['clean_headline'].astype(str)"
      ],
      "metadata": {
        "id": "YIKAdN5ZwwYC"
      },
      "execution_count": null,
      "outputs": []
    },
    {
      "cell_type": "code",
      "source": [
        "train_texts, val_texts, train_labels, val_labels = train_test_split(\n",
        "    df['clean_headline'].tolist(),\n",
        "    df['is_sarcastic'].tolist(), random_state=42)"
      ],
      "metadata": {
        "id": "eBbRVcikw_pT"
      },
      "execution_count": null,
      "outputs": []
    },
    {
      "cell_type": "code",
      "source": [
        "train_encodings = tokenizer(train_texts, truncation=True, padding=True, max_length=64, return_tensors=\"pt\")\n",
        "val_encodings = tokenizer(val_texts, truncation=True, padding=True, max_length=64, return_tensors=\"pt\")"
      ],
      "metadata": {
        "id": "0usJGtkMxHzk"
      },
      "execution_count": null,
      "outputs": []
    },
    {
      "cell_type": "code",
      "source": [
        "class SarcasmDataset(torch.utils.data.Dataset):\n",
        "    def __init__(self, encodings, labels):\n",
        "        self.encodings = encodings\n",
        "        self.labels = labels\n",
        "    def __len__(self):\n",
        "        return len(self.labels)\n",
        "    def __getitem__(self, idx):\n",
        "        item = {key: val[idx] for key, val in self.encodings.items()}\n",
        "        item['labels'] = torch.tensor(self.labels[idx])\n",
        "        return item"
      ],
      "metadata": {
        "id": "aImrsEdhxTYH"
      },
      "execution_count": null,
      "outputs": []
    },
    {
      "cell_type": "code",
      "source": [
        "train_dataset = SarcasmDataset(train_encodings, train_labels)\n",
        "val_dataset = SarcasmDataset(val_encodings, val_labels)\n",
        "\n",
        "train_loader = torch.utils.data.DataLoader(train_dataset, batch_size=32, shuffle=True)\n",
        "val_loader = torch.utils.data.DataLoader(val_dataset, batch_size=32, shuffle=False)"
      ],
      "metadata": {
        "id": "1BTtqPzRyA5-"
      },
      "execution_count": null,
      "outputs": []
    },
    {
      "cell_type": "code",
      "source": [
        "model = BertForSequenceClassification.from_pretrained('bert-base-uncased', num_labels=2)\n",
        "model.to(device)\n"
      ],
      "metadata": {
        "colab": {
          "base_uri": "https://localhost:8080/"
        },
        "collapsed": true,
        "id": "WPayhCHCyGVd",
        "outputId": "b0005fb8-5edd-4596-9ce6-a2dd55a62afc"
      },
      "execution_count": null,
      "outputs": [
        {
          "output_type": "stream",
          "name": "stderr",
          "text": [
            "Some weights of BertForSequenceClassification were not initialized from the model checkpoint at bert-base-uncased and are newly initialized: ['classifier.bias', 'classifier.weight']\n",
            "You should probably TRAIN this model on a down-stream task to be able to use it for predictions and inference.\n"
          ]
        },
        {
          "output_type": "execute_result",
          "data": {
            "text/plain": [
              "BertForSequenceClassification(\n",
              "  (bert): BertModel(\n",
              "    (embeddings): BertEmbeddings(\n",
              "      (word_embeddings): Embedding(30522, 768, padding_idx=0)\n",
              "      (position_embeddings): Embedding(512, 768)\n",
              "      (token_type_embeddings): Embedding(2, 768)\n",
              "      (LayerNorm): LayerNorm((768,), eps=1e-12, elementwise_affine=True)\n",
              "      (dropout): Dropout(p=0.1, inplace=False)\n",
              "    )\n",
              "    (encoder): BertEncoder(\n",
              "      (layer): ModuleList(\n",
              "        (0-11): 12 x BertLayer(\n",
              "          (attention): BertAttention(\n",
              "            (self): BertSdpaSelfAttention(\n",
              "              (query): Linear(in_features=768, out_features=768, bias=True)\n",
              "              (key): Linear(in_features=768, out_features=768, bias=True)\n",
              "              (value): Linear(in_features=768, out_features=768, bias=True)\n",
              "              (dropout): Dropout(p=0.1, inplace=False)\n",
              "            )\n",
              "            (output): BertSelfOutput(\n",
              "              (dense): Linear(in_features=768, out_features=768, bias=True)\n",
              "              (LayerNorm): LayerNorm((768,), eps=1e-12, elementwise_affine=True)\n",
              "              (dropout): Dropout(p=0.1, inplace=False)\n",
              "            )\n",
              "          )\n",
              "          (intermediate): BertIntermediate(\n",
              "            (dense): Linear(in_features=768, out_features=3072, bias=True)\n",
              "            (intermediate_act_fn): GELUActivation()\n",
              "          )\n",
              "          (output): BertOutput(\n",
              "            (dense): Linear(in_features=3072, out_features=768, bias=True)\n",
              "            (LayerNorm): LayerNorm((768,), eps=1e-12, elementwise_affine=True)\n",
              "            (dropout): Dropout(p=0.1, inplace=False)\n",
              "          )\n",
              "        )\n",
              "      )\n",
              "    )\n",
              "    (pooler): BertPooler(\n",
              "      (dense): Linear(in_features=768, out_features=768, bias=True)\n",
              "      (activation): Tanh()\n",
              "    )\n",
              "  )\n",
              "  (dropout): Dropout(p=0.1, inplace=False)\n",
              "  (classifier): Linear(in_features=768, out_features=2, bias=True)\n",
              ")"
            ]
          },
          "metadata": {},
          "execution_count": 113
        }
      ]
    },
    {
      "cell_type": "code",
      "source": [
        "tmp = None\n",
        "for i in train_loader:\n",
        "  tmp = i\n",
        "  break\n",
        "tmp = {key : val.to(device) for key, val in tmp.items()}\n",
        "tmp_output = model(**tmp)\n",
        "print(tmp_output.loss, tmp_output.logits)"
      ],
      "metadata": {
        "colab": {
          "base_uri": "https://localhost:8080/"
        },
        "id": "fkoouAZ8zCx0",
        "outputId": "132b1b94-c636-4be1-8358-5465b01ca059"
      },
      "execution_count": null,
      "outputs": [
        {
          "output_type": "stream",
          "name": "stdout",
          "text": [
            "tensor(0.6974, device='cuda:0', grad_fn=<NllLossBackward0>) tensor([[-0.1309,  0.3917],\n",
            "        [-0.1298,  0.4692],\n",
            "        [-0.2728,  0.3266],\n",
            "        [-0.0640,  0.4453],\n",
            "        [-0.2041,  0.4055],\n",
            "        [-0.2137,  0.4569],\n",
            "        [-0.1976,  0.3999],\n",
            "        [ 0.2075,  0.4831],\n",
            "        [-0.2034,  0.1944],\n",
            "        [-0.1696,  0.3690],\n",
            "        [-0.1014,  0.3658],\n",
            "        [-0.1342,  0.4510],\n",
            "        [ 0.0057,  0.5208],\n",
            "        [-0.1698,  0.4201],\n",
            "        [ 0.0356,  0.4924],\n",
            "        [-0.1845,  0.3946],\n",
            "        [-0.1600,  0.3978],\n",
            "        [-0.2205,  0.3640],\n",
            "        [ 0.0649,  0.3758],\n",
            "        [-0.1205,  0.4736],\n",
            "        [-0.0410,  0.5244],\n",
            "        [-0.1127,  0.3991],\n",
            "        [-0.2573,  0.3993],\n",
            "        [-0.0897,  0.5003],\n",
            "        [-0.0806,  0.4428],\n",
            "        [-0.1186,  0.4258],\n",
            "        [-0.0171,  0.4319],\n",
            "        [-0.1906,  0.3950],\n",
            "        [-0.0635,  0.4733],\n",
            "        [-0.0506,  0.4670],\n",
            "        [-0.1889,  0.3584],\n",
            "        [-0.0382,  0.5123]], device='cuda:0', grad_fn=<AddmmBackward0>)\n"
          ]
        }
      ]
    },
    {
      "cell_type": "code",
      "source": [
        "epochs = 2\n",
        "optimizer = torch.optim.AdamW(model.parameters(), lr=1e-5)"
      ],
      "metadata": {
        "id": "fKIWoLzuznH5"
      },
      "execution_count": null,
      "outputs": []
    },
    {
      "cell_type": "code",
      "source": [
        "def evaluate(model, val_loader, device):\n",
        "  model.eval()\n",
        "  all_preds = []\n",
        "  all_labels = []\n",
        "  with torch.no_grad():\n",
        "    for batch in val_loader:\n",
        "      batch = {key : val.to(device) for key, val in batch.items()}\n",
        "      outputs = model(**batch)\n",
        "      preds = torch.argmax(outputs.logits, dim=1).flatten()\n",
        "      all_preds.extend(preds.cpu().numpy())\n",
        "      all_labels.extend(batch['labels'].cpu().numpy())\n",
        "\n",
        "  print(\"\\nEvaluation Results:\")\n",
        "  print(classification_report(all_labels, all_preds))\n",
        "  print(\"Macro F1 score:\", f1_score(all_labels, all_preds, average='macro'))\n",
        "  return f1_score(all_labels, all_preds, average='macro')"
      ],
      "metadata": {
        "id": "GbBUWYV51UO3"
      },
      "execution_count": null,
      "outputs": []
    },
    {
      "cell_type": "code",
      "source": [
        "for i in range(epochs):\n",
        "  print(f\"Epoch {i+1}/{epochs}\")\n",
        "  model.train()\n",
        "  loop = tqdm(train_loader, leave=True)\n",
        "  for batch in loop:\n",
        "    batch = {key : val.to(device) for key, val in batch.items()}\n",
        "    outputs = model(**batch)\n",
        "    loss = outputs.loss\n",
        "    loss.backward()\n",
        "    optimizer.step()\n",
        "    optimizer.zero_grad()\n",
        "    loop.set_description(f\"Epoch {i+1}\")\n",
        "    loop.set_postfix(loss=loss.item())\n",
        "  print(\"At epoch \", i)\n",
        "  evaluate(model, val_loader, device)\n",
        "\n"
      ],
      "metadata": {
        "colab": {
          "base_uri": "https://localhost:8080/"
        },
        "id": "-cpdAqU4zx-O",
        "outputId": "39382c9a-ba54-471d-d349-b2a503362947"
      },
      "execution_count": null,
      "outputs": [
        {
          "output_type": "stream",
          "name": "stdout",
          "text": [
            "Epoch 1/2\n"
          ]
        },
        {
          "output_type": "stream",
          "name": "stderr",
          "text": [
            "Epoch 1: 100%|██████████| 671/671 [03:33<00:00,  3.14it/s, loss=0.292]\n"
          ]
        },
        {
          "output_type": "stream",
          "name": "stdout",
          "text": [
            "At epoch  0\n",
            "\n",
            "Evaluation Results:\n",
            "              precision    recall  f1-score   support\n",
            "\n",
            "           0       0.86      0.96      0.90      3730\n",
            "           1       0.94      0.83      0.88      3425\n",
            "\n",
            "    accuracy                           0.89      7155\n",
            "   macro avg       0.90      0.89      0.89      7155\n",
            "weighted avg       0.90      0.89      0.89      7155\n",
            "\n",
            "Macro F1 score: 0.8929426377561446\n",
            "Epoch 2/2\n"
          ]
        },
        {
          "output_type": "stream",
          "name": "stderr",
          "text": [
            "Epoch 2: 100%|██████████| 671/671 [03:34<00:00,  3.13it/s, loss=0.0968]\n"
          ]
        },
        {
          "output_type": "stream",
          "name": "stdout",
          "text": [
            "At epoch  1\n",
            "\n",
            "Evaluation Results:\n",
            "              precision    recall  f1-score   support\n",
            "\n",
            "           0       0.93      0.94      0.93      3730\n",
            "           1       0.94      0.92      0.93      3425\n",
            "\n",
            "    accuracy                           0.93      7155\n",
            "   macro avg       0.93      0.93      0.93      7155\n",
            "weighted avg       0.93      0.93      0.93      7155\n",
            "\n",
            "Macro F1 score: 0.9306300943317899\n"
          ]
        }
      ]
    },
    {
      "cell_type": "code",
      "source": [
        "evaluate(model, val_loader, device)\n"
      ],
      "metadata": {
        "colab": {
          "base_uri": "https://localhost:8080/"
        },
        "id": "REWvo10s0W2o",
        "outputId": "301bab39-cf0d-4460-ee0c-67eb72d8ea1f"
      },
      "execution_count": null,
      "outputs": [
        {
          "output_type": "stream",
          "name": "stdout",
          "text": [
            "\n",
            "Evaluation Results:\n",
            "              precision    recall  f1-score   support\n",
            "\n",
            "           0       0.93      0.94      0.93      3730\n",
            "           1       0.94      0.92      0.93      3425\n",
            "\n",
            "    accuracy                           0.93      7155\n",
            "   macro avg       0.93      0.93      0.93      7155\n",
            "weighted avg       0.93      0.93      0.93      7155\n",
            "\n",
            "Macro F1 score: 0.9306300943317899\n"
          ]
        },
        {
          "output_type": "execute_result",
          "data": {
            "text/plain": [
              "0.9306300943317899"
            ]
          },
          "metadata": {},
          "execution_count": 118
        }
      ]
    },
    {
      "cell_type": "code",
      "source": [
        "# 2. Linguistic Features\n",
        "print(\"Extracting linguistic features...\")\n",
        "ling_feature_names = ['text_length', 'noun_count', 'verb_count', 'adj_count', 'adv_count', 'dale_chall_score',\n",
        "                      'sentiment_score', 'char_count', 'capital_char_count', 'capital_word_count',\n",
        "                      'stopword_count', 'stopwords_vs_words', 'contrastive_marker', 'entropy',\n",
        "                      'lexical_diversity', 'sentiment_incongruity', 'difficult_word_count']\n",
        "X_ling = df[ling_feature_names].values\n",
        "print(\"Linguistic features shape:\", X_ling.shape)\n",
        "\n",
        "# 3. Combine BERT [CLS] + Linguistic Features (Dense)\n",
        "print(\"Combining BERT [CLS] and linguistic features...\")\n",
        "X_gling = np.hstack([X_bert, X_ling])\n",
        "print(\"Combined BERT+Ling shape:\", X_gling.shape)\n",
        "y = df['is_sarcastic'].values\n",
        "\n",
        "# --- Train/Test Split ---\n",
        "print(\"Splitting data into train/test sets...\")\n",
        "# Split the combined dense features and labels, keep track of original indices\n",
        "X_train_gling, X_test_gling, Y_train, Y_test, idx_train, idx_test = train_test_split(\n",
        "    X_gling, y, df.index, stratify=y, random_state=42 # Explicit test_size\n",
        ")\n",
        "print(f\"Train features shape: {X_train_gling.shape}, Test features shape: {X_test_gling.shape}\")\n",
        "\n",
        "# --- Feature Scaling ---\n",
        "print(\"Scaling combined BERT+Ling features...\")\n",
        "# Scale the combined BERT+Ling features (fit on train, transform both)\n",
        "scaler = StandardScaler()\n",
        "X_train_scaled = scaler.fit_transform(X_train_gling)\n",
        "X_test_scaled = scaler.transform(X_test_gling)\n",
        "\n",
        "# Convert scaled features to sparse format (optional, but hstack prefers it)\n",
        "X_train_sparse_scaled = csr_matrix(X_train_scaled)\n",
        "X_test_sparse_scaled = csr_matrix(X_test_scaled)\n",
        "print(\"Scaled features shape (sparse):\", X_train_sparse_scaled.shape)\n",
        "\n",
        "# --- TF-IDF Features ---\n",
        "print(\"Generating TF-IDF features...\")\n",
        "tfidf = TfidfVectorizer() # Optional: limit TF-IDF features\n",
        "\n",
        "# Fit TF-IDF on the training text data using the train indices\n",
        "X_train_tfidf = tfidf.fit_transform(df.loc[idx_train, 'clean_headline'])\n",
        "# Transform the test text data using the fitted TF-IDF vectorizer and test indices\n",
        "X_test_tfidf = tfidf.transform(df.loc[idx_test, 'clean_headline'])\n",
        "print(\"TF-IDF Train shape:\", X_train_tfidf.shape)\n",
        "print(\"TF-IDF Test shape:\", X_test_tfidf.shape)\n",
        "\n",
        "# --- Final Feature Combination ---\n",
        "print(\"Combining TF-IDF and Scaled (BERT+Ling) features...\")\n",
        "# Combine TF-IDF + Scaled(BERT+Ling) features using hstack\n",
        "X_train_combined = hstack([X_train_tfidf, X_train_sparse_scaled])\n",
        "X_test_combined = hstack([X_test_tfidf, X_test_sparse_scaled])\n",
        "print(\"Final Combined Train shape:\", X_train_combined.shape)\n",
        "print(\"Final Combined Test shape:\", X_test_combined.shape)\n",
        "\n",
        "# --- Logistic Regression Model ---\n",
        "print(\"\\nTraining Logistic Regression model...\")\n",
        "# Use a solver suitable for potentially large sparse data like liblinear or saga\n",
        "lr = LogisticRegression(class_weight='balanced',max_iter=10000, random_state=42)\n",
        "lr.fit(X_train_combined, Y_train)\n",
        "\n",
        "print(\"\\nEvaluating Logistic Regression model...\")\n",
        "y_pred = lr.predict(X_test_combined)\n",
        "\n",
        "print(\"\\nClassification Report:\")\n",
        "# Use zero_division=0 to handle cases where a class might have no predictions in a batch/split\n",
        "print(classification_report(Y_test, y_pred, zero_division=0))\n",
        "\n",
        "print(\"\\nConfusion Matrix:\")\n",
        "cm = confusion_matrix(Y_test, y_pred, labels=lr.classes_)\n",
        "print(cm)\n",
        "\n",
        "print(f\"\\nMacro F1 Score: {f1_score(Y_test, y_pred, average='macro', zero_division=0):.4f}\")\n",
        "\n",
        "print(\"\\n--- Script Finished ---\")"
      ],
      "metadata": {
        "colab": {
          "base_uri": "https://localhost:8080/",
          "height": 228
        },
        "id": "JUL798D20iE9",
        "outputId": "a327af06-6155-4329-8b71-b0e6c25c1387"
      },
      "execution_count": null,
      "outputs": [
        {
          "output_type": "stream",
          "name": "stdout",
          "text": [
            "Extracting linguistic features...\n"
          ]
        },
        {
          "output_type": "error",
          "ename": "NameError",
          "evalue": "name 'df' is not defined",
          "traceback": [
            "\u001b[0;31m---------------------------------------------------------------------------\u001b[0m",
            "\u001b[0;31mNameError\u001b[0m                                 Traceback (most recent call last)",
            "\u001b[0;32m<ipython-input-2-53858e8b04dd>\u001b[0m in \u001b[0;36m<cell line: 0>\u001b[0;34m()\u001b[0m\n\u001b[1;32m      5\u001b[0m                       \u001b[0;34m'stopword_count'\u001b[0m\u001b[0;34m,\u001b[0m \u001b[0;34m'stopwords_vs_words'\u001b[0m\u001b[0;34m,\u001b[0m \u001b[0;34m'contrastive_marker'\u001b[0m\u001b[0;34m,\u001b[0m \u001b[0;34m'entropy'\u001b[0m\u001b[0;34m,\u001b[0m\u001b[0;34m\u001b[0m\u001b[0;34m\u001b[0m\u001b[0m\n\u001b[1;32m      6\u001b[0m                       'lexical_diversity', 'sentiment_incongruity', 'difficult_word_count']\n\u001b[0;32m----> 7\u001b[0;31m \u001b[0mX_ling\u001b[0m \u001b[0;34m=\u001b[0m \u001b[0mdf\u001b[0m\u001b[0;34m[\u001b[0m\u001b[0mling_feature_names\u001b[0m\u001b[0;34m]\u001b[0m\u001b[0;34m.\u001b[0m\u001b[0mvalues\u001b[0m\u001b[0;34m\u001b[0m\u001b[0;34m\u001b[0m\u001b[0m\n\u001b[0m\u001b[1;32m      8\u001b[0m \u001b[0mprint\u001b[0m\u001b[0;34m(\u001b[0m\u001b[0;34m\"Linguistic features shape:\"\u001b[0m\u001b[0;34m,\u001b[0m \u001b[0mX_ling\u001b[0m\u001b[0;34m.\u001b[0m\u001b[0mshape\u001b[0m\u001b[0;34m)\u001b[0m\u001b[0;34m\u001b[0m\u001b[0;34m\u001b[0m\u001b[0m\n\u001b[1;32m      9\u001b[0m \u001b[0;34m\u001b[0m\u001b[0m\n",
            "\u001b[0;31mNameError\u001b[0m: name 'df' is not defined"
          ]
        }
      ]
    },
    {
      "cell_type": "code",
      "source": [
        "None+1"
      ],
      "metadata": {
        "colab": {
          "base_uri": "https://localhost:8080/",
          "height": 141
        },
        "id": "3z_GLdDT0r1Y",
        "outputId": "ce79607a-f885-4cd1-ee47-b26880903b7c"
      },
      "execution_count": null,
      "outputs": [
        {
          "output_type": "error",
          "ename": "TypeError",
          "evalue": "unsupported operand type(s) for +: 'NoneType' and 'int'",
          "traceback": [
            "\u001b[0;31m---------------------------------------------------------------------------\u001b[0m",
            "\u001b[0;31mTypeError\u001b[0m                                 Traceback (most recent call last)",
            "\u001b[0;32m<ipython-input-1-dfd85c18edce>\u001b[0m in \u001b[0;36m<cell line: 0>\u001b[0;34m()\u001b[0m\n\u001b[0;32m----> 1\u001b[0;31m \u001b[0;32mNone\u001b[0m\u001b[0;34m+\u001b[0m\u001b[0;36m1\u001b[0m\u001b[0;34m\u001b[0m\u001b[0;34m\u001b[0m\u001b[0m\n\u001b[0m",
            "\u001b[0;31mTypeError\u001b[0m: unsupported operand type(s) for +: 'NoneType' and 'int'"
          ]
        }
      ]
    },
    {
      "cell_type": "markdown",
      "source": [
        "### Try contrastive, triplet loss"
      ],
      "metadata": {
        "id": "9HQWIberDmUH"
      }
    },
    {
      "cell_type": "code",
      "source": [
        "import pandas as pd\n",
        "import numpy as np\n",
        "import torch\n",
        "import torch.nn as nn\n",
        "import torch.optim as optim\n",
        "from torch.utils.data import Dataset, DataLoader\n",
        "from transformers import AutoTokenizer, AutoModel, get_linear_schedule_with_warmup\n",
        "from sklearn.model_selection import train_test_split\n",
        "from sklearn.linear_model import LogisticRegression\n",
        "from sklearn.metrics import f1_score, classification_report, confusion_matrix\n",
        "from sklearn.preprocessing import StandardScaler\n",
        "from sklearn.feature_extraction.text import TfidfVectorizer\n",
        "from scipy.sparse import hstack, csr_matrix\n",
        "import random\n",
        "import time\n",
        "from collections import defaultdict"
      ],
      "metadata": {
        "id": "y-FlQkgDDjty"
      },
      "execution_count": null,
      "outputs": []
    },
    {
      "cell_type": "code",
      "source": [
        "RANDOM_STATE = 42\n",
        "np.random.seed(RANDOM_STATE)\n",
        "torch.manual_seed(RANDOM_STATE)\n",
        "random.seed(RANDOM_STATE)\n",
        "if torch.cuda.is_available():\n",
        "    torch.cuda.manual_seed_all(RANDOM_STATE)"
      ],
      "metadata": {
        "id": "6Mp2MfYXE_LE"
      },
      "execution_count": null,
      "outputs": []
    },
    {
      "cell_type": "code",
      "source": [
        "df['is_sarcastic'] = df['is_sarcastic'].astype(int)\n",
        "df['clean_headline'] = df['clean_headline'].astype(str)\n",
        "# Reset index just in case for proper indexing later\n",
        "df = df.reset_index(drop=True)"
      ],
      "metadata": {
        "id": "t0nNVEfJFFrd"
      },
      "execution_count": null,
      "outputs": []
    },
    {
      "cell_type": "code",
      "source": [
        "print(\"Splitting data into train/test sets...\")\n",
        "train_indices, test_indices = train_test_split(\n",
        "    df.index,\n",
        "    stratify=df['is_sarcastic'],\n",
        "    random_state=RANDOM_STATE\n",
        ")"
      ],
      "metadata": {
        "colab": {
          "base_uri": "https://localhost:8080/"
        },
        "id": "QHcD-yJDFIe0",
        "outputId": "4e43b638-e228-4ebb-c18d-c3675c964691"
      },
      "execution_count": null,
      "outputs": [
        {
          "output_type": "stream",
          "name": "stdout",
          "text": [
            "Splitting data into train/test sets...\n"
          ]
        }
      ]
    },
    {
      "cell_type": "code",
      "source": [
        "df_train = df.loc[train_indices].reset_index(drop=True)\n",
        "df_test = df.loc[test_indices].reset_index(drop=True)\n",
        "y_train = df_train['is_sarcastic'].values\n",
        "y_test = df_test['is_sarcastic'].values"
      ],
      "metadata": {
        "id": "o42SziOsFL0j"
      },
      "execution_count": null,
      "outputs": []
    },
    {
      "cell_type": "code",
      "source": [
        "print(f\"Train set size: {len(df_train)}, Test set size: {len(df_test)}\")"
      ],
      "metadata": {
        "colab": {
          "base_uri": "https://localhost:8080/"
        },
        "id": "LieqC5HNFS1P",
        "outputId": "0f750ae9-945e-4bbf-d5a3-d1edc17de535"
      },
      "execution_count": null,
      "outputs": [
        {
          "output_type": "stream",
          "name": "stdout",
          "text": [
            "Train set size: 21464, Test set size: 7155\n"
          ]
        }
      ]
    },
    {
      "cell_type": "code",
      "source": [
        "tokenizer = AutoTokenizer.from_pretrained('bert-base-uncased')\n",
        "bert_model = AutoModel.from_pretrained('bert-base-uncased')"
      ],
      "metadata": {
        "id": "_fEisBDCFry6"
      },
      "execution_count": null,
      "outputs": []
    },
    {
      "cell_type": "code",
      "source": [
        "device = torch.device(\"cuda\" if torch.cuda.is_available() else \"cpu\")\n",
        "bert_model.to(device)\n",
        "print(f\"Using device: {device}\")"
      ],
      "metadata": {
        "colab": {
          "base_uri": "https://localhost:8080/"
        },
        "id": "rxyfJyDoFuW3",
        "outputId": "b9ddb318-ea61-4087-b864-13b64442a0bd"
      },
      "execution_count": null,
      "outputs": [
        {
          "output_type": "stream",
          "name": "stdout",
          "text": [
            "Using device: cuda\n"
          ]
        }
      ]
    },
    {
      "cell_type": "code",
      "source": [
        "class TripleDataset(Dataset):\n",
        "    def __init__(self, dataframe, tokenizer, max_length):\n",
        "      self.df = dataframe\n",
        "      self.tokenizer = tokenizer\n",
        "      self.max_length = max_length\n",
        "      self.texts = dataframe['clean_headline'].values\n",
        "      self.labels = dataframe['is_sarcastic'].tolist()\n",
        "      self.labels_ind = {}\n",
        "      for i in range(len(self.labels)):\n",
        "        if self.labels[i] not in self.labels_ind:\n",
        "          self.labels_ind[self.labels[i]] = []\n",
        "        self.labels_ind[self.labels[i]].append(i)\n",
        "    def __len__(self):\n",
        "      return len(self.df)\n",
        "    def __getitem__(self, idx):\n",
        "      anchor_text = self.texts[idx]\n",
        "      anchor_label = self.labels[idx]\n",
        "\n",
        "      possible_positive_indices = []\n",
        "      possible_negative_indices = []\n",
        "      for label in self.labels_ind:\n",
        "        if label != anchor_label:\n",
        "          possible_negative_indices.extend(self.labels_ind[label])\n",
        "        else:\n",
        "          for ind in self.labels_ind[label]:\n",
        "            if ind != idx:\n",
        "              possible_positive_indices.append(ind)\n",
        "      positive_index = -1\n",
        "      if len(possible_positive_indices) > 0:\n",
        "        positive_index = random.choice(possible_positive_indices)\n",
        "      else:\n",
        "        positive_index = idx\n",
        "      negative_index = random.choice(possible_negative_indices)\n",
        "\n",
        "      positive_text = self.texts[positive_index]\n",
        "      negative_text = self.texts[negative_index]\n",
        "      anchor_inputs = self.tokenizer(anchor_text, return_tensors='pt', padding='max_length', truncation=True, max_length=self.max_length)\n",
        "      positive_inputs = self.tokenizer(positive_text, return_tensors='pt', padding='max_length', truncation=True, max_length=self.max_length)\n",
        "      negative_inputs = self.tokenizer(negative_text, return_tensors='pt', padding='max_length', truncation=True, max_length=self.max_length)\n",
        "\n",
        "      return {\n",
        "          'anchor': {k: v.squeeze(0) for k, v in anchor_inputs.items()},\n",
        "          'positive': {k: v.squeeze(0) for k, v in positive_inputs.items()},\n",
        "          'negative': {k: v.squeeze(0) for k, v in negative_inputs.items()}\n",
        "      }\n"
      ],
      "metadata": {
        "id": "9jXg3eYmGHa5"
      },
      "execution_count": null,
      "outputs": []
    },
    {
      "cell_type": "code",
      "source": [
        "class BERTContrast(nn.Module):\n",
        "  def __init__(self, bert_model, projection_dim=None):\n",
        "    super(BERTContrast, self).__init__()\n",
        "    self.bert = bert_model\n",
        "    self.projection_dim = projection_dim\n",
        "    self.config = self.bert.config\n",
        "    if self.projection_dim:\n",
        "      self.projection = nn.Sequential(\n",
        "          nn.Linear(self.config.hidden_size, self.config.hidden_size),\n",
        "          nn.ReLU(),\n",
        "          nn.Linear(self.config.hidden_size, self.projection_dim)\n",
        "      )\n",
        "    else:\n",
        "      self.projection = nn.Identity()\n",
        "\n",
        "  def forward(self, input_ids, attention_mask, token_type_ids=None):\n",
        "    outputs = self.bert(input_ids=input_ids, attention_mask=attention_mask, token_type_ids=token_type_ids)\n",
        "    pooled_output = outputs.last_hidden_state[:, 0, :]\n",
        "    projection_output = self.projection(pooled_output)\n",
        "    return projection_output\n",
        "\n"
      ],
      "metadata": {
        "id": "NmR__Zr7JuES"
      },
      "execution_count": null,
      "outputs": []
    },
    {
      "cell_type": "code",
      "source": [
        "train_dataset = TripleDataset(df_train, tokenizer, 128)\n",
        "test_dataset = TripleDataset(df_test, tokenizer, 128)\n",
        "\n",
        "train_loader = DataLoader(train_dataset, batch_size=32, shuffle=True)\n",
        "test_loader = DataLoader(test_dataset, batch_size=32, shuffle=False)"
      ],
      "metadata": {
        "id": "DLsFdaTGKcvq"
      },
      "execution_count": null,
      "outputs": []
    },
    {
      "cell_type": "code",
      "source": [
        "model = BERTContrast(bert_model, projection_dim=256)\n",
        "model.to(device)\n",
        "\n",
        "loss_fn = nn.TripletMarginLoss(margin=0.5)\n",
        "optimizer = optim.AdamW(model.parameters(), lr=2e-5)\n",
        "\n",
        "total_steps = len(train_loader) * 3\n",
        "scheduler = get_linear_schedule_with_warmup(optimizer,\n",
        "                                            num_warmup_steps=0, # You can add warmup steps if needed\n",
        "                                            num_training_steps=total_steps)\n",
        "\n"
      ],
      "metadata": {
        "id": "Wdk3mL2bMart"
      },
      "execution_count": null,
      "outputs": []
    },
    {
      "cell_type": "code",
      "source": [
        "def get_bert_cls_embeddings(texts, model, tokenizer, device, max_length, batch_size):\n",
        "  model.eval()\n",
        "  cls = []\n",
        "  num_batches = (len(texts) + batch_size - 1) // batch_size\n",
        "  for i in range(0, len(texts), batch_size):\n",
        "    batch_texts = texts[i:i+batch_size]\n",
        "    inputs = tokenizer(\n",
        "        batch_texts,\n",
        "        return_tensors='pt',\n",
        "        padding=True,\n",
        "        truncation=True,\n",
        "        max_length=max_length\n",
        "    ).to(device)\n",
        "    with torch.no_grad():\n",
        "      outputs = model(**inputs)\n",
        "    cls_embeddings = outputs.last_hidden_state[:, 0, :]\n",
        "    cls.append(cls_embeddings.cpu().numpy())\n",
        "    if (i // batch_size + 1) % 50 == 0 or (i // batch_size + 1) == num_batches:\n",
        "      print(f\"Processed embedding batch {i // batch_size + 1}/{num_batches}\")\n",
        "  return np.vstack(cls)\n",
        "\n",
        "pre_cls = get_bert_cls_embeddings(df_train['clean_headline'].tolist(), bert_model, tokenizer, device, 128, 32)\n",
        "print(\"Pre BERT [CLS] embeddings shape:\", pre_cls.shape)"
      ],
      "metadata": {
        "colab": {
          "base_uri": "https://localhost:8080/"
        },
        "id": "byi8ZkmrETAp",
        "outputId": "315ab889-7353-4ca5-ada8-a718a96d20de"
      },
      "execution_count": null,
      "outputs": [
        {
          "output_type": "stream",
          "name": "stdout",
          "text": [
            "Processed embedding batch 50/671\n",
            "Processed embedding batch 100/671\n",
            "Processed embedding batch 150/671\n",
            "Processed embedding batch 200/671\n",
            "Processed embedding batch 250/671\n",
            "Processed embedding batch 300/671\n",
            "Processed embedding batch 350/671\n",
            "Processed embedding batch 400/671\n",
            "Processed embedding batch 450/671\n",
            "Processed embedding batch 500/671\n",
            "Processed embedding batch 550/671\n",
            "Processed embedding batch 600/671\n",
            "Processed embedding batch 650/671\n",
            "Processed embedding batch 671/671\n",
            "Pre BERT [CLS] embeddings shape: (21464, 768)\n"
          ]
        }
      ]
    },
    {
      "cell_type": "code",
      "source": [
        "def fine_tune_bert_contrastive(model, train_loader, optimizer, scheduler, loss_fn, device, epochs):\n",
        "    model.train()\n",
        "    start_time = time.time()\n",
        "\n",
        "    for epoch in range(epochs):\n",
        "        epoch_loss = 0.0\n",
        "        epoch_start_time = time.time()\n",
        "        print(f\"\\nEpoch {epoch + 1}/{epochs}\")\n",
        "\n",
        "        for i, batch in enumerate(train_loader):\n",
        "            anchor = {k: v.to(device) for k, v in batch['anchor'].items()}\n",
        "            positive = {k: v.to(device) for k, v in batch['positive'].items()}\n",
        "            negative = {k: v.to(device) for k, v in batch['negative'].items()}\n",
        "\n",
        "            anchor_output = model(**anchor)\n",
        "            positive_output = model(**positive)\n",
        "            negative_output = model(**negative)\n",
        "\n",
        "            loss = loss_fn(anchor_output, positive_output, negative_output)\n",
        "\n",
        "            optimizer.zero_grad()\n",
        "            loss.backward()\n",
        "            optimizer.step()\n",
        "            scheduler.step()\n",
        "\n",
        "            epoch_loss += loss.item()\n",
        "\n",
        "            if (i + 1) % 50 == 0 or i == len(train_loader) - 1:\n",
        "                print(f\"  Batch {i + 1}/{len(train_loader)} | Loss: {loss.item():.4f}\")\n",
        "\n",
        "        epoch_time = time.time() - epoch_start_time\n",
        "        avg_loss = epoch_loss / len(train_loader)\n",
        "        print(f\"Epoch {epoch + 1} finished | Avg Loss: {avg_loss:.4f} | Time: {epoch_time:.2f}s\")\n",
        "\n",
        "    total_time = time.time() - start_time\n",
        "    print(f\"\\nTotal training time: {total_time:.2f}s\")\n"
      ],
      "metadata": {
        "id": "X5R3mHSpM8vg"
      },
      "execution_count": null,
      "outputs": []
    },
    {
      "cell_type": "code",
      "source": [
        "CONTRASTIVE_EPOCHS=1\n",
        "fine_tune_bert_contrastive(model, train_loader, optimizer, scheduler, loss_fn, device, CONTRASTIVE_EPOCHS)"
      ],
      "metadata": {
        "colab": {
          "base_uri": "https://localhost:8080/"
        },
        "id": "3hxSlXiMM0Zw",
        "outputId": "284f60ce-b38d-4d17-9892-516c46f6d2bc"
      },
      "execution_count": null,
      "outputs": [
        {
          "output_type": "stream",
          "name": "stdout",
          "text": [
            "\n",
            "Epoch 1/1\n",
            "  Batch 50/671 | Loss: 0.2576\n",
            "  Batch 100/671 | Loss: 0.1918\n",
            "  Batch 150/671 | Loss: 0.0849\n",
            "  Batch 200/671 | Loss: 0.2115\n",
            "  Batch 250/671 | Loss: 0.1728\n",
            "  Batch 300/671 | Loss: 0.2414\n",
            "  Batch 350/671 | Loss: 0.0915\n",
            "  Batch 400/671 | Loss: 0.1243\n",
            "  Batch 450/671 | Loss: 0.1739\n",
            "  Batch 500/671 | Loss: 0.1410\n",
            "  Batch 550/671 | Loss: 0.0849\n",
            "  Batch 600/671 | Loss: 0.0423\n",
            "  Batch 650/671 | Loss: 0.0949\n",
            "  Batch 671/671 | Loss: 0.0901\n",
            "Epoch 1 finished | Avg Loss: 0.1761 | Time: 1201.51s\n",
            "\n",
            "Total training time: 1201.51s\n"
          ]
        }
      ]
    },
    {
      "cell_type": "code",
      "source": [
        "fine_tuned_base_bert_model = model.bert\n",
        "fine_tuned_base_bert_model.eval()\n",
        "fine_tuned_base_bert_model.to(device)"
      ],
      "metadata": {
        "id": "w8wt4gwKQ0Rw",
        "colab": {
          "base_uri": "https://localhost:8080/"
        },
        "outputId": "4c69c820-a678-430a-e89d-80615d2f05d9"
      },
      "execution_count": null,
      "outputs": [
        {
          "output_type": "execute_result",
          "data": {
            "text/plain": [
              "BertModel(\n",
              "  (embeddings): BertEmbeddings(\n",
              "    (word_embeddings): Embedding(30522, 768, padding_idx=0)\n",
              "    (position_embeddings): Embedding(512, 768)\n",
              "    (token_type_embeddings): Embedding(2, 768)\n",
              "    (LayerNorm): LayerNorm((768,), eps=1e-12, elementwise_affine=True)\n",
              "    (dropout): Dropout(p=0.1, inplace=False)\n",
              "  )\n",
              "  (encoder): BertEncoder(\n",
              "    (layer): ModuleList(\n",
              "      (0-11): 12 x BertLayer(\n",
              "        (attention): BertAttention(\n",
              "          (self): BertSdpaSelfAttention(\n",
              "            (query): Linear(in_features=768, out_features=768, bias=True)\n",
              "            (key): Linear(in_features=768, out_features=768, bias=True)\n",
              "            (value): Linear(in_features=768, out_features=768, bias=True)\n",
              "            (dropout): Dropout(p=0.1, inplace=False)\n",
              "          )\n",
              "          (output): BertSelfOutput(\n",
              "            (dense): Linear(in_features=768, out_features=768, bias=True)\n",
              "            (LayerNorm): LayerNorm((768,), eps=1e-12, elementwise_affine=True)\n",
              "            (dropout): Dropout(p=0.1, inplace=False)\n",
              "          )\n",
              "        )\n",
              "        (intermediate): BertIntermediate(\n",
              "          (dense): Linear(in_features=768, out_features=3072, bias=True)\n",
              "          (intermediate_act_fn): GELUActivation()\n",
              "        )\n",
              "        (output): BertOutput(\n",
              "          (dense): Linear(in_features=3072, out_features=768, bias=True)\n",
              "          (LayerNorm): LayerNorm((768,), eps=1e-12, elementwise_affine=True)\n",
              "          (dropout): Dropout(p=0.1, inplace=False)\n",
              "        )\n",
              "      )\n",
              "    )\n",
              "  )\n",
              "  (pooler): BertPooler(\n",
              "    (dense): Linear(in_features=768, out_features=768, bias=True)\n",
              "    (activation): Tanh()\n",
              "  )\n",
              ")"
            ]
          },
          "metadata": {},
          "execution_count": 64
        }
      ]
    },
    {
      "cell_type": "code",
      "source": [
        "X_bert_train = get_bert_cls_embeddings(df_train['clean_headline'].tolist(), fine_tuned_base_bert_model, tokenizer, device, 128, 32)\n",
        "X_bert_test = get_bert_cls_embeddings(df_test['clean_headline'].tolist(), fine_tuned_base_bert_model, tokenizer, device, 128, 32)\n",
        "print(\"BERT [CLS] embeddings shape:\", X_bert_train.shape)\n",
        "print(\"BERT [CLS] embeddings shape:\", X_bert_test.shape)"
      ],
      "metadata": {
        "id": "Vr_9riHbRMKg",
        "colab": {
          "base_uri": "https://localhost:8080/"
        },
        "outputId": "fb0ed371-fca6-491a-ee80-bfb7b18fe970"
      },
      "execution_count": null,
      "outputs": [
        {
          "output_type": "stream",
          "name": "stdout",
          "text": [
            "Processed embedding batch 50/671\n",
            "Processed embedding batch 100/671\n",
            "Processed embedding batch 150/671\n",
            "Processed embedding batch 200/671\n",
            "Processed embedding batch 250/671\n",
            "Processed embedding batch 300/671\n",
            "Processed embedding batch 350/671\n",
            "Processed embedding batch 400/671\n",
            "Processed embedding batch 450/671\n",
            "Processed embedding batch 500/671\n",
            "Processed embedding batch 550/671\n",
            "Processed embedding batch 600/671\n",
            "Processed embedding batch 650/671\n",
            "Processed embedding batch 671/671\n",
            "Processed embedding batch 50/224\n",
            "Processed embedding batch 100/224\n",
            "Processed embedding batch 150/224\n",
            "Processed embedding batch 200/224\n",
            "Processed embedding batch 224/224\n",
            "BERT [CLS] embeddings shape: (21464, 768)\n",
            "BERT [CLS] embeddings shape: (7155, 768)\n"
          ]
        }
      ]
    },
    {
      "cell_type": "code",
      "source": [
        "def plot_embeddings(embeddings_2d, labels, title):\n",
        "    \"\"\"Plots 2D embeddings with labels.\n",
        "       Assumes embeddings_2d and labels are already aligned and potentially sampled.\"\"\"\n",
        "    plt.figure(figsize=(10, 8))\n",
        "    unique_labels = sorted(np.unique(labels))\n",
        "    colors = plt.cm.rainbow(np.linspace(0, 1, len(unique_labels)))\n",
        "    label_map = {0: 'Not Sarcastic', 1: 'Sarcastic'} # Assuming 0/1 labels\n",
        "\n",
        "    for label, color in zip(unique_labels, colors):\n",
        "        indices = np.where(labels == label)\n",
        "        plt.scatter(embeddings_2d[indices, 0], embeddings_2d[indices, 1],\n",
        "                    c=[color], # Scatter expects a list of colors even for one color\n",
        "                    label=label_map.get(label, f\"Class {label}\"),\n",
        "                    alpha=0.7)\n",
        "\n",
        "    plt.title(title)\n",
        "    plt.xlabel(\"t-SNE Dimension 1\")\n",
        "    plt.ylabel(\"t-SNE Dimension 2\")\n",
        "    plt.legend()\n",
        "    plt.grid(True)\n",
        "    plt.tight_layout()\n",
        "    plt.show() # Use plt.show() for interactive display"
      ],
      "metadata": {
        "id": "cBpNxkc2GCT_"
      },
      "execution_count": null,
      "outputs": []
    },
    {
      "cell_type": "code",
      "source": [
        "import matplotlib.pyplot as plt\n",
        "from sklearn.manifold import TSNE\n",
        "\n",
        "VISUALIZATION_SAMPLE_SIZE = 1000\n",
        "sample_indices = np.random.choice(len(y_test), VISUALIZATION_SAMPLE_SIZE, replace=False)\n",
        "embeddings_before = pre_cls[sample_indices]\n",
        "embeddings_after = X_bert_test[sample_indices]\n",
        "labels_plot = y_test[sample_indices]\n"
      ],
      "metadata": {
        "id": "vdwy23XwFYjM"
      },
      "execution_count": null,
      "outputs": []
    },
    {
      "cell_type": "code",
      "source": [
        "\n",
        "labels_plot = y_test[sample_indices]"
      ],
      "metadata": {
        "id": "TDDjX89gG2-e"
      },
      "execution_count": null,
      "outputs": []
    },
    {
      "cell_type": "code",
      "source": [
        "TSNE_PERPLEXITY = 30 # Typical value for t-SNE\n",
        "TSNE_N_ITER = 300 # Number of iterations for t-SNE optimization\n",
        "VISUALIZATION_SAMPLE_SIZE = 1000 # Reduce if t-SNE is too slow"
      ],
      "metadata": {
        "id": "XhaZuNHGG0Bm"
      },
      "execution_count": null,
      "outputs": []
    },
    {
      "cell_type": "code",
      "source": [
        "tsne_before = TSNE(n_components=2, random_state=RANDOM_STATE, perplexity=TSNE_PERPLEXITY, n_iter=TSNE_N_ITER, verbose=1)\n",
        "# Apply t-SNE to the (potentially sampled) high-dimensional embeddings\n",
        "embeddings_2d_before = tsne_before.fit_transform(embeddings_before)\n",
        "print(\"t-SNE finished for 'before' embeddings.\")\n",
        "# Call plotting function with the 2D embeddings and the corresponding (potentially sampled) labels\n",
        "plot_embeddings(embeddings_2d_before, labels_plot, \"BERT Embeddings BEFORE Contrastive Fine-tuning\")"
      ],
      "metadata": {
        "colab": {
          "base_uri": "https://localhost:8080/",
          "height": 979
        },
        "id": "_1uWlEsTGRNR",
        "outputId": "d85f91f9-1099-4af8-f5f9-78d57f2a90d3"
      },
      "execution_count": null,
      "outputs": [
        {
          "output_type": "stream",
          "name": "stderr",
          "text": [
            "/usr/local/lib/python3.11/dist-packages/sklearn/manifold/_t_sne.py:1164: FutureWarning: 'n_iter' was renamed to 'max_iter' in version 1.5 and will be removed in 1.7.\n",
            "  warnings.warn(\n"
          ]
        },
        {
          "output_type": "stream",
          "name": "stdout",
          "text": [
            "[t-SNE] Computing 91 nearest neighbors...\n",
            "[t-SNE] Indexed 1000 samples in 0.001s...\n",
            "[t-SNE] Computed neighbors for 1000 samples in 0.100s...\n",
            "[t-SNE] Computed conditional probabilities for sample 1000 / 1000\n",
            "[t-SNE] Mean sigma: 2.109726\n",
            "[t-SNE] KL divergence after 250 iterations with early exaggeration: 66.692169\n",
            "[t-SNE] KL divergence after 300 iterations: 1.876951\n",
            "t-SNE finished for 'before' embeddings.\n"
          ]
        },
        {
          "output_type": "display_data",
          "data": {
            "text/plain": [
              "<Figure size 1000x800 with 1 Axes>"
            ],
            "image/png": "[encoded data removed]"
          },
          "metadata": {}
        }
      ]
    },
    {
      "cell_type": "code",
      "source": [
        "tsne_after = TSNE(n_components=2, random_state=RANDOM_STATE, perplexity=TSNE_PERPLEXITY, n_iter=TSNE_N_ITER, verbose=1)\n",
        "# Apply t-SNE to the (potentially sampled) high-dimensional embeddings\n",
        "embeddings_2d_after = tsne_after.fit_transform(embeddings_after)\n",
        "print(\"t-SNE finished for 'after' embeddings.\")\n",
        "# Call plotting function with the 2D embeddings and the corresponding (potentially sampled) labels\n",
        "plot_embeddings(embeddings_2d_after, labels_plot, \"BERT Embeddings AFTER Contrastive Fine-tuning\")"
      ],
      "metadata": {
        "colab": {
          "base_uri": "https://localhost:8080/",
          "height": 979
        },
        "id": "ml4HUUTNGUv9",
        "outputId": "02867ee3-9816-461d-ded2-3c275963e317"
      },
      "execution_count": null,
      "outputs": [
        {
          "output_type": "stream",
          "name": "stderr",
          "text": [
            "/usr/local/lib/python3.11/dist-packages/sklearn/manifold/_t_sne.py:1164: FutureWarning: 'n_iter' was renamed to 'max_iter' in version 1.5 and will be removed in 1.7.\n",
            "  warnings.warn(\n"
          ]
        },
        {
          "output_type": "stream",
          "name": "stdout",
          "text": [
            "[t-SNE] Computing 91 nearest neighbors...\n",
            "[t-SNE] Indexed 1000 samples in 0.002s...\n",
            "[t-SNE] Computed neighbors for 1000 samples in 0.216s...\n",
            "[t-SNE] Computed conditional probabilities for sample 1000 / 1000\n",
            "[t-SNE] Mean sigma: 2.042498\n",
            "[t-SNE] KL divergence after 250 iterations with early exaggeration: 59.658573\n",
            "[t-SNE] KL divergence after 300 iterations: 1.512567\n",
            "t-SNE finished for 'after' embeddings.\n"
          ]
        },
        {
          "output_type": "display_data",
          "data": {
            "text/plain": [
              "<Figure size 1000x800 with 1 Axes>"
            ],
            "image/png": "[encoded data removed]"
          },
          "metadata": {}
        }
      ]
    },
    {
      "cell_type": "code",
      "source": [
        "# 2. Linguistic Features for TRAIN and TEST sets\n",
        "print(\"\\nExtracting linguistic features...\")\n",
        "ling_feature_names = ['text_length', 'noun_count', 'verb_count', 'adj_count', 'adv_count', 'dale_chall_score',\n",
        "                      'sentiment_score', 'char_count', 'capital_char_count', 'capital_word_count',\n",
        "                      'stopword_count', 'stopwords_vs_words', 'contrastive_marker', 'entropy',\n",
        "                      'lexical_diversity', 'sentiment_incongruity', 'difficult_word_count']\n",
        "\n",
        "# Ensure all ling features exist, fill missing with 0 or mean if appropriate\n",
        "for col in ling_feature_names:\n",
        "    if col not in df_train.columns:\n",
        "        print(f\"Warning: Linguistic feature '{col}' not found. Filling with 0.\")\n",
        "        df_train[col] = 0\n",
        "        df_test[col] = 0\n",
        "\n",
        "X_ling_train = df_train[ling_feature_names].values\n",
        "X_ling_test = df_test[ling_feature_names].values\n",
        "print(\"Linguistic TRAIN features shape:\", X_ling_train.shape)\n",
        "print(\"Linguistic TEST features shape:\", X_ling_test.shape)\n",
        "\n",
        "# 3. Combine Fine-tuned BERT [CLS] + Linguistic Features (Dense) for TRAIN and TEST\n",
        "print(\"Combining Fine-tuned BERT [CLS] and linguistic features...\")\n",
        "X_gling_train = np.hstack([X_bert_train, X_ling_train])\n",
        "X_gling_test = np.hstack([X_bert_test, X_ling_test])\n",
        "print(\"Combined BERT+Ling TRAIN shape:\", X_gling_train.shape)\n",
        "print(\"Combined BERT+Ling TEST shape:\", X_gling_test.shape)\n",
        "\n",
        "# --- Feature Scaling (Fit on TRAIN, Transform TRAIN and TEST) ---\n",
        "print(\"Scaling combined BERT+Ling features...\")\n",
        "scaler = StandardScaler()\n",
        "X_train_scaled = scaler.fit_transform(X_gling_train) # Fit ONLY on training data\n",
        "X_test_scaled = scaler.transform(X_gling_test)   # Transform test data\n",
        "\n",
        "# Convert scaled features to sparse format (optional, but hstack prefers it)\n",
        "X_train_sparse_scaled = csr_matrix(X_train_scaled)\n",
        "X_test_sparse_scaled = csr_matrix(X_test_scaled)\n",
        "print(\"Scaled TRAIN features shape (sparse):\", X_train_sparse_scaled.shape)\n",
        "print(\"Scaled TEST features shape (sparse):\", X_test_sparse_scaled.shape)\n",
        "\n",
        "# --- TF-IDF Features (Fit on TRAIN, Transform TRAIN and TEST) ---\n",
        "print(\"Generating TF-IDF features...\")\n",
        "tfidf = TfidfVectorizer() # Optional: limit TF-IDF features (e.g., max_features=5000)\n",
        "\n",
        "# Fit TF-IDF ONLY on the training text data\n",
        "X_train_tfidf = tfidf.fit_transform(df_train['clean_headline'])\n",
        "# Transform the test text data using the fitted TF-IDF vectorizer\n",
        "X_test_tfidf = tfidf.transform(df_test['clean_headline'])\n",
        "print(\"TF-IDF Train shape:\", X_train_tfidf.shape)\n",
        "print(\"TF-IDF Test shape:\", X_test_tfidf.shape)\n",
        "\n",
        "# --- Final Feature Combination ---\n",
        "print(\"Combining TF-IDF and Scaled (Fine-tuned BERT+Ling) features...\")\n",
        "# Combine TF-IDF + Scaled(BERT+Ling) features using hstack\n",
        "X_train_combined = hstack([X_train_tfidf, X_train_sparse_scaled])\n",
        "X_test_combined = hstack([X_test_tfidf, X_test_sparse_scaled])\n",
        "print(\"Final Combined Train shape:\", X_train_combined.shape)\n",
        "print(\"Final Combined Test shape:\", X_test_combined.shape)\n",
        "\n",
        "# --- Logistic Regression Model ---\n",
        "print(\"\\nTraining Logistic Regression model on combined features...\")\n",
        "# Use a solver suitable for potentially large sparse data like liblinear or saga\n",
        "# Increased max_iter substantially for potentially harder convergence with high dimensions\n",
        "lr = LogisticRegression(class_weight='balanced', max_iter=10000, random_state=RANDOM_STATE, solver='liblinear') # liblinear is often good for sparse\n",
        "lr.fit(X_train_combined, y_train) # Use y_train here\n",
        "\n",
        "print(\"\\nEvaluating Logistic Regression model...\")\n",
        "y_pred = lr.predict(X_test_combined)\n",
        "\n",
        "print(\"\\nClassification Report:\")\n",
        "# Use zero_division=0 to handle cases where a class might have no predictions in a batch/split\n",
        "print(classification_report(y_test, y_pred, zero_division=0)) # Use y_test here\n",
        "\n",
        "print(\"\\nConfusion Matrix:\")\n",
        "cm = confusion_matrix(y_test, y_pred, labels=lr.classes_) # Use y_test here\n",
        "print(cm)\n",
        "\n",
        "print(f\"\\nMacro F1 Score: {f1_score(y_test, y_pred, average='macro', zero_division=0):.4f}\") # Use y_test here\n",
        "\n",
        "print(\"\\n--- Script Finished ---\")"
      ],
      "metadata": {
        "id": "uf_g4IgmSVpg",
        "colab": {
          "base_uri": "https://localhost:8080/"
        },
        "outputId": "3443617b-fdfc-4c78-9346-60ac762252dc"
      },
      "execution_count": null,
      "outputs": [
        {
          "output_type": "stream",
          "name": "stdout",
          "text": [
            "\n",
            "Extracting linguistic features...\n",
            "Linguistic TRAIN features shape: (21464, 17)\n",
            "Linguistic TEST features shape: (7155, 17)\n",
            "Combining Fine-tuned BERT [CLS] and linguistic features...\n",
            "Combined BERT+Ling TRAIN shape: (21464, 785)\n",
            "Combined BERT+Ling TEST shape: (7155, 785)\n",
            "Scaling combined BERT+Ling features...\n",
            "Scaled TRAIN features shape (sparse): (21464, 785)\n",
            "Scaled TEST features shape (sparse): (7155, 785)\n",
            "Generating TF-IDF features...\n",
            "TF-IDF Train shape: (21464, 23183)\n",
            "TF-IDF Test shape: (7155, 23183)\n",
            "Combining TF-IDF and Scaled (Fine-tuned BERT+Ling) features...\n",
            "Final Combined Train shape: (21464, 23968)\n",
            "Final Combined Test shape: (7155, 23968)\n",
            "\n",
            "Training Logistic Regression model on combined features...\n",
            "\n",
            "Evaluating Logistic Regression model...\n",
            "\n",
            "Classification Report:\n",
            "              precision    recall  f1-score   support\n",
            "\n",
            "           0       0.92      0.93      0.92      3746\n",
            "           1       0.92      0.91      0.91      3409\n",
            "\n",
            "    accuracy                           0.92      7155\n",
            "   macro avg       0.92      0.92      0.92      7155\n",
            "weighted avg       0.92      0.92      0.92      7155\n",
            "\n",
            "\n",
            "Confusion Matrix:\n",
            "[[3480  266]\n",
            " [ 311 3098]]\n",
            "\n",
            "Macro F1 Score: 0.9191\n",
            "\n",
            "--- Script Finished ---\n"
          ]
        }
      ]
    },
    {
      "cell_type": "code",
      "source": [
        "#Out of curiosity, trying out neural network, not the focus of the notebook tho\n",
        "X_train = torch.tensor(X_train_combined.toarray(), dtype=torch.float32)\n",
        "X_test = torch.tensor(X_test_combined.toarray(), dtype=torch.float32)\n",
        "y_train = torch.tensor(y_train)\n",
        "y_test = torch.tensor(y_test)"
      ],
      "metadata": {
        "colab": {
          "base_uri": "https://localhost:8080/"
        },
        "id": "XSLYxfZxMfro",
        "outputId": "ae15a2cd-e247-4013-fb8c-b733e3767a4f"
      },
      "execution_count": null,
      "outputs": [
        {
          "output_type": "stream",
          "name": "stderr",
          "text": [
            "<ipython-input-88-afa009e88fcf>:3: UserWarning: To copy construct from a tensor, it is recommended to use sourceTensor.clone().detach() or sourceTensor.clone().detach().requires_grad_(True), rather than torch.tensor(sourceTensor).\n",
            "  y_train = torch.tensor(y_train)\n",
            "<ipython-input-88-afa009e88fcf>:4: UserWarning: To copy construct from a tensor, it is recommended to use sourceTensor.clone().detach() or sourceTensor.clone().detach().requires_grad_(True), rather than torch.tensor(sourceTensor).\n",
            "  y_test = torch.tensor(y_test)\n"
          ]
        }
      ]
    },
    {
      "cell_type": "code",
      "source": [
        "from torch.utils.data import TensorDataset, DataLoader\n",
        "train_dataset = TensorDataset(X_train, y_train)\n",
        "test_dataset = TensorDataset(X_test, y_test)\n",
        "train_loader = DataLoader(train_dataset, batch_size=32, shuffle=True)\n",
        "test_loader = DataLoader(test_dataset, batch_size=32, shuffle=False)"
      ],
      "metadata": {
        "id": "TJuJiqBvMsZp"
      },
      "execution_count": null,
      "outputs": []
    },
    {
      "cell_type": "code",
      "source": [
        "class SimpleNN(nn.Module):\n",
        "    def __init__(self, input_dim):\n",
        "        super(SimpleNN, self).__init__()\n",
        "        self.fc1 = nn.Sequential(\n",
        "            nn.Linear(input_dim, 2)\n",
        "        )\n",
        "\n",
        "    def forward(self, x):\n",
        "        x = self.fc1(x)\n",
        "        return x\n"
      ],
      "metadata": {
        "id": "6GJ4Ews8LcOi"
      },
      "execution_count": null,
      "outputs": []
    },
    {
      "cell_type": "code",
      "source": [
        "# class SimpleNN(nn.Module):\n",
        "#     def __init__(self, input_dim):\n",
        "#         super(SimpleNN, self).__init__()\n",
        "#         self.fc1 = nn.Sequential(\n",
        "#             nn.Linear(input_dim, 64),\n",
        "#             nn.ReLU(),\n",
        "#             nn.Dropout(0.3),\n",
        "#             nn.Linear(64, 2)\n",
        "#         )\n",
        "\n",
        "#     def forward(self, x):\n",
        "#         x = self.fc1(x)\n",
        "#         return x\n"
      ],
      "metadata": {
        "id": "jgLO217XnDzg"
      },
      "execution_count": null,
      "outputs": []
    },
    {
      "cell_type": "code",
      "source": [
        "print(X_train_combined.shape[1])\n",
        "model = SimpleNN(X_train_combined.shape[1])\n",
        "model.to(device)\n",
        "print(model(torch.randn(32, X_train_combined.shape[1]).to(device)).shape)"
      ],
      "metadata": {
        "id": "7gryRtWUVWHa",
        "colab": {
          "base_uri": "https://localhost:8080/"
        },
        "outputId": "7b6ab327-1d16-47fa-e9c0-044503229e5d"
      },
      "execution_count": null,
      "outputs": [
        {
          "output_type": "stream",
          "name": "stdout",
          "text": [
            "23968\n",
            "torch.Size([32, 2])\n"
          ]
        }
      ]
    },
    {
      "cell_type": "code",
      "source": [
        "optimizer = optim.Adam(model.parameters(), lr=0.001)\n",
        "loss_fn = nn.CrossEntropyLoss()"
      ],
      "metadata": {
        "id": "nGsmuGDWLffm"
      },
      "execution_count": null,
      "outputs": []
    },
    {
      "cell_type": "code",
      "source": [
        "def evaluate(model, test_loader, verbose, device):\n",
        "  with torch.no_grad():\n",
        "    model.to(device)\n",
        "    model.eval()\n",
        "    y_pred = []\n",
        "    y = []\n",
        "    for input, output in test_loader:\n",
        "      input = input.to(device)\n",
        "      output = output.to(device)\n",
        "      preds = torch.argmax(model(input), dim=1)\n",
        "      y_pred.extend(preds.cpu().numpy())\n",
        "      y.extend(output.cpu().numpy())\n",
        "    if verbose:\n",
        "      pass\n",
        "      # print(classification_report(y, y_pred))\n",
        "      # print(confusion_matrix(y, y_pred))\n",
        "    macro_f1_score = f1_score(y, y_pred, average='macro')\n",
        "    print(f\"Macro Test F1: {macro_f1_score:.4f}\")\n",
        "    return macro_f1_score\n",
        "\n",
        "evaluate(model, test_loader, True, device)\n",
        "\n",
        "\n"
      ],
      "metadata": {
        "id": "vHGHNh4JVsNl",
        "colab": {
          "base_uri": "https://localhost:8080/"
        },
        "outputId": "1c9bafd1-cb9c-4e59-c2a8-7583764c5cbf"
      },
      "execution_count": null,
      "outputs": [
        {
          "output_type": "stream",
          "name": "stdout",
          "text": [
            "Macro Test F1: 0.5594\n"
          ]
        },
        {
          "output_type": "execute_result",
          "data": {
            "text/plain": [
              "0.5594201577065763"
            ]
          },
          "metadata": {},
          "execution_count": 93
        }
      ]
    },
    {
      "cell_type": "code",
      "source": [
        "import torch.optim.lr_scheduler as lr_scheduler\n",
        "\n",
        "scheduler = lr_scheduler.ReduceLROnPlateau(optimizer, mode='max', patience=3, factor=0.5)\n",
        "patience = 8\n",
        "\n",
        "def train(model, train_loader, device, epochs=100):\n",
        "    model.to(device)\n",
        "    best_test_f1 = 0\n",
        "    curr = 0\n",
        "    for i in range(epochs):\n",
        "        model.train()\n",
        "        y = []\n",
        "        y_p = []\n",
        "        running_loss = 0\n",
        "\n",
        "        for input, output in train_loader:\n",
        "            input = input.to(device)\n",
        "            output = output.to(device)\n",
        "\n",
        "            y_pred = model(input)\n",
        "            y_pred_labels = torch.argmax(y_pred, dim=1)\n",
        "\n",
        "            y_p.extend(y_pred_labels.cpu().numpy())\n",
        "            y.extend(output.cpu().numpy())\n",
        "\n",
        "            optimizer.zero_grad()\n",
        "            loss = loss_fn(y_pred, output)\n",
        "            loss.backward()\n",
        "            optimizer.step()\n",
        "\n",
        "            running_loss += loss.item()\n",
        "\n",
        "        macro_train_f1 = f1_score(y, y_p, average='macro')\n",
        "        print(f\"\\nEpoch {i+1}/{epochs}\")\n",
        "        print(f\"Train Loss: {running_loss:.4f}\")\n",
        "        print(f\"Macro Training F1: {macro_train_f1:.4f}\")\n",
        "\n",
        "        # Evaluate on test set\n",
        "        macro_test_f1 = evaluate(model, test_loader, True, device)\n",
        "        scheduler.step(macro_test_f1)\n",
        "\n",
        "        # Print current learning rate\n",
        "        current_lr = optimizer.param_groups[0]['lr']\n",
        "        print(f\"Current Learning Rate: {current_lr:.6f}\")\n",
        "\n",
        "        if macro_test_f1 > best_test_f1:\n",
        "          curr = 0\n",
        "          best_test_f1 = macro_test_f1\n",
        "          print(\"New best model! Saving...\")\n",
        "          torch.save(model.state_dict(), \"best_model.pt\")\n",
        "        else:\n",
        "          curr += 1\n",
        "          if curr >= patience:\n",
        "            print(\"Early Stopping..\")\n",
        "            break\n",
        "\n",
        "\n",
        "train(model, train_loader, device)\n",
        "\n",
        "\n",
        "\n",
        "\n"
      ],
      "metadata": {
        "id": "pv7IJZZ7WQpC",
        "colab": {
          "base_uri": "https://localhost:8080/"
        },
        "outputId": "fe491f11-b787-423b-9b4a-32492afa8af1"
      },
      "execution_count": null,
      "outputs": [
        {
          "output_type": "stream",
          "name": "stdout",
          "text": [
            "\n",
            "Epoch 1/100\n",
            "Train Loss: 73.4831\n",
            "Macro Training F1: 0.9630\n",
            "Macro Test F1: 0.9189\n",
            "Current Learning Rate: 0.001000\n",
            "New best model! Saving...\n",
            "\n",
            "Epoch 2/100\n",
            "Train Loss: 65.2847\n",
            "Macro Training F1: 0.9668\n",
            "Macro Test F1: 0.9201\n",
            "Current Learning Rate: 0.001000\n",
            "New best model! Saving...\n",
            "\n",
            "Epoch 3/100\n",
            "Train Loss: 61.1895\n",
            "Macro Training F1: 0.9683\n",
            "Macro Test F1: 0.9200\n",
            "Current Learning Rate: 0.001000\n",
            "\n",
            "Epoch 4/100\n",
            "Train Loss: 56.9238\n",
            "Macro Training F1: 0.9706\n",
            "Macro Test F1: 0.9226\n",
            "Current Learning Rate: 0.001000\n",
            "New best model! Saving...\n",
            "\n",
            "Epoch 5/100\n",
            "Train Loss: 54.9229\n",
            "Macro Training F1: 0.9720\n",
            "Macro Test F1: 0.9226\n",
            "Current Learning Rate: 0.001000\n",
            "New best model! Saving...\n",
            "\n",
            "Epoch 6/100\n",
            "Train Loss: 51.3872\n",
            "Macro Training F1: 0.9727\n",
            "Macro Test F1: 0.9214\n",
            "Current Learning Rate: 0.001000\n",
            "\n",
            "Epoch 7/100\n",
            "Train Loss: 49.0006\n",
            "Macro Training F1: 0.9750\n",
            "Macro Test F1: 0.9228\n",
            "Current Learning Rate: 0.001000\n",
            "New best model! Saving...\n",
            "\n",
            "Epoch 8/100\n",
            "Train Loss: 46.6166\n",
            "Macro Training F1: 0.9762\n",
            "Macro Test F1: 0.9232\n",
            "Current Learning Rate: 0.001000\n",
            "New best model! Saving...\n",
            "\n",
            "Epoch 9/100\n",
            "Train Loss: 45.1095\n",
            "Macro Training F1: 0.9767\n",
            "Macro Test F1: 0.9170\n",
            "Current Learning Rate: 0.001000\n",
            "\n",
            "Epoch 10/100\n",
            "Train Loss: 43.1924\n",
            "Macro Training F1: 0.9771\n",
            "Macro Test F1: 0.9210\n",
            "Current Learning Rate: 0.001000\n",
            "\n",
            "Epoch 11/100\n",
            "Train Loss: 41.5430\n",
            "Macro Training F1: 0.9773\n",
            "Macro Test F1: 0.9204\n",
            "Current Learning Rate: 0.001000\n",
            "\n",
            "Epoch 12/100\n",
            "Train Loss: 40.2198\n",
            "Macro Training F1: 0.9795\n",
            "Macro Test F1: 0.9226\n",
            "Current Learning Rate: 0.000500\n",
            "\n",
            "Epoch 13/100\n",
            "Train Loss: 34.4985\n",
            "Macro Training F1: 0.9832\n",
            "Macro Test F1: 0.9218\n",
            "Current Learning Rate: 0.000500\n",
            "\n",
            "Epoch 14/100\n",
            "Train Loss: 33.4017\n",
            "Macro Training F1: 0.9840\n",
            "Macro Test F1: 0.9239\n",
            "Current Learning Rate: 0.000500\n",
            "New best model! Saving...\n",
            "\n",
            "Epoch 15/100\n",
            "Train Loss: 32.6059\n",
            "Macro Training F1: 0.9847\n",
            "Macro Test F1: 0.9229\n",
            "Current Learning Rate: 0.000500\n",
            "\n",
            "Epoch 16/100\n",
            "Train Loss: 32.0657\n",
            "Macro Training F1: 0.9843\n",
            "Macro Test F1: 0.9226\n",
            "Current Learning Rate: 0.000500\n",
            "\n",
            "Epoch 17/100\n",
            "Train Loss: 31.6805\n",
            "Macro Training F1: 0.9848\n",
            "Macro Test F1: 0.9236\n",
            "Current Learning Rate: 0.000500\n",
            "\n",
            "Epoch 18/100\n",
            "Train Loss: 30.4935\n",
            "Macro Training F1: 0.9856\n",
            "Macro Test F1: 0.9255\n",
            "Current Learning Rate: 0.000500\n",
            "New best model! Saving...\n",
            "\n",
            "Epoch 19/100\n",
            "Train Loss: 30.0281\n",
            "Macro Training F1: 0.9858\n",
            "Macro Test F1: 0.9237\n",
            "Current Learning Rate: 0.000500\n",
            "\n",
            "Epoch 20/100\n",
            "Train Loss: 29.1606\n",
            "Macro Training F1: 0.9866\n",
            "Macro Test F1: 0.9254\n",
            "Current Learning Rate: 0.000500\n",
            "\n",
            "Epoch 21/100\n",
            "Train Loss: 28.9706\n",
            "Macro Training F1: 0.9861\n",
            "Macro Test F1: 0.9236\n",
            "Current Learning Rate: 0.000500\n",
            "\n",
            "Epoch 22/100\n",
            "Train Loss: 28.0228\n",
            "Macro Training F1: 0.9873\n",
            "Macro Test F1: 0.9220\n",
            "Current Learning Rate: 0.000250\n",
            "\n",
            "Epoch 23/100\n",
            "Train Loss: 25.8667\n",
            "Macro Training F1: 0.9893\n",
            "Macro Test F1: 0.9220\n",
            "Current Learning Rate: 0.000250\n",
            "\n",
            "Epoch 24/100\n",
            "Train Loss: 25.6478\n",
            "Macro Training F1: 0.9887\n",
            "Macro Test F1: 0.9236\n",
            "Current Learning Rate: 0.000250\n",
            "\n",
            "Epoch 25/100\n",
            "Train Loss: 25.3675\n",
            "Macro Training F1: 0.9893\n",
            "Macro Test F1: 0.9241\n",
            "Current Learning Rate: 0.000250\n",
            "\n",
            "Epoch 26/100\n",
            "Train Loss: 25.1603\n",
            "Macro Training F1: 0.9894\n",
            "Macro Test F1: 0.9248\n",
            "Current Learning Rate: 0.000125\n",
            "Early Stopping..\n"
          ]
        }
      ]
    },
    {
      "cell_type": "code",
      "source": [
        "None+1"
      ],
      "metadata": {
        "id": "hkKCbEAeGXIZ"
      },
      "execution_count": null,
      "outputs": []
    },
    {
      "cell_type": "markdown",
      "source": [
        "## BERT CLS Only (recap)"
      ],
      "metadata": {
        "id": "S3MGxeCIulOp"
      }
    },
    {
      "cell_type": "markdown",
      "source": [
        "### Not Fine Tuned"
      ],
      "metadata": {
        "id": "JKWWHGkIxjVC"
      }
    },
    {
      "cell_type": "code",
      "source": [
        "import pandas as pd\n",
        "import numpy as np\n",
        "import torch\n",
        "from transformers import AutoTokenizer, AutoModel # Use AutoModel for hidden states\n",
        "from sklearn.model_selection import train_test_split\n",
        "from sklearn.linear_model import LogisticRegression\n",
        "from sklearn.metrics import f1_score, classification_report, confusion_matrix\n",
        "from sklearn.preprocessing import StandardScaler\n",
        "from sklearn.feature_extraction.text import TfidfVectorizer\n",
        "from scipy.sparse import hstack, csr_matrix\n",
        "\n",
        "# --- Configuration ---\n",
        "BERT_MODEL_NAME = 'bert-base-uncased'\n",
        "MAX_LENGTH = 128\n",
        "BATCH_SIZE = 32\n",
        "RANDOM_STATE = 42\n",
        "\n",
        "df['is_sarcastic'] = df['is_sarcastic'].astype(int)\n",
        "df['clean_headline'] = df['clean_headline'].astype(str)\n",
        "\n",
        "# --- Load Tokenizer and BERT Model ---\n",
        "print(f\"Loading tokenizer and model: {BERT_MODEL_NAME}\")\n",
        "tokenizer = AutoTokenizer.from_pretrained(BERT_MODEL_NAME)\n",
        "# Load the base model (encoder only) to get hidden states\n",
        "bert_model = AutoModel.from_pretrained(BERT_MODEL_NAME)\n",
        "\n",
        "device = torch.device(\"cuda\" if torch.cuda.is_available() else \"cpu\")\n",
        "bert_model.to(device)\n",
        "bert_model.eval()\n",
        "print(f\"Using device: {device}\")\n",
        "\n",
        "def get_bert_cls_embeddings(texts, model, tokenizer, device, max_length, batch_size):\n",
        "    \"\"\"Generates [CLS] token embeddings for a list of texts.\"\"\"\n",
        "    all_cls_embeddings = []\n",
        "    model.eval()\n",
        "\n",
        "    print(f\"Generating embeddings in batches of {batch_size}...\")\n",
        "    for i in range(0, len(texts), batch_size):\n",
        "        batch_texts = texts[i:i+batch_size]\n",
        "        inputs = tokenizer(\n",
        "            batch_texts,\n",
        "            return_tensors='pt',\n",
        "            padding=True,\n",
        "            truncation=True,\n",
        "            max_length=max_length\n",
        "        ).to(device)\n",
        "\n",
        "        with torch.no_grad():\n",
        "            outputs = model(**inputs)\n",
        "\n",
        "        # Extract the hidden state of the [CLS] token (first token) from the last layer\n",
        "        # last_hidden_state shape: (batch_size, sequence_length, hidden_size)\n",
        "        cls_embeddings = outputs.last_hidden_state[:, 0, :]\n",
        "\n",
        "        all_cls_embeddings.append(cls_embeddings.cpu().numpy())\n",
        "\n",
        "        if (i // batch_size + 1) % 50 == 0:\n",
        "             print(f\"  Processed batch {i // batch_size + 1}/{len(texts) // batch_size + 1}\")\n",
        "\n",
        "    print(\"Finished generating embeddings.\")\n",
        "    return np.vstack(all_cls_embeddings)\n",
        "\n",
        "# --- Feature Generation ---\n",
        "\n",
        "# 1. Generate BERT [CLS] Embeddings\n",
        "print(\"Generating BERT [CLS] embeddings...\")\n",
        "X_bert = get_bert_cls_embeddings(\n",
        "    df['clean_headline'].tolist(),\n",
        "    bert_model,\n",
        "    tokenizer,\n",
        "    device,\n",
        "    MAX_LENGTH,\n",
        "    BATCH_SIZE\n",
        ")\n",
        "print(\"BERT [CLS] embeddings shape:\", X_bert.shape) # Shape: (num_samples, 768 for bert-base)\n",
        "\n"
      ],
      "metadata": {
        "id": "kgIX8iUAvKjo"
      },
      "execution_count": null,
      "outputs": []
    },
    {
      "cell_type": "markdown",
      "source": [
        "### BERT CLS + Ling + tf-idf"
      ],
      "metadata": {
        "id": "p541Fx1almMW"
      }
    },
    {
      "cell_type": "code",
      "source": [
        "# 2. Linguistic Features\n",
        "print(\"Extracting linguistic features...\")\n",
        "ling_feature_names = ['text_length', 'noun_count', 'verb_count', 'adj_count', 'adv_count', 'dale_chall_score',\n",
        "                      'sentiment_score', 'char_count', 'capital_char_count', 'capital_word_count',\n",
        "                      'stopword_count', 'stopwords_vs_words', 'contrastive_marker', 'entropy',\n",
        "                      'lexical_diversity', 'sentiment_incongruity', 'difficult_word_count']\n",
        "X_ling = df[ling_feature_names].values\n",
        "print(\"Linguistic features shape:\", X_ling.shape)\n",
        "\n",
        "# 3. Combine BERT [CLS] + Linguistic Features (Dense)\n",
        "print(\"Combining BERT [CLS] and linguistic features...\")\n",
        "X_gling = np.hstack([X_bert, X_ling])\n",
        "print(\"Combined BERT+Ling shape:\", X_gling.shape)\n",
        "y = df['is_sarcastic'].values\n",
        "\n",
        "# --- Train/Test Split ---\n",
        "print(\"Splitting data into train/test sets...\")\n",
        "# Split the combined dense features and labels, keep track of original indices\n",
        "X_train_gling, X_test_gling, Y_train, Y_test, idx_train, idx_test = train_test_split(\n",
        "    X_gling, y, df.index, stratify=y, random_state=42 # Explicit test_size\n",
        ")\n",
        "print(f\"Train features shape: {X_train_gling.shape}, Test features shape: {X_test_gling.shape}\")\n",
        "\n",
        "# --- Feature Scaling ---\n",
        "print(\"Scaling combined BERT+Ling features...\")\n",
        "# Scale the combined BERT+Ling features (fit on train, transform both)\n",
        "scaler = StandardScaler()\n",
        "X_train_scaled = scaler.fit_transform(X_train_gling)\n",
        "X_test_scaled = scaler.transform(X_test_gling)\n",
        "\n",
        "# Convert scaled features to sparse format (optional, but hstack prefers it)\n",
        "X_train_sparse_scaled = csr_matrix(X_train_scaled)\n",
        "X_test_sparse_scaled = csr_matrix(X_test_scaled)\n",
        "print(\"Scaled features shape (sparse):\", X_train_sparse_scaled.shape)\n",
        "\n",
        "# --- TF-IDF Features ---\n",
        "print(\"Generating TF-IDF features...\")\n",
        "tfidf = TfidfVectorizer() # Optional: limit TF-IDF features\n",
        "\n",
        "# Fit TF-IDF on the training text data using the train indices\n",
        "X_train_tfidf = tfidf.fit_transform(df.loc[idx_train, 'clean_headline'])\n",
        "# Transform the test text data using the fitted TF-IDF vectorizer and test indices\n",
        "X_test_tfidf = tfidf.transform(df.loc[idx_test, 'clean_headline'])\n",
        "print(\"TF-IDF Train shape:\", X_train_tfidf.shape)\n",
        "print(\"TF-IDF Test shape:\", X_test_tfidf.shape)\n",
        "\n",
        "# --- Final Feature Combination ---\n",
        "print(\"Combining TF-IDF and Scaled (BERT+Ling) features...\")\n",
        "# Combine TF-IDF + Scaled(BERT+Ling) features using hstack\n",
        "X_train_combined = hstack([X_train_tfidf, X_train_sparse_scaled])\n",
        "X_test_combined = hstack([X_test_tfidf, X_test_sparse_scaled])\n",
        "print(\"Final Combined Train shape:\", X_train_combined.shape)\n",
        "print(\"Final Combined Test shape:\", X_test_combined.shape)\n",
        "\n",
        "# --- Logistic Regression Model ---\n",
        "print(\"\\nTraining Logistic Regression model...\")\n",
        "# Use a solver suitable for potentially large sparse data like liblinear or saga\n",
        "lr = LogisticRegression(class_weight='balanced',max_iter=10000, random_state=42)\n",
        "lr.fit(X_train_combined, Y_train)\n",
        "\n",
        "print(\"\\nEvaluating Logistic Regression model...\")\n",
        "y_pred = lr.predict(X_test_combined)\n",
        "\n",
        "print(\"\\nClassification Report:\")\n",
        "# Use zero_division=0 to handle cases where a class might have no predictions in a batch/split\n",
        "print(classification_report(Y_test, y_pred, zero_division=0))\n",
        "\n",
        "print(\"\\nConfusion Matrix:\")\n",
        "cm = confusion_matrix(Y_test, y_pred, labels=lr.classes_)\n",
        "print(cm)\n",
        "\n",
        "print(f\"\\nMacro F1 Score: {f1_score(Y_test, y_pred, average='macro', zero_division=0):.4f}\")\n",
        "\n",
        "print(\"\\n--- Script Finished ---\")"
      ],
      "metadata": {
        "id": "yGO4DCiAllUV"
      },
      "execution_count": null,
      "outputs": []
    },
    {
      "cell_type": "markdown",
      "source": [
        "## BERT CLS w/ Contrastive Learning (Triplet Loss)"
      ],
      "metadata": {
        "id": "C91MFRX3r7wU"
      }
    },
    {
      "cell_type": "code",
      "source": [
        "import pandas as pd\n",
        "import numpy as np\n",
        "import torch\n",
        "import torch.nn as nn\n",
        "import torch.optim as optim\n",
        "from torch.utils.data import Dataset, DataLoader\n",
        "from transformers import AutoTokenizer, AutoModel, get_linear_schedule_with_warmup\n",
        "from sklearn.model_selection import train_test_split\n",
        "from sklearn.linear_model import LogisticRegression\n",
        "from sklearn.metrics import f1_score, classification_report, confusion_matrix\n",
        "from sklearn.preprocessing import StandardScaler\n",
        "from sklearn.feature_extraction.text import TfidfVectorizer\n",
        "from scipy.sparse import hstack, csr_matrix\n",
        "import random\n",
        "import time\n",
        "from collections import defaultdict\n",
        "\n",
        "BERT_MODEL_NAME = 'bert-base-uncased'\n",
        "MAX_LENGTH = 128\n",
        "BATCH_SIZE = 32\n",
        "RANDOM_STATE = 42\n",
        "np.random.seed(RANDOM_STATE)\n",
        "torch.manual_seed(RANDOM_STATE)\n",
        "random.seed(RANDOM_STATE)\n",
        "if torch.cuda.is_available():\n",
        "    torch.cuda.manual_seed_all(RANDOM_STATE)\n",
        "\n",
        "# Contrastive Learning Config\n",
        "CONTRASTIVE_EPOCHS = 3\n",
        "CONTRASTIVE_LR = 2e-5\n",
        "CONTRASTIVE_MARGIN = 0.5\n",
        "PROJECTION_DIM = 256\n",
        "\n",
        "df['is_sarcastic'] = df['is_sarcastic'].astype(int)\n",
        "df['clean_headline'] = df['clean_headline'].astype(str)\n",
        "# Reset index just in case for proper indexing later\n",
        "df = df.reset_index(drop=True)\n",
        "\n",
        "print(\"Splitting data into train/test sets...\")\n",
        "train_indices, test_indices = train_test_split(\n",
        "    df.index,\n",
        "    stratify=df['is_sarcastic'],\n",
        "    random_state=RANDOM_STATE\n",
        ")\n",
        "\n",
        "\n",
        "df_train = df.loc[train_indices].reset_index(drop=True)\n",
        "df_test = df.loc[test_indices].reset_index(drop=True)\n",
        "y_train = df_train['is_sarcastic'].values\n",
        "y_test = df_test['is_sarcastic'].values\n",
        "\n",
        "print(f\"Train set size: {len(df_train)}, Test set size: {len(df_test)}\")\n",
        "print(f\"Loading tokenizer and base BERT model: {BERT_MODEL_NAME}\")\n",
        "tokenizer = AutoTokenizer.from_pretrained(BERT_MODEL_NAME)\n",
        "bert_model = AutoModel.from_pretrained(BERT_MODEL_NAME)\n",
        "\n",
        "device = torch.device(\"cuda\" if torch.cuda.is_available() else \"cpu\")\n",
        "bert_model.to(device)\n",
        "print(f\"Using device: {device}\")\n",
        "\n",
        "# --- Contrastive Learning Setup ---\n",
        "\n",
        "class TripletSarcasmDataset(Dataset):\n",
        "    \"\"\"Dataset for generating triplets (anchor, positive, negative) for contrastive learning.\"\"\"\n",
        "    def __init__(self, dataframe, tokenizer, max_length):\n",
        "        self.df = dataframe\n",
        "        self.tokenizer = tokenizer\n",
        "        self.max_length = max_length\n",
        "        self.labels = dataframe['is_sarcastic'].values\n",
        "        self.texts = dataframe['clean_headline'].tolist()\n",
        "        self.label_to_indices = defaultdict(list)\n",
        "        for idx, label in enumerate(self.labels):\n",
        "            self.label_to_indices[label].append(idx)\n",
        "        self.unique_labels = sorted(list(self.label_to_indices.keys()))\n",
        "        if len(self.unique_labels) < 2:\n",
        "            raise ValueError(\"Contrastive learning requires at least two classes.\")\n",
        "\n",
        "    def __len__(self):\n",
        "        return len(self.df)\n",
        "\n",
        "    def __getitem__(self, index):\n",
        "        anchor_text = self.texts[index]\n",
        "        anchor_label = self.labels[index]\n",
        "\n",
        "        # Select positive example (same label, different index)\n",
        "        possible_positive_indices = [i for i in self.label_to_indices[anchor_label] if i != index]\n",
        "        if not possible_positive_indices: # Handle cases where a class might have only one example in a batch/split\n",
        "            positive_index = index\n",
        "        else:\n",
        "            positive_index = random.choice(possible_positive_indices)\n",
        "        positive_text = self.texts[positive_index]\n",
        "\n",
        "        # Select negative example (different label)\n",
        "        negative_label = random.choice([l for l in self.unique_labels if l != anchor_label])\n",
        "        negative_index = random.choice(self.label_to_indices[negative_label])\n",
        "        negative_text = self.texts[negative_index]\n",
        "\n",
        "        # Tokenize\n",
        "        anchor_inputs = self.tokenizer(anchor_text, return_tensors='pt', padding='max_length', truncation=True, max_length=self.max_length)\n",
        "        positive_inputs = self.tokenizer(positive_text, return_tensors='pt', padding='max_length', truncation=True, max_length=self.max_length)\n",
        "        negative_inputs = self.tokenizer(negative_text, return_tensors='pt', padding='max_length', truncation=True, max_length=self.max_length)\n",
        "\n",
        "        # Squeeze to remove the batch dimension added by tokenizer for single examples\n",
        "        return {\n",
        "            'anchor': {k: v.squeeze(0) for k, v in anchor_inputs.items()},\n",
        "            'positive': {k: v.squeeze(0) for k, v in positive_inputs.items()},\n",
        "            'negative': {k: v.squeeze(0) for k, v in negative_inputs.items()}\n",
        "        }\n",
        "\n",
        "class ContrastiveBERT(nn.Module):\n",
        "    \"\"\"Wrapper for BERT model with an optional projection head for contrastive learning.\"\"\"\n",
        "    def __init__(self, bert_model, projection_dim=None):\n",
        "        super().__init__()\n",
        "        self.bert = bert_model\n",
        "        self.projection_dim = projection_dim\n",
        "        self.config = bert_model.config\n",
        "\n",
        "        if self.projection_dim:\n",
        "            # Simple linear projection head\n",
        "            self.projection_head = nn.Sequential(\n",
        "                nn.Linear(self.config.hidden_size, self.config.hidden_size), # Optional extra layer\n",
        "                nn.ReLU(),\n",
        "                nn.Linear(self.config.hidden_size, self.projection_dim)\n",
        "            )\n",
        "        else:\n",
        "             self.projection_head = nn.Identity() # No projection\n",
        "\n",
        "    def forward(self, input_ids, attention_mask, token_type_ids=None):\n",
        "         # Pass input through BERT base model\n",
        "        outputs = self.bert(input_ids=input_ids,\n",
        "                            attention_mask=attention_mask,\n",
        "                            token_type_ids=token_type_ids)\n",
        "        # Get the [CLS] token embedding (pooler_output is often further processed, last_hidden_state[:, 0] is more standard)\n",
        "        cls_embedding = outputs.last_hidden_state[:, 0, :]\n",
        "        # Pass CLS embedding through the projection head\n",
        "        projected_embedding = self.projection_head(cls_embedding)\n",
        "        return projected_embedding # Return the (potentially projected) embedding for contrastive loss\n",
        "\n",
        "\n",
        "# --- Fine-tuning Function ---\n",
        "def fine_tune_bert_contrastive(model, dataloader, optimizer, scheduler, loss_fn, device, epochs):\n",
        "    \"\"\"Performs contrastive fine-tuning of the BERT model.\"\"\"\n",
        "    model.train() # Set model to training mode\n",
        "    start_time = time.time()\n",
        "    total_batches = len(dataloader) * epochs\n",
        "\n",
        "    print(\"\\n--- Starting Contrastive Fine-tuning ---\")\n",
        "    for epoch in range(epochs):\n",
        "        epoch_loss = 0.0\n",
        "        epoch_start_time = time.time()\n",
        "        print(f\"\\nEpoch {epoch+1}/{epochs}\")\n",
        "\n",
        "        for i, batch in enumerate(dataloader):\n",
        "            # Move batch components to device\n",
        "            anchor_inputs = {k: v.to(device) for k, v in batch['anchor'].items()}\n",
        "            positive_inputs = {k: v.to(device) for k, v in batch['positive'].items()}\n",
        "            negative_inputs = {k: v.to(device) for k, v in batch['negative'].items()}\n",
        "\n",
        "            # Zero gradients\n",
        "            optimizer.zero_grad()\n",
        "\n",
        "            # Get embeddings from the model\n",
        "            anchor_emb = model(**anchor_inputs)\n",
        "            positive_emb = model(**positive_inputs)\n",
        "            negative_emb = model(**negative_inputs)\n",
        "\n",
        "            # Calculate triplet loss\n",
        "            loss = loss_fn(anchor_emb, positive_emb, negative_emb)\n",
        "\n",
        "            # Backpropagation\n",
        "            loss.backward()\n",
        "            optimizer.step()\n",
        "            scheduler.step() # Update learning rate\n",
        "\n",
        "            epoch_loss += loss.item()\n",
        "\n",
        "            if (i + 1) % 50 == 0 or i == len(dataloader) - 1: # Print progress\n",
        "                print(f\"  Batch {i+1}/{len(dataloader)} | Loss: {loss.item():.4f} | LR: {scheduler.get_last_lr()[0]:.2e}\")\n",
        "\n",
        "        avg_epoch_loss = epoch_loss / len(dataloader)\n",
        "        epoch_time = time.time() - epoch_start_time\n",
        "        print(f\"Epoch {epoch+1} finished. Average Loss: {avg_epoch_loss:.4f} | Time: {epoch_time:.2f}s\")\n",
        "\n",
        "    total_time = time.time() - start_time\n",
        "    print(f\"--- Contrastive Fine-tuning Finished ---\")\n",
        "    print(f\"Total training time: {total_time:.2f}s\")\n",
        "\n",
        "\n",
        "# --- Prepare for Contrastive Fine-tuning ---\n",
        "print(\"\\nPreparing for contrastive fine-tuning...\")\n",
        "# Create dataset and dataloader for the *training* data\n",
        "train_triplet_dataset = TripletSarcasmDataset(df_train, tokenizer, MAX_LENGTH)\n",
        "# Adjust batch size if memory issues arise\n",
        "train_triplet_dataloader = DataLoader(train_triplet_dataset, batch_size=BATCH_SIZE, shuffle=True)\n",
        "\n",
        "# Instantiate the contrastive model wrapper\n",
        "contrastive_model = ContrastiveBERT(bert_model, projection_dim=PROJECTION_DIM).to(device)\n",
        "\n",
        "# Define loss function and optimizer\n",
        "triplet_loss_fn = nn.TripletMarginLoss(margin=CONTRASTIVE_MARGIN, p=2) # p=2 for Euclidean distance\n",
        "optimizer = optim.AdamW(contrastive_model.parameters(), lr=CONTRASTIVE_LR)\n",
        "\n",
        "# Define scheduler (optional but recommended)\n",
        "total_steps = len(train_triplet_dataloader) * CONTRASTIVE_EPOCHS\n",
        "scheduler = get_linear_schedule_with_warmup(optimizer,\n",
        "                                            num_warmup_steps=0, # You can add warmup steps if needed\n",
        "                                            num_training_steps=total_steps)\n",
        "\n",
        "# --- Run Contrastive Fine-tuning ---\n",
        "fine_tune_bert_contrastive(contrastive_model, train_triplet_dataloader, optimizer, scheduler, triplet_loss_fn, device, CONTRASTIVE_EPOCHS)\n",
        "\n",
        "# --- IMPORTANT: Use the fine-tuned BASE BERT model for embedding extraction ---\n",
        "# Set the fine-tuned base model to evaluation mode\n",
        "fine_tuned_base_bert_model = contrastive_model.bert\n",
        "fine_tuned_base_bert_model.eval()\n",
        "fine_tuned_base_bert_model.to(device) # Ensure it's on the right device\n",
        "\n",
        "# --- Function to Get BERT [CLS] Embeddings (using the potentially fine-tuned model) ---\n",
        "def get_bert_cls_embeddings(texts, model, tokenizer, device, max_length, batch_size):\n",
        "    \"\"\"Generates [CLS] token embeddings for a list of texts using the provided model.\"\"\"\n",
        "    all_cls_embeddings = []\n",
        "    model.eval() # Ensure model is in eval mode\n",
        "\n",
        "    print(f\"\\nGenerating embeddings in batches of {batch_size} using the fine-tuned model...\")\n",
        "    num_batches = (len(texts) + batch_size - 1) // batch_size\n",
        "    for i in range(0, len(texts), batch_size):\n",
        "        batch_texts = texts[i:i+batch_size]\n",
        "        # Tokenize batch, pad/truncate, move to device\n",
        "        inputs = tokenizer(\n",
        "            batch_texts,\n",
        "            return_tensors='pt',\n",
        "            padding=True,\n",
        "            truncation=True,\n",
        "            max_length=max_length\n",
        "        ).to(device)\n",
        "\n",
        "        # Get model outputs without calculating gradients\n",
        "        with torch.no_grad():\n",
        "            # Use the base BERT model directly here\n",
        "            outputs = model(**inputs) # Pass tokenized inputs directly\n",
        "\n",
        "        # Extract the hidden state of the [CLS] token (first token) from the last layer\n",
        "        # last_hidden_state shape: (batch_size, sequence_length, hidden_size)\n",
        "        cls_embeddings = outputs.last_hidden_state[:, 0, :]\n",
        "\n",
        "        # Move embeddings to CPU and convert to numpy, append to list\n",
        "        all_cls_embeddings.append(cls_embeddings.cpu().numpy())\n",
        "\n",
        "        if (i // batch_size + 1) % 50 == 0 or (i // batch_size + 1) == num_batches: # Print progress\n",
        "             print(f\"  Processed embedding batch {i // batch_size + 1}/{num_batches}\")\n",
        "\n",
        "    print(\"Finished generating embeddings.\")\n",
        "    # Combine embeddings from all batches\n",
        "    if not all_cls_embeddings:\n",
        "        return np.array([]).reshape(0, model.config.hidden_size) # Handle empty input\n",
        "    return np.vstack(all_cls_embeddings)\n",
        "\n",
        "# --- Feature Generation (using fine-tuned BERT) ---\n",
        "\n",
        "# 1. Generate BERT [CLS] Embeddings for TRAIN and TEST sets separately\n",
        "print(\"\\nGenerating Fine-tuned BERT [CLS] embeddings for TRAIN set...\")\n",
        "X_bert_train = get_bert_cls_embeddings(\n",
        "    df_train['clean_headline'].tolist(),\n",
        "    fine_tuned_base_bert_model, # Use the fine-tuned base model\n",
        "    tokenizer,\n",
        "    device,\n",
        "    MAX_LENGTH,\n",
        "    BATCH_SIZE\n",
        ")\n",
        "print(\"BERT [CLS] TRAIN embeddings shape:\", X_bert_train.shape)\n",
        "\n",
        "print(\"\\nGenerating Fine-tuned BERT [CLS] embeddings for TEST set...\")\n",
        "X_bert_test = get_bert_cls_embeddings(\n",
        "    df_test['clean_headline'].tolist(),\n",
        "    fine_tuned_base_bert_model, # Use the same fine-tuned base model\n",
        "    tokenizer,\n",
        "    device,\n",
        "    MAX_LENGTH,\n",
        "    BATCH_SIZE\n",
        ")\n",
        "print(\"BERT [CLS] TEST embeddings shape:\", X_bert_test.shape)\n",
        "\n"
      ],
      "metadata": {
        "id": "QFFw16QWr-IL",
        "colab": {
          "base_uri": "https://localhost:8080/"
        },
        "outputId": "22795021-a1cc-4088-e6ae-d755c999c78b"
      },
      "execution_count": null,
      "outputs": [
        {
          "output_type": "stream",
          "name": "stdout",
          "text": [
            "Splitting data into train/test sets...\n",
            "Train set size: 21464, Test set size: 7155\n",
            "Loading tokenizer and base BERT model: bert-base-uncased\n",
            "Using device: cuda\n",
            "\n",
            "Preparing for contrastive fine-tuning...\n",
            "\n",
            "--- Starting Contrastive Fine-tuning ---\n",
            "\n",
            "Epoch 1/3\n",
            "  Batch 50/671 | Loss: 0.1816 | LR: 1.95e-05\n",
            "  Batch 100/671 | Loss: 0.2710 | LR: 1.90e-05\n",
            "  Batch 150/671 | Loss: 0.0800 | LR: 1.85e-05\n",
            "  Batch 200/671 | Loss: 0.2313 | LR: 1.80e-05\n",
            "  Batch 250/671 | Loss: 0.1371 | LR: 1.75e-05\n",
            "  Batch 300/671 | Loss: 0.2097 | LR: 1.70e-05\n",
            "  Batch 350/671 | Loss: 0.0338 | LR: 1.65e-05\n",
            "  Batch 400/671 | Loss: 0.1699 | LR: 1.60e-05\n",
            "  Batch 450/671 | Loss: 0.1555 | LR: 1.55e-05\n",
            "  Batch 500/671 | Loss: 0.1478 | LR: 1.50e-05\n",
            "  Batch 550/671 | Loss: 0.0213 | LR: 1.45e-05\n",
            "  Batch 600/671 | Loss: 0.0391 | LR: 1.40e-05\n",
            "  Batch 650/671 | Loss: 0.0982 | LR: 1.35e-05\n",
            "  Batch 671/671 | Loss: 0.0642 | LR: 1.33e-05\n",
            "Epoch 1 finished. Average Loss: 0.1748 | Time: 1197.44s\n",
            "\n",
            "Epoch 2/3\n",
            "  Batch 50/671 | Loss: 0.0893 | LR: 1.28e-05\n",
            "  Batch 100/671 | Loss: 0.1311 | LR: 1.23e-05\n",
            "  Batch 150/671 | Loss: 0.0360 | LR: 1.18e-05\n",
            "  Batch 200/671 | Loss: 0.1068 | LR: 1.13e-05\n",
            "  Batch 250/671 | Loss: 0.1396 | LR: 1.08e-05\n",
            "  Batch 300/671 | Loss: 0.0496 | LR: 1.04e-05\n",
            "  Batch 350/671 | Loss: 0.0559 | LR: 9.86e-06\n",
            "  Batch 400/671 | Loss: 0.1495 | LR: 9.36e-06\n",
            "  Batch 450/671 | Loss: 0.0362 | LR: 8.86e-06\n",
            "  Batch 500/671 | Loss: 0.0048 | LR: 8.37e-06\n",
            "  Batch 550/671 | Loss: 0.0205 | LR: 7.87e-06\n",
            "  Batch 600/671 | Loss: 0.1235 | LR: 7.37e-06\n",
            "  Batch 650/671 | Loss: 0.0464 | LR: 6.88e-06\n",
            "  Batch 671/671 | Loss: 0.0627 | LR: 6.67e-06\n",
            "Epoch 2 finished. Average Loss: 0.0703 | Time: 1184.43s\n",
            "\n",
            "Epoch 3/3\n",
            "  Batch 50/671 | Loss: 0.0328 | LR: 6.17e-06\n",
            "  Batch 100/671 | Loss: 0.0622 | LR: 5.67e-06\n",
            "  Batch 150/671 | Loss: 0.0000 | LR: 5.18e-06\n",
            "  Batch 200/671 | Loss: 0.0057 | LR: 4.68e-06\n",
            "  Batch 250/671 | Loss: 0.0762 | LR: 4.18e-06\n",
            "  Batch 300/671 | Loss: 0.0150 | LR: 3.69e-06\n",
            "  Batch 350/671 | Loss: 0.0212 | LR: 3.19e-06\n",
            "  Batch 400/671 | Loss: 0.0617 | LR: 2.69e-06\n",
            "  Batch 450/671 | Loss: 0.0198 | LR: 2.20e-06\n",
            "  Batch 500/671 | Loss: 0.0637 | LR: 1.70e-06\n",
            "  Batch 550/671 | Loss: 0.0060 | LR: 1.20e-06\n",
            "  Batch 600/671 | Loss: 0.0846 | LR: 7.05e-07\n",
            "  Batch 650/671 | Loss: 0.0065 | LR: 2.09e-07\n",
            "  Batch 671/671 | Loss: 0.0005 | LR: 0.00e+00\n",
            "Epoch 3 finished. Average Loss: 0.0331 | Time: 1177.12s\n",
            "--- Contrastive Fine-tuning Finished ---\n",
            "Total training time: 3558.98s\n",
            "\n",
            "Generating Fine-tuned BERT [CLS] embeddings for TRAIN set...\n",
            "\n",
            "Generating embeddings in batches of 32 using the fine-tuned model...\n",
            "  Processed embedding batch 50/671\n",
            "  Processed embedding batch 100/671\n",
            "  Processed embedding batch 150/671\n",
            "  Processed embedding batch 200/671\n",
            "  Processed embedding batch 250/671\n",
            "  Processed embedding batch 300/671\n",
            "  Processed embedding batch 350/671\n",
            "  Processed embedding batch 400/671\n",
            "  Processed embedding batch 450/671\n",
            "  Processed embedding batch 500/671\n",
            "  Processed embedding batch 550/671\n",
            "  Processed embedding batch 600/671\n",
            "  Processed embedding batch 650/671\n",
            "  Processed embedding batch 671/671\n",
            "Finished generating embeddings.\n",
            "BERT [CLS] TRAIN embeddings shape: (21464, 768)\n",
            "\n",
            "Generating Fine-tuned BERT [CLS] embeddings for TEST set...\n",
            "\n",
            "Generating embeddings in batches of 32 using the fine-tuned model...\n",
            "  Processed embedding batch 50/224\n",
            "  Processed embedding batch 100/224\n",
            "  Processed embedding batch 150/224\n",
            "  Processed embedding batch 200/224\n",
            "  Processed embedding batch 224/224\n",
            "Finished generating embeddings.\n",
            "BERT [CLS] TEST embeddings shape: (7155, 768)\n"
          ]
        }
      ]
    },
    {
      "cell_type": "code",
      "source": [
        "# 2. Linguistic Features for TRAIN and TEST sets\n",
        "print(\"\\nExtracting linguistic features...\")\n",
        "ling_feature_names = ['text_length', 'noun_count', 'verb_count', 'adj_count', 'adv_count', 'dale_chall_score',\n",
        "                      'sentiment_score', 'char_count', 'capital_char_count', 'capital_word_count',\n",
        "                      'stopword_count', 'stopwords_vs_words', 'contrastive_marker', 'entropy',\n",
        "                      'lexical_diversity', 'sentiment_incongruity', 'difficult_word_count']\n",
        "\n",
        "# Ensure all ling features exist, fill missing with 0 or mean if appropriate\n",
        "for col in ling_feature_names:\n",
        "    if col not in df_train.columns:\n",
        "        print(f\"Warning: Linguistic feature '{col}' not found. Filling with 0.\")\n",
        "        df_train[col] = 0\n",
        "        df_test[col] = 0\n",
        "\n",
        "X_ling_train = df_train[ling_feature_names].values\n",
        "X_ling_test = df_test[ling_feature_names].values\n",
        "print(\"Linguistic TRAIN features shape:\", X_ling_train.shape)\n",
        "print(\"Linguistic TEST features shape:\", X_ling_test.shape)\n",
        "\n",
        "# 3. Combine Fine-tuned BERT [CLS] + Linguistic Features (Dense) for TRAIN and TEST\n",
        "print(\"Combining Fine-tuned BERT [CLS] and linguistic features...\")\n",
        "X_gling_train = np.hstack([X_bert_train, X_ling_train])\n",
        "X_gling_test = np.hstack([X_bert_test, X_ling_test])\n",
        "print(\"Combined BERT+Ling TRAIN shape:\", X_gling_train.shape)\n",
        "print(\"Combined BERT+Ling TEST shape:\", X_gling_test.shape)\n",
        "\n",
        "# --- Feature Scaling (Fit on TRAIN, Transform TRAIN and TEST) ---\n",
        "print(\"Scaling combined BERT+Ling features...\")\n",
        "scaler = StandardScaler()\n",
        "X_train_scaled = scaler.fit_transform(X_gling_train) # Fit ONLY on training data\n",
        "X_test_scaled = scaler.transform(X_gling_test)   # Transform test data\n",
        "\n",
        "# Convert scaled features to sparse format (optional, but hstack prefers it)\n",
        "X_train_sparse_scaled = csr_matrix(X_train_scaled)\n",
        "X_test_sparse_scaled = csr_matrix(X_test_scaled)\n",
        "print(\"Scaled TRAIN features shape (sparse):\", X_train_sparse_scaled.shape)\n",
        "print(\"Scaled TEST features shape (sparse):\", X_test_sparse_scaled.shape)\n",
        "\n",
        "# --- TF-IDF Features (Fit on TRAIN, Transform TRAIN and TEST) ---\n",
        "print(\"Generating TF-IDF features...\")\n",
        "tfidf = TfidfVectorizer() # Optional: limit TF-IDF features (e.g., max_features=5000)\n",
        "\n",
        "# Fit TF-IDF ONLY on the training text data\n",
        "X_train_tfidf = tfidf.fit_transform(df_train['clean_headline'])\n",
        "# Transform the test text data using the fitted TF-IDF vectorizer\n",
        "X_test_tfidf = tfidf.transform(df_test['clean_headline'])\n",
        "print(\"TF-IDF Train shape:\", X_train_tfidf.shape)\n",
        "print(\"TF-IDF Test shape:\", X_test_tfidf.shape)\n",
        "\n",
        "# --- Final Feature Combination ---\n",
        "print(\"Combining TF-IDF and Scaled (Fine-tuned BERT+Ling) features...\")\n",
        "# Combine TF-IDF + Scaled(BERT+Ling) features using hstack\n",
        "X_train_combined = hstack([X_train_tfidf, X_train_sparse_scaled])\n",
        "X_test_combined = hstack([X_test_tfidf, X_test_sparse_scaled])\n",
        "print(\"Final Combined Train shape:\", X_train_combined.shape)\n",
        "print(\"Final Combined Test shape:\", X_test_combined.shape)\n",
        "\n",
        "# --- Logistic Regression Model ---\n",
        "print(\"\\nTraining Logistic Regression model on combined features...\")\n",
        "# Use a solver suitable for potentially large sparse data like liblinear or saga\n",
        "# Increased max_iter substantially for potentially harder convergence with high dimensions\n",
        "lr = LogisticRegression(class_weight='balanced', max_iter=10000, random_state=RANDOM_STATE, solver='liblinear') # liblinear is often good for sparse\n",
        "lr.fit(X_train_combined, y_train) # Use y_train here\n",
        "\n",
        "print(\"\\nEvaluating Logistic Regression model...\")\n",
        "y_pred = lr.predict(X_test_combined)\n",
        "\n",
        "print(\"\\nClassification Report:\")\n",
        "# Use zero_division=0 to handle cases where a class might have no predictions in a batch/split\n",
        "print(classification_report(y_test, y_pred, zero_division=0)) # Use y_test here\n",
        "\n",
        "print(\"\\nConfusion Matrix:\")\n",
        "cm = confusion_matrix(y_test, y_pred, labels=lr.classes_) # Use y_test here\n",
        "print(cm)\n",
        "\n",
        "print(f\"\\nMacro F1 Score: {f1_score(y_test, y_pred, average='macro', zero_division=0):.4f}\") # Use y_test here\n",
        "\n",
        "print(\"\\n--- Script Finished ---\")"
      ],
      "metadata": {
        "id": "X--rmfqMsnTM",
        "colab": {
          "base_uri": "https://localhost:8080/"
        },
        "outputId": "0ad2c3e7-03d5-4679-e505-6a8975fa7d8f"
      },
      "execution_count": null,
      "outputs": [
        {
          "output_type": "stream",
          "name": "stdout",
          "text": [
            "\n",
            "Extracting linguistic features...\n",
            "Linguistic TRAIN features shape: (21464, 17)\n",
            "Linguistic TEST features shape: (7155, 17)\n",
            "Combining Fine-tuned BERT [CLS] and linguistic features...\n",
            "Combined BERT+Ling TRAIN shape: (21464, 785)\n",
            "Combined BERT+Ling TEST shape: (7155, 785)\n",
            "Scaling combined BERT+Ling features...\n",
            "Scaled TRAIN features shape (sparse): (21464, 785)\n",
            "Scaled TEST features shape (sparse): (7155, 785)\n",
            "Generating TF-IDF features...\n",
            "TF-IDF Train shape: (21464, 23183)\n",
            "TF-IDF Test shape: (7155, 23183)\n",
            "Combining TF-IDF and Scaled (Fine-tuned BERT+Ling) features...\n",
            "Final Combined Train shape: (21464, 23968)\n",
            "Final Combined Test shape: (7155, 23968)\n",
            "\n",
            "Training Logistic Regression model on combined features...\n",
            "\n",
            "Evaluating Logistic Regression model...\n",
            "\n",
            "Classification Report:\n",
            "              precision    recall  f1-score   support\n",
            "\n",
            "           0       0.92      0.94      0.93      3746\n",
            "           1       0.93      0.92      0.92      3409\n",
            "\n",
            "    accuracy                           0.93      7155\n",
            "   macro avg       0.93      0.93      0.93      7155\n",
            "weighted avg       0.93      0.93      0.93      7155\n",
            "\n",
            "\n",
            "Confusion Matrix:\n",
            "[[3511  235]\n",
            " [ 286 3123]]\n",
            "\n",
            "Macro F1 Score: 0.9270\n",
            "\n",
            "--- Script Finished ---\n"
          ]
        }
      ]
    },
    {
      "cell_type": "markdown",
      "source": [
        "## Another Loss (will revisit in part 4+)"
      ],
      "metadata": {
        "id": "vfvliBCWAh4l"
      }
    },
    {
      "cell_type": "code",
      "source": [
        "# Ensure necessary libraries are installed\n",
        "# !pip install transformers torch pandas numpy scikit-learn scipy -q\n",
        "# !pip install datasets # Needed for easy data handling potentially\n",
        "\n",
        "import pandas as pd\n",
        "import numpy as np\n",
        "import torch\n",
        "import torch.nn as nn\n",
        "import torch.optim as optim\n",
        "from torch.utils.data import Dataset, DataLoader\n",
        "from transformers import AutoTokenizer, AutoModel, get_linear_schedule_with_warmup\n",
        "from sklearn.model_selection import train_test_split\n",
        "from sklearn.linear_model import LogisticRegression\n",
        "from sklearn.metrics import f1_score, classification_report, confusion_matrix\n",
        "from sklearn.preprocessing import StandardScaler\n",
        "from sklearn.feature_extraction.text import TfidfVectorizer\n",
        "from scipy.sparse import hstack, csr_matrix\n",
        "import random\n",
        "import time\n",
        "from collections import defaultdict\n",
        "\n",
        "# --- Configuration ---\n",
        "BERT_MODEL_NAME = 'bert-base-uncased'  # Standard BERT model\n",
        "MAX_LENGTH = 128  # Max sequence length for BERT tokenizer\n",
        "BATCH_SIZE = 32   # Batch size for embedding generation AND contrastive training\n",
        "RANDOM_STATE = 42\n",
        "np.random.seed(RANDOM_STATE)\n",
        "torch.manual_seed(RANDOM_STATE)\n",
        "random.seed(RANDOM_STATE)\n",
        "if torch.cuda.is_available():\n",
        "    torch.cuda.manual_seed_all(RANDOM_STATE)\n",
        "\n",
        "# Contrastive Learning Config\n",
        "CONTRASTIVE_EPOCHS = 3      # Number of epochs for fine-tuning\n",
        "CONTRASTIVE_LR = 2e-5       # Learning rate for fine-tuning\n",
        "CONTRASTIVE_MARGIN = 0.5    # Margin for the CosineContrastiveLoss\n",
        "PROJECTION_DIM = 256        # Optional: Dimension of projection head for contrastive learning\n",
        "\n",
        "# Assuming df is your dataframe with columns 'is_sarcastic' and 'clean_headline'\n",
        "df['is_sarcastic'] = df['is_sarcastic'].astype(int)\n",
        "df['clean_headline'] = df['clean_headline'].astype(str)\n",
        "# Reset index just in case for proper indexing later\n",
        "df = df.reset_index(drop=True)\n",
        "# --- End Example Data ---\n",
        "\n",
        "# --- Split Data FIRST ---\n",
        "print(\"Splitting data into train/test sets...\")\n",
        "train_indices, test_indices = train_test_split(\n",
        "    df.index,\n",
        "    stratify=df['is_sarcastic'],\n",
        "    random_state=RANDOM_STATE\n",
        ")\n",
        "\n",
        "# Create train/test dataframes using the indices\n",
        "df_train = df.loc[train_indices].reset_index(drop=True)\n",
        "df_test = df.loc[test_indices].reset_index(drop=True)\n",
        "y_train = df_train['is_sarcastic'].values\n",
        "y_test = df_test['is_sarcastic'].values\n",
        "\n",
        "print(f\"Train set size: {len(df_train)}, Test set size: {len(df_test)}\")\n",
        "\n",
        "# --- Load Tokenizer and BERT Model ---\n",
        "print(f\"Loading tokenizer and base BERT model: {BERT_MODEL_NAME}\")\n",
        "tokenizer = AutoTokenizer.from_pretrained(BERT_MODEL_NAME)\n",
        "bert_model = AutoModel.from_pretrained(BERT_MODEL_NAME)\n",
        "\n",
        "# Set device (GPU if available, otherwise CPU)\n",
        "device = torch.device(\"cuda\" if torch.cuda.is_available() else \"cpu\")\n",
        "bert_model.to(device)\n",
        "print(f\"Using device: {device}\")\n",
        "\n",
        "# --- Contrastive Learning Setup ---\n",
        "class TripletSarcasmDataset(Dataset):\n",
        "    \"\"\"Dataset for generating triplets (anchor, positive, negative) for contrastive learning.\"\"\"\n",
        "    def __init__(self, dataframe, tokenizer, max_length):\n",
        "        self.df = dataframe\n",
        "        self.tokenizer = tokenizer\n",
        "        self.max_length = max_length\n",
        "        self.labels = dataframe['is_sarcastic'].values\n",
        "        self.texts = dataframe['clean_headline'].tolist()\n",
        "        self.label_to_indices = defaultdict(list)\n",
        "        for idx, label in enumerate(self.labels):\n",
        "            self.label_to_indices[label].append(idx)\n",
        "        self.unique_labels = sorted(list(self.label_to_indices.keys()))\n",
        "        if len(self.unique_labels) < 2:\n",
        "            raise ValueError(\"Contrastive learning requires at least two classes.\")\n",
        "\n",
        "    def __len__(self):\n",
        "        return len(self.df)\n",
        "\n",
        "    def __getitem__(self, index):\n",
        "        anchor_text = self.texts[index]\n",
        "        anchor_label = self.labels[index]\n",
        "\n",
        "        # Select positive example (same label, different index)\n",
        "        possible_positive_indices = [i for i in self.label_to_indices[anchor_label] if i != index]\n",
        "        if not possible_positive_indices:  # Handle cases with only one example for the class\n",
        "            positive_index = index\n",
        "        else:\n",
        "            positive_index = random.choice(possible_positive_indices)\n",
        "        positive_text = self.texts[positive_index]\n",
        "\n",
        "        # Select negative example (different label)\n",
        "        negative_label = random.choice([l for l in self.unique_labels if l != anchor_label])\n",
        "        negative_index = random.choice(self.label_to_indices[negative_label])\n",
        "        negative_text = self.texts[negative_index]\n",
        "\n",
        "        # Tokenize texts\n",
        "        anchor_inputs = self.tokenizer(anchor_text, return_tensors='pt', padding='max_length', truncation=True, max_length=self.max_length)\n",
        "        positive_inputs = self.tokenizer(positive_text, return_tensors='pt', padding='max_length', truncation=True, max_length=self.max_length)\n",
        "        negative_inputs = self.tokenizer(negative_text, return_tensors='pt', padding='max_length', truncation=True, max_length=self.max_length)\n",
        "\n",
        "        # Squeeze to remove the batch dimension added by tokenizer for single examples\n",
        "        return {\n",
        "            'anchor': {k: v.squeeze(0) for k, v in anchor_inputs.items()},\n",
        "            'positive': {k: v.squeeze(0) for k, v in positive_inputs.items()},\n",
        "            'negative': {k: v.squeeze(0) for k, v in negative_inputs.items()}\n",
        "        }\n",
        "\n",
        "class ContrastiveBERT(nn.Module):\n",
        "    \"\"\"Wrapper for BERT model with an optional projection head for contrastive learning.\"\"\"\n",
        "    def __init__(self, bert_model, projection_dim=None):\n",
        "        super().__init__()\n",
        "        self.bert = bert_model\n",
        "        self.projection_dim = projection_dim\n",
        "        self.config = bert_model.config\n",
        "\n",
        "        if self.projection_dim:\n",
        "            # Simple linear projection head\n",
        "            self.projection_head = nn.Sequential(\n",
        "                nn.Linear(self.config.hidden_size, self.config.hidden_size),\n",
        "                nn.ReLU(),\n",
        "                nn.Linear(self.config.hidden_size, self.projection_dim)\n",
        "            )\n",
        "        else:\n",
        "            self.projection_head = nn.Identity()  # No projection\n",
        "\n",
        "    def forward(self, input_ids, attention_mask, token_type_ids=None):\n",
        "        outputs = self.bert(input_ids=input_ids,\n",
        "                            attention_mask=attention_mask,\n",
        "                            token_type_ids=token_type_ids)\n",
        "        # Get the [CLS] token embedding (using last_hidden_state[:, 0])\n",
        "        cls_embedding = outputs.last_hidden_state[:, 0, :]\n",
        "        projected_embedding = self.projection_head(cls_embedding)\n",
        "        return projected_embedding\n",
        "\n",
        "# --- Define New Loss Function (Cosine Contrastive Loss) ---\n",
        "class CosineContrastiveLoss(nn.Module):\n",
        "    def __init__(self, margin):\n",
        "        super().__init__()\n",
        "        self.margin = margin\n",
        "        self.cosine_loss = nn.CosineEmbeddingLoss(margin=self.margin)\n",
        "\n",
        "    def forward(self, anchor, positive, negative):\n",
        "        # For the positive pair, target is 1\n",
        "        target_pos = torch.ones(anchor.size(0)).to(anchor.device)\n",
        "        # For the negative pair, target is -1\n",
        "        target_neg = -torch.ones(anchor.size(0)).to(anchor.device)\n",
        "        loss_pos = self.cosine_loss(anchor, positive, target_pos)\n",
        "        loss_neg = self.cosine_loss(anchor, negative, target_neg)\n",
        "        return loss_pos + loss_neg\n",
        "\n",
        "# Instantiate the new loss function\n",
        "cosine_contrastive_loss_fn = CosineContrastiveLoss(margin=CONTRASTIVE_MARGIN)\n",
        "\n",
        "# --- Fine-tuning Function ---\n",
        "def fine_tune_bert_contrastive(model, dataloader, optimizer, scheduler, loss_fn, device, epochs):\n",
        "    \"\"\"Performs contrastive fine-tuning of the BERT model.\"\"\"\n",
        "    model.train()\n",
        "    start_time = time.time()\n",
        "    total_batches = len(dataloader) * epochs\n",
        "\n",
        "    print(\"\\n--- Starting Contrastive Fine-tuning ---\")\n",
        "    for epoch in range(epochs):\n",
        "        epoch_loss = 0.0\n",
        "        epoch_start_time = time.time()\n",
        "        print(f\"\\nEpoch {epoch+1}/{epochs}\")\n",
        "\n",
        "        for i, batch in enumerate(dataloader):\n",
        "            # Move batch components to device\n",
        "            anchor_inputs = {k: v.to(device) for k, v in batch['anchor'].items()}\n",
        "            positive_inputs = {k: v.to(device) for k, v in batch['positive'].items()}\n",
        "            negative_inputs = {k: v.to(device) for k, v in batch['negative'].items()}\n",
        "\n",
        "            optimizer.zero_grad()\n",
        "\n",
        "            # Get embeddings from the model\n",
        "            anchor_emb = model(**anchor_inputs)\n",
        "            positive_emb = model(**positive_inputs)\n",
        "            negative_emb = model(**negative_inputs)\n",
        "\n",
        "            # Calculate loss using the new cosine contrastive loss\n",
        "            loss = loss_fn(anchor_emb, positive_emb, negative_emb)\n",
        "\n",
        "            loss.backward()\n",
        "            optimizer.step()\n",
        "            scheduler.step()  # Update learning rate\n",
        "\n",
        "            epoch_loss += loss.item()\n",
        "\n",
        "            if (i + 1) % 50 == 0 or i == len(dataloader) - 1:\n",
        "                print(f\"  Batch {i+1}/{len(dataloader)} | Loss: {loss.item():.4f} | LR: {scheduler.get_last_lr()[0]:.2e}\")\n",
        "\n",
        "        avg_epoch_loss = epoch_loss / len(dataloader)\n",
        "        epoch_time = time.time() - epoch_start_time\n",
        "        print(f\"Epoch {epoch+1} finished. Average Loss: {avg_epoch_loss:.4f} | Time: {epoch_time:.2f}s\")\n",
        "\n",
        "    total_time = time.time() - start_time\n",
        "    print(f\"--- Contrastive Fine-tuning Finished ---\")\n",
        "    print(f\"Total training time: {total_time:.2f}s\")\n",
        "\n",
        "# --- Prepare for Contrastive Fine-tuning ---\n",
        "print(\"\\nPreparing for contrastive fine-tuning...\")\n",
        "train_triplet_dataset = TripletSarcasmDataset(df_train, tokenizer, MAX_LENGTH)\n",
        "train_triplet_dataloader = DataLoader(train_triplet_dataset, batch_size=BATCH_SIZE, shuffle=True)\n",
        "contrastive_model = ContrastiveBERT(bert_model, projection_dim=PROJECTION_DIM).to(device)\n",
        "optimizer = optim.AdamW(contrastive_model.parameters(), lr=CONTRASTIVE_LR)\n",
        "total_steps = len(train_triplet_dataloader) * CONTRASTIVE_EPOCHS\n",
        "scheduler = get_linear_schedule_with_warmup(optimizer,\n",
        "                                            num_warmup_steps=0,  # Add warmup steps if needed\n",
        "                                            num_training_steps=total_steps)\n",
        "\n",
        "# --- Run Contrastive Fine-tuning ---\n",
        "fine_tune_bert_contrastive(contrastive_model, train_triplet_dataloader, optimizer, scheduler, cosine_contrastive_loss_fn, device, CONTRASTIVE_EPOCHS)\n",
        "\n",
        "# --- IMPORTANT: Use the fine-tuned BASE BERT model for embedding extraction ---\n",
        "fine_tuned_base_bert_model = contrastive_model.bert\n",
        "fine_tuned_base_bert_model.eval()\n",
        "fine_tuned_base_bert_model.to(device)  # Ensure it's on the right device\n",
        "\n",
        "# --- Function to Get BERT [CLS] Embeddings ---\n",
        "def get_bert_cls_embeddings(texts, model, tokenizer, device, max_length, batch_size):\n",
        "    \"\"\"Generates [CLS] token embeddings for a list of texts using the provided model.\"\"\"\n",
        "    all_cls_embeddings = []\n",
        "    model.eval()\n",
        "    print(f\"\\nGenerating embeddings in batches of {batch_size} using the fine-tuned model...\")\n",
        "    num_batches = (len(texts) + batch_size - 1) // batch_size\n",
        "    for i in range(0, len(texts), batch_size):\n",
        "        batch_texts = texts[i:i+batch_size]\n",
        "        inputs = tokenizer(\n",
        "            batch_texts,\n",
        "            return_tensors='pt',\n",
        "            padding=True,\n",
        "            truncation=True,\n",
        "            max_length=max_length\n",
        "        ).to(device)\n",
        "\n",
        "        with torch.no_grad():\n",
        "            outputs = model(**inputs)\n",
        "        cls_embeddings = outputs.last_hidden_state[:, 0, :]\n",
        "        all_cls_embeddings.append(cls_embeddings.cpu().numpy())\n",
        "\n",
        "        if (i // batch_size + 1) % 50 == 0 or (i // batch_size + 1) == num_batches:\n",
        "             print(f\"  Processed embedding batch {i // batch_size + 1}/{num_batches}\")\n",
        "\n",
        "    print(\"Finished generating embeddings.\")\n",
        "    if not all_cls_embeddings:\n",
        "        return np.array([]).reshape(0, model.config.hidden_size)\n",
        "    return np.vstack(all_cls_embeddings)\n",
        "\n",
        "# --- Feature Generation (using fine-tuned BERT) ---\n",
        "print(\"\\nGenerating Fine-tuned BERT [CLS] embeddings for TRAIN set...\")\n",
        "X_bert_train = get_bert_cls_embeddings(\n",
        "    df_train['clean_headline'].tolist(),\n",
        "    fine_tuned_base_bert_model,\n",
        "    tokenizer,\n",
        "    device,\n",
        "    MAX_LENGTH,\n",
        "    BATCH_SIZE\n",
        ")\n",
        "print(\"BERT [CLS] TRAIN embeddings shape:\", X_bert_train.shape)\n",
        "\n",
        "print(\"\\nGenerating Fine-tuned BERT [CLS] embeddings for TEST set...\")\n",
        "X_bert_test = get_bert_cls_embeddings(\n",
        "    df_test['clean_headline'].tolist(),\n",
        "    fine_tuned_base_bert_model,\n",
        "    tokenizer,\n",
        "    device,\n",
        "    MAX_LENGTH,\n",
        "    BATCH_SIZE\n",
        ")\n",
        "print(\"BERT [CLS] TEST embeddings shape:\", X_bert_test.shape)\n"
      ],
      "metadata": {
        "id": "clS5Wh51Ahsh"
      },
      "execution_count": null,
      "outputs": []
    },
    {
      "cell_type": "markdown",
      "source": [
        "## New w/ Visualisation (will revisit in part 4)"
      ],
      "metadata": {
        "id": "qNLaAKn60N2h"
      }
    },
    {
      "cell_type": "code",
      "source": [
        "# -*- coding: utf-8 -*-\n",
        "\"\"\"\n",
        "Sarcasm Detection with Contrastive Fine-tuning and Visualization\n",
        "\n",
        "This script demonstrates sarcasm detection using a combination of:\n",
        "1. BERT embeddings fine-tuned with contrastive learning (Triplet Loss).\n",
        "2. Linguistic features.\n",
        "3. TF-IDF features.\n",
        "It also includes t-SNE visualization of BERT embeddings before and after\n",
        "contrastive fine-tuning to show the effect on class separability.\n",
        "\"\"\"\n",
        "\n",
        "# --- Essential Imports ---\n",
        "import pandas as pd\n",
        "import numpy as np\n",
        "import torch\n",
        "import torch.nn as nn\n",
        "import torch.optim as optim\n",
        "from torch.utils.data import Dataset, DataLoader\n",
        "from transformers import AutoTokenizer, AutoModel, get_linear_schedule_with_warmup\n",
        "from sklearn.model_selection import train_test_split\n",
        "from sklearn.linear_model import LogisticRegression\n",
        "from sklearn.metrics import f1_score, classification_report, confusion_matrix\n",
        "from sklearn.preprocessing import StandardScaler\n",
        "from sklearn.feature_extraction.text import TfidfVectorizer\n",
        "from scipy.sparse import hstack, csr_matrix\n",
        "import random\n",
        "import time\n",
        "from collections import defaultdict\n",
        "\n",
        "# --- Visualization Imports ---\n",
        "import matplotlib.pyplot as plt\n",
        "from sklearn.manifold import TSNE\n",
        "# Optional: Seaborn for potentially nicer aesthetics\n",
        "# import seaborn as sns\n",
        "# sns.set(style='whitegrid')\n",
        "\n",
        "# --- Configuration ---\n",
        "BERT_MODEL_NAME = 'bert-base-uncased' # Standard BERT model\n",
        "MAX_LENGTH = 128  # Max sequence length for BERT tokenizer\n",
        "BATCH_SIZE = 32  # Batch size for embedding generation AND contrastive training\n",
        "RANDOM_STATE = 42\n",
        "np.random.seed(RANDOM_STATE)\n",
        "torch.manual_seed(RANDOM_STATE)\n",
        "random.seed(RANDOM_STATE)\n",
        "if torch.cuda.is_available():\n",
        "    torch.cuda.manual_seed_all(RANDOM_STATE)\n",
        "\n",
        "# Contrastive Learning Config\n",
        "CONTRASTIVE_EPOCHS = 3 # Number of epochs for fine-tuning\n",
        "CONTRASTIVE_LR = 2e-5 # Learning rate for fine-tuning\n",
        "CONTRASTIVE_MARGIN = 0.5 # Margin for TripletMarginLoss\n",
        "PROJECTION_DIM = 256 # Optional: Dimension of projection head for contrastive learning\n",
        "\n",
        "# Visualization Config\n",
        "TSNE_PERPLEXITY = 30 # Typical value for t-SNE\n",
        "TSNE_N_ITER = 300 # Number of iterations for t-SNE optimization\n",
        "# Limit number of points for faster t-SNE? Set to None to use all test points\n",
        "VISUALIZATION_SAMPLE_SIZE = 1000 # Reduce if t-SNE is too slow\n",
        "\n",
        "\n",
        "\n",
        "df['is_sarcastic'] = df['is_sarcastic'].astype(int)\n",
        "df['clean_headline'] = df['clean_headline'].astype(str)\n",
        "# Reset index just in case for proper indexing later\n",
        "df = df.reset_index(drop=True)\n",
        "print(f\"Loaded data with {len(df)} samples.\")\n",
        "print(f\"Class distribution:\\n{df['is_sarcastic'].value_counts(normalize=True)}\")\n",
        "# --- End Example Data ---\n",
        "\n",
        "\n",
        "# --- Split Data FIRST ---\n",
        "# We need the training indices to prepare the contrastive learning dataset\n",
        "print(\"\\nSplitting data into train/test sets...\")\n",
        "train_indices, test_indices = train_test_split(\n",
        "    df.index,\n",
        "    stratify=df['is_sarcastic'],\n",
        "    random_state=RANDOM_STATE\n",
        ")\n",
        "\n",
        "# Create train/test dataframes using the indices\n",
        "df_train = df.loc[train_indices].reset_index(drop=True)\n",
        "df_test = df.loc[test_indices].reset_index(drop=True)\n",
        "y_train = df_train['is_sarcastic'].values\n",
        "y_test = df_test['is_sarcastic'].values\n",
        "\n",
        "print(f\"Train set size: {len(df_train)}, Test set size: {len(df_test)}\")\n",
        "\n",
        "# --- Load Tokenizer and BERT Model ---\n",
        "print(f\"\\nLoading tokenizer and base BERT model: {BERT_MODEL_NAME}\")\n",
        "tokenizer = AutoTokenizer.from_pretrained(BERT_MODEL_NAME)\n",
        "# Load the base model - we'll use this for \"before\" embeddings\n",
        "bert_model_base = AutoModel.from_pretrained(BERT_MODEL_NAME)\n",
        "\n",
        "# Set device (GPU if available, otherwise CPU)\n",
        "device = torch.device(\"cuda\" if torch.cuda.is_available() else \"cpu\")\n",
        "bert_model_base.to(device)\n",
        "print(f\"Using device: {device}\")\n",
        "\n",
        "\n",
        "# --- Function to Get BERT [CLS] Embeddings ---\n",
        "# This function will be used for both 'before' and 'after' embeddings\n",
        "def get_bert_cls_embeddings(texts, model, tokenizer, device, max_length, batch_size):\n",
        "    \"\"\"Generates [CLS] token embeddings for a list of texts using the provided model.\"\"\"\n",
        "    all_cls_embeddings = []\n",
        "    model.eval() # Ensure model is in eval mode\n",
        "    num_samples = len(texts)\n",
        "    print(f\"  Generating embeddings for {num_samples} texts in batches of {batch_size}...\")\n",
        "    num_batches = (num_samples + batch_size - 1) // batch_size\n",
        "    start_time = time.time()\n",
        "    for i in range(0, num_samples, batch_size):\n",
        "        batch_texts = texts[i:i+batch_size]\n",
        "        # Tokenize batch, pad/truncate, move to device\n",
        "        inputs = tokenizer(\n",
        "            batch_texts,\n",
        "            return_tensors='pt',\n",
        "            padding='max_length', # Use max_length padding for consistency\n",
        "            truncation=True,\n",
        "            max_length=max_length\n",
        "        ).to(device)\n",
        "\n",
        "        # Get model outputs without calculating gradients\n",
        "        with torch.no_grad():\n",
        "            outputs = model(**inputs) # Pass tokenized inputs directly\n",
        "\n",
        "        # Extract the hidden state of the [CLS] token (first token) from the last layer\n",
        "        cls_embeddings = outputs.last_hidden_state[:, 0, :]\n",
        "\n",
        "        # Move embeddings to CPU and convert to numpy, append to list\n",
        "        all_cls_embeddings.append(cls_embeddings.cpu().numpy())\n",
        "\n",
        "        if (i // batch_size + 1) % 50 == 0 or (i // batch_size + 1) == num_batches: # Print progress\n",
        "             progress = (i // batch_size + 1) / num_batches\n",
        "             elapsed = time.time() - start_time\n",
        "             eta = (elapsed / progress) * (1 - progress) if progress > 0 else 0\n",
        "             print(f\"    Processed batch {i // batch_size + 1}/{num_batches} ({progress*100:.1f}%) | ETA: {eta:.1f}s\")\n",
        "\n",
        "    print(f\"  Finished generating embeddings in {time.time() - start_time:.2f}s.\")\n",
        "    # Combine embeddings from all batches\n",
        "    if not all_cls_embeddings:\n",
        "        # Get hidden size from model config if available\n",
        "        hidden_size = model.config.hidden_size if hasattr(model, 'config') else 768\n",
        "        return np.array([]).reshape(0, hidden_size) # Handle empty input\n",
        "    return np.vstack(all_cls_embeddings)\n",
        "\n",
        "# --- Generate Embeddings BEFORE Fine-tuning (for visualization) ---\n",
        "print(\"\\nGenerating BERT [CLS] embeddings BEFORE fine-tuning (for visualization)...\")\n",
        "# Use the base model loaded earlier\n",
        "X_bert_test_before_ft = get_bert_cls_embeddings(\n",
        "    df_test['clean_headline'].tolist(),\n",
        "    bert_model_base, # Use the original, non-fine-tuned model\n",
        "    tokenizer,\n",
        "    device,\n",
        "    MAX_LENGTH,\n",
        "    BATCH_SIZE\n",
        ")\n",
        "print(\"BERT [CLS] TEST embeddings BEFORE fine-tuning shape:\", X_bert_test_before_ft.shape)\n",
        "\n",
        "\n",
        "# --- Contrastive Learning Setup ---\n",
        "\n",
        "class TripletSarcasmDataset(Dataset):\n",
        "    \"\"\"Dataset for generating triplets (anchor, positive, negative) for contrastive learning.\"\"\"\n",
        "    def __init__(self, dataframe, tokenizer, max_length):\n",
        "        self.df = dataframe\n",
        "        self.tokenizer = tokenizer\n",
        "        self.max_length = max_length\n",
        "        self.labels = dataframe['is_sarcastic'].values\n",
        "        self.texts = dataframe['clean_headline'].tolist()\n",
        "        self.label_to_indices = defaultdict(list)\n",
        "        for idx, label in enumerate(self.labels):\n",
        "            self.label_to_indices[label].append(idx)\n",
        "        self.unique_labels = sorted(list(self.label_to_indices.keys()))\n",
        "        if len(self.unique_labels) < 2:\n",
        "            raise ValueError(\"Contrastive learning requires at least two classes.\")\n",
        "\n",
        "    def __len__(self):\n",
        "        return len(self.df)\n",
        "\n",
        "    def __getitem__(self, index):\n",
        "        anchor_text = self.texts[index]\n",
        "        anchor_label = self.labels[index]\n",
        "\n",
        "        # Select positive example (same label, different index)\n",
        "        possible_positive_indices = [i for i in self.label_to_indices[anchor_label] if i != index]\n",
        "        if not possible_positive_indices: # Handle cases where a class might have only one example\n",
        "             # If no other positive exists, use the anchor itself (less ideal but prevents error)\n",
        "             # Consider oversampling smaller classes if this happens frequently\n",
        "            positive_index = index\n",
        "        else:\n",
        "            positive_index = random.choice(possible_positive_indices)\n",
        "        positive_text = self.texts[positive_index]\n",
        "\n",
        "        # Select negative example (different label)\n",
        "        negative_label = random.choice([l for l in self.unique_labels if l != anchor_label])\n",
        "        negative_index = random.choice(self.label_to_indices[negative_label])\n",
        "        negative_text = self.texts[negative_index]\n",
        "\n",
        "        # Tokenize\n",
        "        anchor_inputs = self.tokenizer(anchor_text, return_tensors='pt', padding='max_length', truncation=True, max_length=self.max_length)\n",
        "        positive_inputs = self.tokenizer(positive_text, return_tensors='pt', padding='max_length', truncation=True, max_length=self.max_length)\n",
        "        negative_inputs = self.tokenizer(negative_text, return_tensors='pt', padding='max_length', truncation=True, max_length=self.max_length)\n",
        "\n",
        "        # Squeeze to remove the batch dimension added by tokenizer for single examples\n",
        "        return {\n",
        "            'anchor': {k: v.squeeze(0) for k, v in anchor_inputs.items()},\n",
        "            'positive': {k: v.squeeze(0) for k, v in positive_inputs.items()},\n",
        "            'negative': {k: v.squeeze(0) for k, v in negative_inputs.items()}\n",
        "        }\n",
        "\n",
        "class ContrastiveBERT(nn.Module):\n",
        "    \"\"\"Wrapper for BERT model with an optional projection head for contrastive learning.\"\"\"\n",
        "    def __init__(self, bert_model, projection_dim=None):\n",
        "        super().__init__()\n",
        "        self.bert = bert_model # This holds the actual BERT model to be fine-tuned\n",
        "        self.projection_dim = projection_dim\n",
        "        self.config = bert_model.config\n",
        "\n",
        "        if self.projection_dim:\n",
        "            # Simple linear projection head\n",
        "            self.projection_head = nn.Sequential(\n",
        "                nn.Linear(self.config.hidden_size, self.config.hidden_size), # Optional extra layer\n",
        "                nn.ReLU(),\n",
        "                nn.Linear(self.config.hidden_size, self.projection_dim)\n",
        "            )\n",
        "        else:\n",
        "             self.projection_head = nn.Identity() # No projection\n",
        "\n",
        "    def forward(self, input_ids, attention_mask, token_type_ids=None):\n",
        "         # Pass input through BERT base model\n",
        "        outputs = self.bert(input_ids=input_ids,\n",
        "                            attention_mask=attention_mask,\n",
        "                            token_type_ids=token_type_ids)\n",
        "        # Get the [CLS] token embedding\n",
        "        cls_embedding = outputs.last_hidden_state[:, 0, :]\n",
        "        # Pass CLS embedding through the projection head\n",
        "        projected_embedding = self.projection_head(cls_embedding)\n",
        "        return projected_embedding # Return the (potentially projected) embedding for contrastive loss\n",
        "\n",
        "\n",
        "# --- Fine-tuning Function ---\n",
        "def fine_tune_bert_contrastive(model, dataloader, optimizer, scheduler, loss_fn, device, epochs):\n",
        "    \"\"\"Performs contrastive fine-tuning of the BERT model.\"\"\"\n",
        "    model.train() # Set model to training mode\n",
        "    start_time = time.time()\n",
        "    total_batches = len(dataloader) * epochs\n",
        "\n",
        "    print(\"\\n--- Starting Contrastive Fine-tuning ---\")\n",
        "    for epoch in range(epochs):\n",
        "        epoch_loss = 0.0\n",
        "        epoch_start_time = time.time()\n",
        "        print(f\"\\nEpoch {epoch+1}/{epochs}\")\n",
        "\n",
        "        for i, batch in enumerate(dataloader):\n",
        "            # Move batch components to device\n",
        "            anchor_inputs = {k: v.to(device) for k, v in batch['anchor'].items()}\n",
        "            positive_inputs = {k: v.to(device) for k, v in batch['positive'].items()}\n",
        "            negative_inputs = {k: v.to(device) for k, v in batch['negative'].items()}\n",
        "\n",
        "            # Zero gradients\n",
        "            optimizer.zero_grad()\n",
        "\n",
        "            # Get embeddings from the model\n",
        "            # Note: We use the projection head output for the loss\n",
        "            anchor_emb = model(**anchor_inputs)\n",
        "            positive_emb = model(**positive_inputs)\n",
        "            negative_emb = model(**negative_inputs)\n",
        "\n",
        "            # Calculate triplet loss\n",
        "            loss = loss_fn(anchor_emb, positive_emb, negative_emb)\n",
        "\n",
        "            # Backpropagation\n",
        "            loss.backward()\n",
        "            # Optional: Gradient clipping to prevent exploding gradients\n",
        "            # torch.nn.utils.clip_grad_norm_(model.parameters(), max_norm=1.0)\n",
        "            optimizer.step()\n",
        "            scheduler.step() # Update learning rate\n",
        "\n",
        "            epoch_loss += loss.item()\n",
        "\n",
        "            if (i + 1) % 50 == 0 or i == len(dataloader) - 1: # Print progress\n",
        "                current_lr = scheduler.get_last_lr()[0]\n",
        "                print(f\"  Batch {i+1}/{len(dataloader)} | Loss: {loss.item():.4f} | LR: {current_lr:.2e}\")\n",
        "\n",
        "        avg_epoch_loss = epoch_loss / len(dataloader)\n",
        "        epoch_time = time.time() - epoch_start_time\n",
        "        print(f\"Epoch {epoch+1} finished. Average Loss: {avg_epoch_loss:.4f} | Time: {epoch_time:.2f}s\")\n",
        "\n",
        "    total_time = time.time() - start_time\n",
        "    print(f\"--- Contrastive Fine-tuning Finished ---\")\n",
        "    print(f\"Total training time: {total_time:.2f}s\")\n",
        "\n",
        "\n",
        "# --- Prepare for Contrastive Fine-tuning ---\n",
        "print(\"\\nPreparing for contrastive fine-tuning...\")\n",
        "# Create dataset and dataloader for the *training* data\n",
        "train_triplet_dataset = TripletSarcasmDataset(df_train, tokenizer, MAX_LENGTH)\n",
        "# Adjust batch size if memory issues arise\n",
        "train_triplet_dataloader = DataLoader(train_triplet_dataset, batch_size=BATCH_SIZE, shuffle=True, num_workers=2, pin_memory=True) # Add num_workers/pin_memory if using GPU\n",
        "\n",
        "# Instantiate the contrastive model wrapper\n",
        "# IMPORTANT: Pass the 'bert_model_base' which holds the pre-trained weights\n",
        "contrastive_model = ContrastiveBERT(bert_model_base, projection_dim=PROJECTION_DIM).to(device)\n",
        "\n",
        "# Define loss function and optimizer\n",
        "triplet_loss_fn = nn.TripletMarginLoss(margin=CONTRASTIVE_MARGIN, p=2) # p=2 for Euclidean distance\n",
        "optimizer = optim.AdamW(contrastive_model.parameters(), lr=CONTRASTIVE_LR)\n",
        "\n",
        "# Define scheduler\n",
        "total_steps = len(train_triplet_dataloader) * CONTRASTIVE_EPOCHS\n",
        "# Add a small number of warmup steps (e.g., 10% of first epoch)\n",
        "num_warmup_steps = int(0.1 * len(train_triplet_dataloader))\n",
        "scheduler = get_linear_schedule_with_warmup(optimizer,\n",
        "                                            num_warmup_steps=num_warmup_steps,\n",
        "                                            num_training_steps=total_steps)\n",
        "\n",
        "# --- Run Contrastive Fine-tuning ---\n",
        "# This will modify the weights within contrastive_model.bert\n",
        "fine_tune_bert_contrastive(contrastive_model, train_triplet_dataloader, optimizer, scheduler, triplet_loss_fn, device, CONTRASTIVE_EPOCHS)\n",
        "\n",
        "# --- IMPORTANT: Use the fine-tuned BASE BERT model for embedding extraction ---\n",
        "# Access the fine-tuned BERT model from the wrapper\n",
        "fine_tuned_base_bert_model = contrastive_model.bert\n",
        "fine_tuned_base_bert_model.eval() # Set to evaluation mode\n",
        "fine_tuned_base_bert_model.to(device) # Ensure it's on the right device\n",
        "\n",
        "\n",
        "# --- Generate Embeddings AFTER Fine-tuning ---\n",
        "print(\"\\nGenerating Fine-tuned BERT [CLS] embeddings for TRAIN set...\")\n",
        "X_bert_train_after_ft = get_bert_cls_embeddings(\n",
        "    df_train['clean_headline'].tolist(),\n",
        "    fine_tuned_base_bert_model, # Use the fine-tuned base model\n",
        "    tokenizer,\n",
        "    device,\n",
        "    MAX_LENGTH,\n",
        "    BATCH_SIZE\n",
        ")\n",
        "print(\"Fine-tuned BERT [CLS] TRAIN embeddings shape:\", X_bert_train_after_ft.shape)\n",
        "\n",
        "print(\"\\nGenerating Fine-tuned BERT [CLS] embeddings for TEST set...\")\n",
        "X_bert_test_after_ft = get_bert_cls_embeddings(\n",
        "    df_test['clean_headline'].tolist(),\n",
        "    fine_tuned_base_bert_model, # Use the same fine-tuned base model\n",
        "    tokenizer,\n",
        "    device,\n",
        "    MAX_LENGTH,\n",
        "    BATCH_SIZE\n",
        ")\n",
        "print(\"Fine-tuned BERT [CLS] TEST embeddings shape:\", X_bert_test_after_ft.shape)\n",
        "\n",
        "\n",
        "# --- Visualization Section ---\n",
        "print(\"\\n--- Starting Embedding Visualization (t-SNE) ---\")\n",
        "print(\"Note: t-SNE can be computationally intensive.\")\n",
        "\n",
        "# CORRECTED plot_embeddings function (no sampling inside)\n",
        "def plot_embeddings(embeddings_2d, labels, title):\n",
        "    \"\"\"Plots 2D embeddings with labels.\n",
        "       Assumes embeddings_2d and labels are already aligned and potentially sampled.\"\"\"\n",
        "    plt.figure(figsize=(10, 8))\n",
        "    unique_labels = sorted(np.unique(labels))\n",
        "    colors = plt.cm.rainbow(np.linspace(0, 1, len(unique_labels)))\n",
        "    label_map = {0: 'Not Sarcastic', 1: 'Sarcastic'} # Assuming 0/1 labels\n",
        "\n",
        "    for label, color in zip(unique_labels, colors):\n",
        "        indices = np.where(labels == label)\n",
        "        plt.scatter(embeddings_2d[indices, 0], embeddings_2d[indices, 1],\n",
        "                    c=[color], # Scatter expects a list of colors even for one color\n",
        "                    label=label_map.get(label, f\"Class {label}\"),\n",
        "                    alpha=0.7)\n",
        "\n",
        "    plt.title(title)\n",
        "    plt.xlabel(\"t-SNE Dimension 1\")\n",
        "    plt.ylabel(\"t-SNE Dimension 2\")\n",
        "    plt.legend()\n",
        "    plt.grid(True)\n",
        "    plt.tight_layout()\n",
        "    plt.show() # Use plt.show() for interactive display\n",
        "\n",
        "\n",
        "# Prepare data for t-SNE (use a subset if specified) - CORRECTED SAMPLING\n",
        "if VISUALIZATION_SAMPLE_SIZE and VISUALIZATION_SAMPLE_SIZE < len(y_test):\n",
        "    print(f\"Using a random sample of {VISUALIZATION_SAMPLE_SIZE} points for t-SNE.\")\n",
        "    # Ensure sample size is not larger than the available data\n",
        "    actual_sample_size = min(VISUALIZATION_SAMPLE_SIZE, len(y_test))\n",
        "    if actual_sample_size != VISUALIZATION_SAMPLE_SIZE:\n",
        "        print(f\"Warning: Requested sample size {VISUALIZATION_SAMPLE_SIZE} > available data {len(y_test)}. Using {actual_sample_size}.\")\n",
        "    sample_indices = np.random.choice(len(y_test), actual_sample_size, replace=False)\n",
        "\n",
        "    # Sample high-dimensional embeddings AND labels using the same indices\n",
        "    embeddings_to_tsne_before = X_bert_test_before_ft[sample_indices]\n",
        "    embeddings_to_tsne_after = X_bert_test_after_ft[sample_indices]\n",
        "    labels_for_plot = y_test[sample_indices] # Sample the labels!\n",
        "else:\n",
        "    print(\"Using all test points for t-SNE.\")\n",
        "    # No sampling needed\n",
        "    embeddings_to_tsne_before = X_bert_test_before_ft\n",
        "    embeddings_to_tsne_after = X_bert_test_after_ft\n",
        "    labels_for_plot = y_test # Use all labels\n",
        "\n",
        "\n",
        "# Apply t-SNE to \"BEFORE\" embeddings\n",
        "print(\"\\nRunning t-SNE on embeddings BEFORE fine-tuning...\")\n",
        "tsne_before = TSNE(n_components=2, random_state=RANDOM_STATE, perplexity=TSNE_PERPLEXITY, n_iter=TSNE_N_ITER, verbose=1)\n",
        "# Apply t-SNE to the (potentially sampled) high-dimensional embeddings\n",
        "embeddings_2d_before = tsne_before.fit_transform(embeddings_to_tsne_before)\n",
        "print(\"t-SNE finished for 'before' embeddings.\")\n",
        "# Call plotting function with the 2D embeddings and the corresponding (potentially sampled) labels\n",
        "plot_embeddings(embeddings_2d_before, labels_for_plot, \"BERT Embeddings BEFORE Contrastive Fine-tuning\")\n",
        "\n",
        "\n",
        "# Apply t-SNE to \"AFTER\" embeddings\n",
        "print(\"\\nRunning t-SNE on embeddings AFTER fine-tuning...\")\n",
        "tsne_after = TSNE(n_components=2, random_state=RANDOM_STATE, perplexity=TSNE_PERPLEXITY, n_iter=TSNE_N_ITER, verbose=1)\n",
        "# Apply t-SNE to the (potentially sampled) high-dimensional embeddings\n",
        "embeddings_2d_after = tsne_after.fit_transform(embeddings_to_tsne_after)\n",
        "print(\"t-SNE finished for 'after' embeddings.\")\n",
        "# Call plotting function with the 2D embeddings and the corresponding (potentially sampled) labels\n",
        "plot_embeddings(embeddings_2d_after, labels_for_plot, \"BERT Embeddings AFTER Contrastive Fine-tuning\")\n",
        "\n",
        "print(\"--- Embedding Visualization Finished ---\")"
      ],
      "metadata": {
        "colab": {
          "base_uri": "https://localhost:8080/",
          "height": 1000
        },
        "id": "SmeiamZGwDir",
        "outputId": "4751da1e-8494-46fc-c01a-023c90740d98"
      },
      "execution_count": null,
      "outputs": [
        {
          "output_type": "stream",
          "name": "stdout",
          "text": [
            "Loaded data with 28619 samples.\n",
            "Class distribution:\n",
            "is_sarcastic\n",
            "0    0.523603\n",
            "1    0.476397\n",
            "Name: proportion, dtype: float64\n",
            "\n",
            "Splitting data into train/test sets...\n",
            "Train set size: 21464, Test set size: 7155\n",
            "\n",
            "Loading tokenizer and base BERT model: bert-base-uncased\n",
            "Using device: cuda\n",
            "\n",
            "Generating BERT [CLS] embeddings BEFORE fine-tuning (for visualization)...\n",
            "  Generating embeddings for 7155 texts in batches of 32...\n",
            "    Processed batch 50/224 (22.3%) | ETA: 38.0s\n",
            "    Processed batch 100/224 (44.6%) | ETA: 27.3s\n",
            "    Processed batch 150/224 (67.0%) | ETA: 16.6s\n",
            "    Processed batch 200/224 (89.3%) | ETA: 5.3s\n",
            "    Processed batch 224/224 (100.0%) | ETA: 0.0s\n",
            "  Finished generating embeddings in 49.44s.\n",
            "BERT [CLS] TEST embeddings BEFORE fine-tuning shape: (7155, 768)\n",
            "\n",
            "Preparing for contrastive fine-tuning...\n",
            "\n",
            "--- Starting Contrastive Fine-tuning ---\n",
            "\n",
            "Epoch 1/3\n",
            "  Batch 50/671 | Loss: 0.3084 | LR: 1.49e-05\n",
            "  Batch 100/671 | Loss: 0.2134 | LR: 1.97e-05\n",
            "  Batch 150/671 | Loss: 0.1106 | LR: 1.91e-05\n",
            "  Batch 200/671 | Loss: 0.1217 | LR: 1.86e-05\n",
            "  Batch 250/671 | Loss: 0.2636 | LR: 1.81e-05\n",
            "  Batch 300/671 | Loss: 0.1952 | LR: 1.76e-05\n",
            "  Batch 350/671 | Loss: 0.1324 | LR: 1.71e-05\n",
            "  Batch 400/671 | Loss: 0.1622 | LR: 1.66e-05\n",
            "  Batch 450/671 | Loss: 0.2058 | LR: 1.61e-05\n",
            "  Batch 500/671 | Loss: 0.2108 | LR: 1.55e-05\n",
            "  Batch 550/671 | Loss: 0.0713 | LR: 1.50e-05\n",
            "  Batch 600/671 | Loss: 0.0735 | LR: 1.45e-05\n",
            "  Batch 650/671 | Loss: 0.1041 | LR: 1.40e-05\n",
            "  Batch 671/671 | Loss: 0.0747 | LR: 1.38e-05\n",
            "Epoch 1 finished. Average Loss: 0.1904 | Time: 1172.47s\n",
            "\n",
            "Epoch 2/3\n",
            "  Batch 50/671 | Loss: 0.0766 | LR: 1.33e-05\n",
            "  Batch 100/671 | Loss: 0.0994 | LR: 1.28e-05\n",
            "  Batch 150/671 | Loss: 0.0197 | LR: 1.23e-05\n",
            "  Batch 200/671 | Loss: 0.0326 | LR: 1.17e-05\n",
            "  Batch 250/671 | Loss: 0.2321 | LR: 1.12e-05\n",
            "  Batch 300/671 | Loss: 0.0359 | LR: 1.07e-05\n",
            "  Batch 350/671 | Loss: 0.0072 | LR: 1.02e-05\n",
            "  Batch 400/671 | Loss: 0.0986 | LR: 9.68e-06\n",
            "  Batch 450/671 | Loss: 0.0578 | LR: 9.17e-06\n",
            "  Batch 500/671 | Loss: 0.0673 | LR: 8.65e-06\n",
            "  Batch 550/671 | Loss: 0.0046 | LR: 8.14e-06\n",
            "  Batch 600/671 | Loss: 0.0538 | LR: 7.63e-06\n",
            "  Batch 650/671 | Loss: 0.0323 | LR: 7.11e-06\n",
            "  Batch 671/671 | Loss: 0.0529 | LR: 6.90e-06\n",
            "Epoch 2 finished. Average Loss: 0.0719 | Time: 1160.46s\n",
            "\n",
            "Epoch 3/3\n",
            "  Batch 50/671 | Loss: 0.0720 | LR: 6.38e-06\n",
            "  Batch 100/671 | Loss: 0.0655 | LR: 5.87e-06\n",
            "  Batch 150/671 | Loss: 0.0208 | LR: 5.35e-06\n",
            "  Batch 200/671 | Loss: 0.0292 | LR: 4.84e-06\n",
            "  Batch 250/671 | Loss: 0.0955 | LR: 4.33e-06\n",
            "  Batch 300/671 | Loss: 0.0203 | LR: 3.81e-06\n",
            "  Batch 350/671 | Loss: 0.0337 | LR: 3.30e-06\n",
            "  Batch 400/671 | Loss: 0.0303 | LR: 2.79e-06\n",
            "  Batch 450/671 | Loss: 0.0058 | LR: 2.27e-06\n",
            "  Batch 500/671 | Loss: 0.0561 | LR: 1.76e-06\n",
            "  Batch 550/671 | Loss: 0.0276 | LR: 1.24e-06\n",
            "  Batch 600/671 | Loss: 0.0938 | LR: 7.30e-07\n",
            "  Batch 650/671 | Loss: 0.0319 | LR: 2.16e-07\n",
            "  Batch 671/671 | Loss: 0.0296 | LR: 0.00e+00\n",
            "Epoch 3 finished. Average Loss: 0.0349 | Time: 1154.32s\n",
            "--- Contrastive Fine-tuning Finished ---\n",
            "Total training time: 3487.26s\n",
            "\n",
            "Generating Fine-tuned BERT [CLS] embeddings for TRAIN set...\n",
            "  Generating embeddings for 21464 texts in batches of 32...\n",
            "    Processed batch 50/671 (7.5%) | ETA: 128.5s\n",
            "    Processed batch 100/671 (14.9%) | ETA: 118.2s\n",
            "    Processed batch 150/671 (22.4%) | ETA: 107.9s\n",
            "    Processed batch 200/671 (29.8%) | ETA: 97.5s\n",
            "    Processed batch 250/671 (37.3%) | ETA: 87.2s\n",
            "    Processed batch 300/671 (44.7%) | ETA: 76.8s\n",
            "    Processed batch 350/671 (52.2%) | ETA: 66.5s\n",
            "    Processed batch 400/671 (59.6%) | ETA: 56.1s\n",
            "    Processed batch 450/671 (67.1%) | ETA: 45.9s\n",
            "    Processed batch 500/671 (74.5%) | ETA: 35.6s\n",
            "    Processed batch 550/671 (82.0%) | ETA: 25.2s\n",
            "    Processed batch 600/671 (89.4%) | ETA: 14.8s\n",
            "    Processed batch 650/671 (96.9%) | ETA: 4.4s\n",
            "    Processed batch 671/671 (100.0%) | ETA: 0.0s\n",
            "  Finished generating embeddings in 139.51s.\n",
            "Fine-tuned BERT [CLS] TRAIN embeddings shape: (21464, 768)\n",
            "\n",
            "Generating Fine-tuned BERT [CLS] embeddings for TEST set...\n",
            "  Generating embeddings for 7155 texts in batches of 32...\n",
            "    Processed batch 50/224 (22.3%) | ETA: 36.4s\n",
            "    Processed batch 100/224 (44.6%) | ETA: 26.0s\n",
            "    Processed batch 150/224 (67.0%) | ETA: 15.6s\n",
            "    Processed batch 200/224 (89.3%) | ETA: 5.0s\n",
            "    Processed batch 224/224 (100.0%) | ETA: 0.0s\n",
            "  Finished generating embeddings in 46.79s.\n",
            "Fine-tuned BERT [CLS] TEST embeddings shape: (7155, 768)\n",
            "\n",
            "--- Starting Embedding Visualization (t-SNE) ---\n",
            "Note: t-SNE can be computationally intensive.\n",
            "Using a random sample of 1000 points for t-SNE.\n",
            "\n",
            "Running t-SNE on embeddings BEFORE fine-tuning...\n",
            "[t-SNE] Computing 91 nearest neighbors...\n",
            "[t-SNE] Indexed 1000 samples in 0.001s...\n",
            "[t-SNE] Computed neighbors for 1000 samples in 0.183s...\n"
          ]
        },
        {
          "output_type": "stream",
          "name": "stderr",
          "text": [
            "/usr/local/lib/python3.11/dist-packages/sklearn/manifold/_t_sne.py:1164: FutureWarning: 'n_iter' was renamed to 'max_iter' in version 1.5 and will be removed in 1.7.\n",
            "  warnings.warn(\n"
          ]
        },
        {
          "output_type": "stream",
          "name": "stdout",
          "text": [
            "[t-SNE] Computed conditional probabilities for sample 1000 / 1000\n",
            "[t-SNE] Mean sigma: 2.134974\n",
            "[t-SNE] KL divergence after 250 iterations with early exaggeration: 66.757385\n",
            "[t-SNE] KL divergence after 300 iterations: 2.132796\n",
            "t-SNE finished for 'before' embeddings.\n"
          ]
        },
        {
          "output_type": "display_data",
          "data": {
            "text/plain": [
              "<Figure size 1000x800 with 1 Axes>"
            ],
            "image/png": "[encoded data removed]"
          },
          "metadata": {}
        },
        {
          "output_type": "stream",
          "name": "stdout",
          "text": [
            "\n",
            "Running t-SNE on embeddings AFTER fine-tuning...\n",
            "[t-SNE] Computing 91 nearest neighbors...\n",
            "[t-SNE] Indexed 1000 samples in 0.001s...\n",
            "[t-SNE] Computed neighbors for 1000 samples in 0.085s...\n",
            "[t-SNE] Computed conditional probabilities for sample 1000 / 1000\n",
            "[t-SNE] Mean sigma: 1.947435\n"
          ]
        },
        {
          "output_type": "stream",
          "name": "stderr",
          "text": [
            "/usr/local/lib/python3.11/dist-packages/sklearn/manifold/_t_sne.py:1164: FutureWarning: 'n_iter' was renamed to 'max_iter' in version 1.5 and will be removed in 1.7.\n",
            "  warnings.warn(\n"
          ]
        },
        {
          "output_type": "stream",
          "name": "stdout",
          "text": [
            "[t-SNE] KL divergence after 250 iterations with early exaggeration: 59.091061\n",
            "[t-SNE] KL divergence after 300 iterations: 1.570489\n",
            "t-SNE finished for 'after' embeddings.\n"
          ]
        },
        {
          "output_type": "display_data",
          "data": {
            "text/plain": [
              "<Figure size 1000x800 with 1 Axes>"
            ],
            "image/png": "[encoded data removed]"
          },
          "metadata": {}
        },
        {
          "output_type": "stream",
          "name": "stdout",
          "text": [
            "--- Embedding Visualization Finished ---\n"
          ]
        }
      ]
    },
    {
      "cell_type": "code",
      "source": [
        "# --- Feature Generation (using fine-tuned BERT for downstream task) ---\n",
        "\n",
        "# 1. Linguistic Features for TRAIN and TEST sets\n",
        "print(\"\\nExtracting linguistic features...\")\n",
        "ling_feature_names = ['text_length', 'noun_count', 'verb_count', 'adj_count', 'adv_count', 'dale_chall_score',\n",
        "                      'sentiment_score', 'char_count', 'capital_char_count', 'capital_word_count',\n",
        "                      'stopword_count', 'stopwords_vs_words', 'contrastive_marker', 'entropy',\n",
        "                      'lexical_diversity', 'sentiment_incongruity', 'difficult_word_count']\n",
        "\n",
        "# Ensure all ling features exist, fill missing with 0 or mean if appropriate\n",
        "for col in ling_feature_names:\n",
        "    if col not in df_train.columns:\n",
        "        print(f\"Warning: Linguistic feature '{col}' not found in training data. Filling with 0.\")\n",
        "        df_train[col] = 0\n",
        "    if col not in df_test.columns:\n",
        "        print(f\"Warning: Linguistic feature '{col}' not found in test data. Filling with 0.\")\n",
        "        df_test[col] = 0\n",
        "    # Optional: Impute with mean/median from training data if more appropriate than 0\n",
        "    # if df_train[col].isnull().any():\n",
        "    #     mean_val = df_train[col].mean() # Or median()\n",
        "    #     df_train[col] = df_train[col].fillna(mean_val)\n",
        "    #     df_test[col] = df_test[col].fillna(mean_val) # Use train mean for test\n",
        "\n",
        "# Handle potential NaN values that might arise if features weren't generated correctly\n",
        "df_train[ling_feature_names] = df_train[ling_feature_names].fillna(0)\n",
        "df_test[ling_feature_names] = df_test[ling_feature_names].fillna(0)\n",
        "\n",
        "X_ling_train = df_train[ling_feature_names].values\n",
        "X_ling_test = df_test[ling_feature_names].values\n",
        "print(\"Linguistic TRAIN features shape:\", X_ling_train.shape)\n",
        "print(\"Linguistic TEST features shape:\", X_ling_test.shape)\n",
        "\n",
        "# 2. Combine Fine-tuned BERT [CLS] + Linguistic Features (Dense) for TRAIN and TEST\n",
        "print(\"\\nCombining Fine-tuned BERT [CLS] and linguistic features...\")\n",
        "# Use the 'after_ft' embeddings generated earlier\n",
        "X_gling_train = np.hstack([X_bert_train_after_ft, X_ling_train])\n",
        "X_gling_test = np.hstack([X_bert_test_after_ft, X_ling_test])\n",
        "print(\"Combined BERT+Ling TRAIN shape:\", X_gling_train.shape)\n",
        "print(\"Combined BERT+Ling TEST shape:\", X_gling_test.shape)\n",
        "\n",
        "# --- Feature Scaling (Fit on TRAIN, Transform TRAIN and TEST) ---\n",
        "print(\"\\nScaling combined BERT+Ling features...\")\n",
        "# Scale only the combined dense features before adding sparse TF-IDF\n",
        "scaler = StandardScaler()\n",
        "X_gling_train_scaled = scaler.fit_transform(X_gling_train) # Fit ONLY on training data\n",
        "X_gling_test_scaled = scaler.transform(X_gling_test)   # Transform test data\n",
        "\n",
        "# Convert scaled dense features to sparse format for hstack\n",
        "X_train_sparse_scaled_gling = csr_matrix(X_gling_train_scaled)\n",
        "X_test_sparse_scaled_gling = csr_matrix(X_gling_test_scaled)\n",
        "print(\"Scaled Combined BERT+Ling TRAIN features shape (sparse):\", X_train_sparse_scaled_gling.shape)\n",
        "print(\"Scaled Combined BERT+Ling TEST features shape (sparse):\", X_test_sparse_scaled_gling.shape)\n",
        "\n",
        "# --- TF-IDF Features (Fit on TRAIN, Transform TRAIN and TEST) ---\n",
        "print(\"\\nGenerating TF-IDF features...\")\n",
        "# Consider limiting features or using min/max df\n",
        "tfidf = TfidfVectorizer(max_features=5000, min_df=3, max_df=0.9)\n",
        "\n",
        "# Fit TF-IDF ONLY on the training text data\n",
        "X_train_tfidf = tfidf.fit_transform(df_train['clean_headline'])\n",
        "# Transform the test text data using the fitted TF-IDF vectorizer\n",
        "X_test_tfidf = tfidf.transform(df_test['clean_headline'])\n",
        "print(\"TF-IDF Train shape:\", X_train_tfidf.shape)\n",
        "print(\"TF-IDF Test shape:\", X_test_tfidf.shape)\n",
        "\n",
        "# --- Final Feature Combination ---\n",
        "print(\"\\nCombining TF-IDF and Scaled (Fine-tuned BERT+Ling) features...\")\n",
        "# Combine TF-IDF + Scaled(BERT+Ling) features using hstack\n",
        "X_train_combined = hstack([X_train_tfidf, X_train_sparse_scaled_gling])\n",
        "X_test_combined = hstack([X_test_tfidf, X_test_sparse_scaled_gling])\n",
        "print(\"Final Combined Train shape:\", X_train_combined.shape)\n",
        "print(\"Final Combined Test shape:\", X_test_combined.shape)\n",
        "\n",
        "# --- Logistic Regression Model ---\n",
        "print(\"\\n--- Training Downstream Classifier (Logistic Regression) ---\")\n",
        "# Use a solver suitable for potentially large sparse data like liblinear or saga\n",
        "# Increased max_iter substantially for potentially harder convergence with high dimensions\n",
        "# Added C for regularization strength (smaller C = stronger regularization)\n",
        "lr = LogisticRegression(class_weight='balanced', max_iter=5000, random_state=RANDOM_STATE, solver='liblinear', C=1.0, tol=1e-4)\n",
        "print(\"Training Logistic Regression model...\")\n",
        "train_start_time = time.time()\n",
        "lr.fit(X_train_combined, y_train)\n",
        "print(f\"Training finished in {time.time() - train_start_time:.2f}s\")\n",
        "\n",
        "print(\"\\nEvaluating Logistic Regression model on the test set...\")\n",
        "eval_start_time = time.time()\n",
        "y_pred = lr.predict(X_test_combined)\n",
        "y_pred_proba = lr.predict_proba(X_test_combined)[:, 1] # Get probabilities for class 1 (sarcastic)\n",
        "print(f\"Evaluation finished in {time.time() - eval_start_time:.2f}s\")\n",
        "\n",
        "print(\"\\n--- Classification Results ---\")\n",
        "print(\"\\nClassification Report:\")\n",
        "# Use zero_division=0 to handle cases where a class might have no predictions/support\n",
        "print(classification_report(y_test, y_pred, target_names=['Not Sarcastic', 'Sarcastic'], zero_division=0))\n",
        "\n",
        "print(\"\\nConfusion Matrix:\")\n",
        "# Plotting the confusion matrix might be nice for an exhibition\n",
        "try:\n",
        "    from sklearn.metrics import ConfusionMatrixDisplay\n",
        "    cm = confusion_matrix(y_test, y_pred, labels=lr.classes_)\n",
        "    disp = ConfusionMatrixDisplay(confusion_matrix=cm, display_labels=['Not Sarcastic', 'Sarcastic'])\n",
        "    disp.plot(cmap=plt.cm.Blues)\n",
        "    plt.title(\"Confusion Matrix\")\n",
        "    plt.show()\n",
        "except ImportError:\n",
        "    print(\"Confusion Matrix (sklearn.metrics.ConfusionMatrixDisplay not available):\")\n",
        "    print(confusion_matrix(y_test, y_pred, labels=lr.classes_))\n",
        "\n",
        "\n",
        "print(f\"\\nMacro F1 Score: {f1_score(y_test, y_pred, average='macro', zero_division=0):.4f}\")\n",
        "print(f\"Weighted F1 Score: {f1_score(y_test, y_pred, average='weighted', zero_division=0):.4f}\")\n",
        "\n",
        "# You could also calculate AUC if needed\n",
        "# from sklearn.metrics import roc_auc_score\n",
        "# try:\n",
        "#     auc = roc_auc_score(y_test, y_pred_proba)\n",
        "#     print(f\"AUC Score: {auc:.4f}\")\n",
        "# except ValueError:\n",
        "#     print(\"AUC score cannot be calculated (might need probabilities or only one class present in y_true).\")\n",
        "\n",
        "\n",
        "print(\"\\n--- Script Finished ---\")"
      ],
      "metadata": {
        "id": "5xLXrnSawFa_",
        "colab": {
          "base_uri": "https://localhost:8080/",
          "height": 1000
        },
        "outputId": "a174cb81-d806-427f-dbc6-43b4965f9bc3"
      },
      "execution_count": null,
      "outputs": [
        {
          "output_type": "stream",
          "name": "stdout",
          "text": [
            "\n",
            "Extracting linguistic features...\n",
            "Linguistic TRAIN features shape: (21464, 17)\n",
            "Linguistic TEST features shape: (7155, 17)\n",
            "\n",
            "Combining Fine-tuned BERT [CLS] and linguistic features...\n",
            "Combined BERT+Ling TRAIN shape: (21464, 785)\n",
            "Combined BERT+Ling TEST shape: (7155, 785)\n",
            "\n",
            "Scaling combined BERT+Ling features...\n",
            "Scaled Combined BERT+Ling TRAIN features shape (sparse): (21464, 785)\n",
            "Scaled Combined BERT+Ling TEST features shape (sparse): (7155, 785)\n",
            "\n",
            "Generating TF-IDF features...\n",
            "TF-IDF Train shape: (21464, 5000)\n",
            "TF-IDF Test shape: (7155, 5000)\n",
            "\n",
            "Combining TF-IDF and Scaled (Fine-tuned BERT+Ling) features...\n",
            "Final Combined Train shape: (21464, 5785)\n",
            "Final Combined Test shape: (7155, 5785)\n",
            "\n",
            "--- Training Downstream Classifier (Logistic Regression) ---\n",
            "Training Logistic Regression model...\n",
            "Training finished in 12.96s\n",
            "\n",
            "Evaluating Logistic Regression model on the test set...\n",
            "Evaluation finished in 0.03s\n",
            "\n",
            "--- Classification Results ---\n",
            "\n",
            "Classification Report:\n",
            "               precision    recall  f1-score   support\n",
            "\n",
            "Not Sarcastic       0.92      0.94      0.93      3746\n",
            "    Sarcastic       0.93      0.91      0.92      3409\n",
            "\n",
            "     accuracy                           0.92      7155\n",
            "    macro avg       0.92      0.92      0.92      7155\n",
            " weighted avg       0.92      0.92      0.92      7155\n",
            "\n",
            "\n",
            "Confusion Matrix:\n"
          ]
        },
        {
          "output_type": "display_data",
          "data": {
            "text/plain": [
              "<Figure size 640x480 with 2 Axes>"
            ],
            "image/png": "[encoded data removed]"
          },
          "metadata": {}
        },
        {
          "output_type": "stream",
          "name": "stdout",
          "text": [
            "\n",
            "Macro F1 Score: 0.9226\n",
            "Weighted F1 Score: 0.9228\n",
            "\n",
            "--- Script Finished ---\n"
          ]
        }
      ]
    }
  ]
}